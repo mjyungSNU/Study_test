{
 "cells": [
  {
   "cell_type": "markdown",
   "metadata": {},
   "source": [
    "# Week 6: 함수와 파일"
   ]
  },
  {
   "cell_type": "markdown",
   "metadata": {},
   "source": [
    "## 2019 Summer"
   ]
  },
  {
   "cell_type": "markdown",
   "metadata": {},
   "source": [
    "### Mina Jyung"
   ]
  },
  {
   "cell_type": "markdown",
   "metadata": {},
   "source": [
    "# 1. 함수 (Functions)"
   ]
  },
  {
   "cell_type": "markdown",
   "metadata": {},
   "source": [
    ">우리는 믹서기에 과일을 넣고 과일을 갈아 과일 주스를 만든다. 우리가 믹서기에 넣는 과일은 **입력**이 되고 과일 주스는 **출력(결과값)**이 된다. 그리고 믹서기는 우리가 배우려는 **함수**이다.\n",
    "\n",
    ">함수를 사용하는 이유는 무엇일까? (1) 똑같은 내용을 반복해서 작성을 해야하는 경우, **반복적으로 사용되는 가치 있는 부분**을 한 뭉치로 묶어서 **어떤 입력값을 주었을 때 어떤 결괏값을 돌려준다**라는 식의 함수로 작성할 수 있다. (2) 자신이 만든 프로그램을 함수화하면 프로그램 흐름을 일목요연하게 볼 수 있다. 따라서, 프로그램 흐름도 잘 파악할 수 있고 오류가 어디에서 나는지도 바로 알아차릴 수 있다."
   ]
  },
  {
   "cell_type": "markdown",
   "metadata": {},
   "source": [
    "## 1.1 함수의 기본 구조"
   ]
  },
  {
   "cell_type": "code",
   "execution_count": null,
   "metadata": {},
   "outputs": [],
   "source": [
    "def 함수 이름 (매개변수):\n",
    "    수행할 문장 1\n",
    "    수행할 문장 2\n",
    "    . . . "
   ]
  },
  {
   "cell_type": "markdown",
   "metadata": {},
   "source": [
    "* <span style=\"color:green\">**def**</span>: 함수를 만들 때 사용하는 예약어 \n",
    "\n",
    "\n",
    "* <span style=\"color:blue\">**함수_이름**</span>: 함수를 만드는 사람이 임의로 만든 이름 \n",
    "\n",
    "\n",
    "* **매개변수**: 이 함수에 입력으로 전달되는 값을 받는 변수\n",
    "\n",
    "\n",
    "* 이렇게 함수를 정의한 후 if, while, for문처럼 함수에서 수행할 문장을 입력"
   ]
  },
  {
   "cell_type": "code",
   "execution_count": 1,
   "metadata": {},
   "outputs": [],
   "source": [
    "# 예시: \"함수의 이름은 add이고 입력으로 2개의 값을 받으며 결괏값은 2개의 입력값을 더한 값이다.\"\n",
    "\n",
    "def add(a,b):\n",
    "    return a + b   # return()은 함수의 결과값을 반환한다."
   ]
  },
  {
   "cell_type": "code",
   "execution_count": 2,
   "metadata": {},
   "outputs": [
    {
     "name": "stdout",
     "output_type": "stream",
     "text": [
      "6\n"
     ]
    }
   ],
   "source": [
    "# 위의 add 함수를 사용해보자\n",
    "\n",
    "a = 2\n",
    "b = 4\n",
    "c = add(a,b)\n",
    "print(c)"
   ]
  },
  {
   "cell_type": "markdown",
   "metadata": {},
   "source": [
    "## 1.2 매개변수(Parameter)와 인수(Arguments)\n",
    "\n",
    "* 매개변수: 함수에 입력으로 전달된 값을 받는 변수\n",
    "* 인수: 함수를 호출할 때 전달하는 입력값\n",
    "\n",
    "\n",
    "* 매개변수와 인수는 혼용해서 사용되는 헷갈리는 용어이므로 잘 기억해두자"
   ]
  },
  {
   "cell_type": "code",
   "execution_count": 3,
   "metadata": {},
   "outputs": [
    {
     "name": "stdout",
     "output_type": "stream",
     "text": [
      "7\n"
     ]
    }
   ],
   "source": [
    "def add(a,b):   # a, b는 매개변수\n",
    "    return a + b\n",
    "\n",
    "print(add(3,4))   # 3, 4는 인수"
   ]
  },
  {
   "cell_type": "markdown",
   "metadata": {},
   "source": [
    "## 1.3 입력값과 결과값에 따른 함수의 형태\n",
    "\n",
    "* 함수는 들어온 입력값을 받아 어떤 처리를 하여 적절한 결괏값을 돌려준다.\n",
    "\n",
    "\n",
    "* <span style=\"color:purple\">입력값 &rarr; **함수** &rarr; 결괏값</span>\n",
    "\n",
    "\n",
    "* 이때, 입력값과 결괏값의 존재 유무에 따라 4가지 유형으로 나뉜다."
   ]
  },
  {
   "cell_type": "markdown",
   "metadata": {},
   "source": [
    "### 1.3.1 일반적인 함수\n",
    "\n",
    "* 결괏값을 받을 변수 = 함수 이름(입력인수 1, 입력인수 2, ...)"
   ]
  },
  {
   "cell_type": "code",
   "execution_count": null,
   "metadata": {},
   "outputs": [],
   "source": [
    "# 기본 구조\n",
    "\n",
    "def 함수 이름(매개변수):\n",
    "    수행할 문장\n",
    "    return 결괏값"
   ]
  },
  {
   "cell_type": "code",
   "execution_count": 11,
   "metadata": {},
   "outputs": [],
   "source": [
    "# 예시\n",
    "\n",
    "def add(a,b):\n",
    "    result = a + b\n",
    "    return result"
   ]
  },
  {
   "cell_type": "code",
   "execution_count": 12,
   "metadata": {},
   "outputs": [
    {
     "name": "stdout",
     "output_type": "stream",
     "text": [
      "6\n"
     ]
    }
   ],
   "source": [
    "a = add(2,4)\n",
    "print(a)"
   ]
  },
  {
   "cell_type": "markdown",
   "metadata": {},
   "source": [
    "### 1.3.2 입력값이 없는 함수\n",
    "\n",
    "* 결괏값을 받을 변수 = 함수 이름()"
   ]
  },
  {
   "cell_type": "code",
   "execution_count": null,
   "metadata": {},
   "outputs": [],
   "source": [
    "# 기본 구조\n",
    "\n",
    "def 함수 이름():\n",
    "    return 결괏값"
   ]
  },
  {
   "cell_type": "code",
   "execution_count": 2,
   "metadata": {},
   "outputs": [],
   "source": [
    "def say():\n",
    "    return 'Python!'"
   ]
  },
  {
   "cell_type": "code",
   "execution_count": 3,
   "metadata": {},
   "outputs": [
    {
     "name": "stdout",
     "output_type": "stream",
     "text": [
      "Python!\n"
     ]
    }
   ],
   "source": [
    "a = say()\n",
    "print(a)"
   ]
  },
  {
   "cell_type": "code",
   "execution_count": 4,
   "metadata": {},
   "outputs": [
    {
     "data": {
      "text/plain": [
       "'Python!'"
      ]
     },
     "execution_count": 4,
     "metadata": {},
     "output_type": "execute_result"
    }
   ],
   "source": [
    "say()"
   ]
  },
  {
   "cell_type": "markdown",
   "metadata": {},
   "source": [
    "### 1.3.3 결괏값이 없는 함수\n",
    "\n",
    "* 함수 이름(입력인수1, 입력인수2, ...)"
   ]
  },
  {
   "cell_type": "code",
   "execution_count": null,
   "metadata": {},
   "outputs": [],
   "source": [
    "# 기본 구조\n",
    "\n",
    "def 함수 이름(매개변수):\n",
    "    print(수행할 문장)"
   ]
  },
  {
   "cell_type": "code",
   "execution_count": 18,
   "metadata": {},
   "outputs": [],
   "source": [
    "def add(a,b):\n",
    "    print(\"%d와 %d의 합은 %d입니다.\" %(a,b,a + b))"
   ]
  },
  {
   "cell_type": "code",
   "execution_count": 19,
   "metadata": {},
   "outputs": [
    {
     "name": "stdout",
     "output_type": "stream",
     "text": [
      "2와 4의 합은 6입니다.\n"
     ]
    }
   ],
   "source": [
    "# 결괏값이 없는 함수는 호출해도 돌려주는 값이 없기 때문에 다음과 같이 사용한다.\n",
    "\n",
    "add(2,4)"
   ]
  },
  {
   "cell_type": "code",
   "execution_count": 22,
   "metadata": {},
   "outputs": [
    {
     "name": "stdout",
     "output_type": "stream",
     "text": [
      "2와 4의 합은 6입니다.\n"
     ]
    }
   ],
   "source": [
    "a = add(2,4)"
   ]
  },
  {
   "cell_type": "markdown",
   "metadata": {},
   "source": [
    "*** 문장을 출력해 주었는데 왜 결괏값이 없을까? <span style=\"color:green\">print</span>문은 함수의 구성 요소 중 하나인 <수행할 문장>에 해당하는 부분일 뿐이다. 결괏값은 오직 <span style=\"color:green\">return</span> 명령어로만 돌려받을 수 있다**"
   ]
  },
  {
   "cell_type": "code",
   "execution_count": 23,
   "metadata": {},
   "outputs": [
    {
     "name": "stdout",
     "output_type": "stream",
     "text": [
      "None\n"
     ]
    }
   ],
   "source": [
    "print(a)   # \"None\"은 거짓을 나타내는 자료형이다.\n",
    "           # print(a)는 결괏값을 불러오는데, 위의 식에서는 결괏값이 없으므로 None 출력된다."
   ]
  },
  {
   "cell_type": "markdown",
   "metadata": {},
   "source": [
    "### 1.3.4 입력값도 결괏값도 없는 함수\n",
    "\n",
    "* 함수 이름( )"
   ]
  },
  {
   "cell_type": "code",
   "execution_count": null,
   "metadata": {},
   "outputs": [],
   "source": [
    "# 기본 구조\n",
    "\n",
    "def 함수 이름():\n",
    "    print(수행할 문장)"
   ]
  },
  {
   "cell_type": "code",
   "execution_count": 25,
   "metadata": {},
   "outputs": [],
   "source": [
    "def say():\n",
    "    print(\"Python!\")"
   ]
  },
  {
   "cell_type": "code",
   "execution_count": 26,
   "metadata": {},
   "outputs": [
    {
     "name": "stdout",
     "output_type": "stream",
     "text": [
      "Python!\n"
     ]
    }
   ],
   "source": [
    "say()"
   ]
  },
  {
   "cell_type": "markdown",
   "metadata": {},
   "source": [
    "## 1.4 매개변수 지정 후 호출"
   ]
  },
  {
   "cell_type": "code",
   "execution_count": 27,
   "metadata": {},
   "outputs": [],
   "source": [
    "def add(a,b):\n",
    "    return a + b"
   ]
  },
  {
   "cell_type": "code",
   "execution_count": 28,
   "metadata": {},
   "outputs": [
    {
     "name": "stdout",
     "output_type": "stream",
     "text": [
      "6\n"
     ]
    }
   ],
   "source": [
    "result = add(a=2, b=4)  # a에 2, b에 4를 지정한다. 이때, 순서 상관없이 \"b=4, a=2\"도 가능하다.\n",
    "print(result)"
   ]
  },
  {
   "cell_type": "code",
   "execution_count": null,
   "metadata": {},
   "outputs": [],
   "source": [
    "a = 2\n",
    "b = 4\n",
    "c = add(a,b)\n",
    "print(c)"
   ]
  },
  {
   "cell_type": "markdown",
   "metadata": {},
   "source": [
    "## 1.5 입력값의 개수를 모르는 경우\n",
    "\n",
    "* **몇 개가 입력될지 모르는** 여러 개의 입력값을 모두 더해 주는 함수"
   ]
  },
  {
   "cell_type": "code",
   "execution_count": null,
   "metadata": {},
   "outputs": [],
   "source": [
    "#기본 구조\n",
    "\n",
    "def 함수 이름(*매개변수):   #매개변수 부분이 \"*매개변수\"로 바뀌었다.  \n",
    "    수행할 문장\n",
    "    . . ."
   ]
  },
  {
   "cell_type": "code",
   "execution_count": 29,
   "metadata": {},
   "outputs": [],
   "source": [
    "def add_many(*args):   # args는 매개변수를 뜻하는 영어 단어 arguments의 약자이며 관례적으로 자주 사용한다.\n",
    "    result = 0\n",
    "    for i in args:\n",
    "        result = result + i\n",
    "    return result"
   ]
  },
  {
   "cell_type": "markdown",
   "metadata": {},
   "source": [
    "* 위의 add_many 함수는 입력값이 몇 개이든 상관이 없다. \"***args**\"처럼 매개변수 이름 앞에 *****을 붙이면 입력값을 전부 모아서 튜플로 만들어 주기 때문이다.\n",
    "\n",
    "\n",
    "* 따라서, add_many(1,2,3)처럼 함수를 쓰면 args는 (1,2,3)이 되고,add_many(1,2,3,4,5,6,7)처럼 쓰면 args는 (1,2,3,4,5,6,7)이 된다. \n",
    "\n",
    "\n",
    "* 여기에서 *args는 임의로 정한 변수로 아무 이름을 지정해서 써도 된다. "
   ]
  },
  {
   "cell_type": "code",
   "execution_count": 30,
   "metadata": {
    "scrolled": true
   },
   "outputs": [
    {
     "name": "stdout",
     "output_type": "stream",
     "text": [
      "120\n"
     ]
    }
   ],
   "source": [
    "result = add_many(1,2,3,4,5,6,7,8,9,10,11,12,13,14,15)\n",
    "print(result)"
   ]
  },
  {
   "cell_type": "code",
   "execution_count": 5,
   "metadata": {},
   "outputs": [
    {
     "name": "stdout",
     "output_type": "stream",
     "text": [
      "121\n"
     ]
    }
   ],
   "source": [
    "def add_many(*args):   # args는 매개변수를 뜻하는 영어 단어 arguments의 약자이며 관례적으로 자주 사용한다.\n",
    "    result = 1\n",
    "    for i in args:\n",
    "        result = result + i\n",
    "    return result\n",
    "\n",
    "result = add_many(1,2,3,4,5,6,7,8,9,10,11,12,13,14,15)\n",
    "print(result)"
   ]
  },
  {
   "cell_type": "code",
   "execution_count": 32,
   "metadata": {},
   "outputs": [],
   "source": [
    "# 여러 개의 매개변수도 사용 가능!\n",
    "\n",
    "def add_many2(choice, *args):   # *args 매개변수 앞에 choice 매개변수 추가\n",
    "    if choice == \"add\":\n",
    "        result = 0\n",
    "        for i in args:\n",
    "            result = result + i   # 모든 값 더하기\n",
    "    elif choice == \"mul\":\n",
    "        result = 1\n",
    "        for i in args:\n",
    "            result = result * i   # 모든 값 곱하기\n",
    "    return result"
   ]
  },
  {
   "cell_type": "code",
   "execution_count": 37,
   "metadata": {},
   "outputs": [
    {
     "name": "stdout",
     "output_type": "stream",
     "text": [
      "3\n",
      "2\n"
     ]
    }
   ],
   "source": [
    "result = add_multi(\"add\", 1,2)   # add에 해당되는 명령문 실행\n",
    "print(result)\n",
    "\n",
    "result = add_multi(\"mul\", 1,2)   # mul에 해당되는 명령문 실행\n",
    "print(result)"
   ]
  },
  {
   "cell_type": "code",
   "execution_count": 38,
   "metadata": {},
   "outputs": [
    {
     "name": "stdout",
     "output_type": "stream",
     "text": [
      "15\n",
      "120\n"
     ]
    }
   ],
   "source": [
    "result = add_multi(\"add\", 1,2,3,4,5)  \n",
    "print(result)\n",
    "\n",
    "result = add_multi(\"mul\", 1,2,3,4,5)\n",
    "print(result)"
   ]
  },
  {
   "cell_type": "markdown",
   "metadata": {},
   "source": [
    "***\n",
    "*** 키워드 파라미터 (kwargs)**\n",
    "\n",
    "* 함수 이름(**매개변수)\n",
    "\n",
    "\n",
    "* 매개변수 이름 앞에 ******을 붙이면 매개변수 kwargs는 딕셔너리가 되고 모든 **key = value** 형태의 결괏값이 그 딕셔너리에 저장된다."
   ]
  },
  {
   "cell_type": "code",
   "execution_count": 39,
   "metadata": {},
   "outputs": [],
   "source": [
    "def print_kwargs(**kwargs):   # kwargs는 keyword arguments의 약자이며, args와 마찬가지로 관례적으로 사용한다.\n",
    "    print(kwargs)"
   ]
  },
  {
   "cell_type": "code",
   "execution_count": 40,
   "metadata": {},
   "outputs": [
    {
     "name": "stdout",
     "output_type": "stream",
     "text": [
      "{'a': 1}\n"
     ]
    }
   ],
   "source": [
    "print_kwargs(a = 1)"
   ]
  },
  {
   "cell_type": "code",
   "execution_count": 41,
   "metadata": {},
   "outputs": [
    {
     "name": "stdout",
     "output_type": "stream",
     "text": [
      "{'name': 'mina', 'age': 28}\n"
     ]
    }
   ],
   "source": [
    "print_kwargs(name = 'mina', age = 28)"
   ]
  },
  {
   "cell_type": "markdown",
   "metadata": {},
   "source": [
    "***\n",
    "*** 여러 개의 값 한 번에 출력하기**\n",
    "\n",
    "* 함수로부터 여러 개의 값을 출력할 때 아래의 선택지가 있다.\n",
    "\n",
    "&ensp;&ensp;&ensp;&ensp;&ensp;&ensp;**1) 리스트 사용하기**\n",
    "&ensp;&ensp;&ensp;&ensp;&ensp;&ensp;**2) 튜플 사용하기**\n",
    "&ensp;&ensp;&ensp;&ensp;&ensp;&ensp;**3) 딕셔너리 사용하기**"
   ]
  },
  {
   "cell_type": "code",
   "execution_count": 44,
   "metadata": {},
   "outputs": [
    {
     "name": "stdout",
     "output_type": "stream",
     "text": [
      "[6, 7, 8]\n"
     ]
    }
   ],
   "source": [
    "# 1) 리스트 이용하기\n",
    "\n",
    "def f3(x):\n",
    "    a = x + 1\n",
    "    b = x + 2\n",
    "    c = x + 3\n",
    "    return [a, b, c]\n",
    "\n",
    "print(f3(5))"
   ]
  },
  {
   "cell_type": "code",
   "execution_count": 42,
   "metadata": {},
   "outputs": [
    {
     "name": "stdout",
     "output_type": "stream",
     "text": [
      "(6, 7, 8)\n"
     ]
    }
   ],
   "source": [
    "# 2) 튜플 이용하기\n",
    "\n",
    "def f(x):\n",
    "    a = x + 1\n",
    "    b = x + 2\n",
    "    c = x + 3\n",
    "    return a, b, c\n",
    "\n",
    "print(f(5))"
   ]
  },
  {
   "cell_type": "code",
   "execution_count": 43,
   "metadata": {},
   "outputs": [
    {
     "name": "stdout",
     "output_type": "stream",
     "text": [
      "{'a': 6, 'b': 7, 'c': 8}\n"
     ]
    }
   ],
   "source": [
    "# 3) 딕셔너리 이용하기\n",
    "\n",
    "def f2(x):\n",
    "    d = dict()\n",
    "    d['a'] = x + 1\n",
    "    d['b'] = x + 2\n",
    "    d['c'] = x + 3\n",
    "    return d\n",
    "\n",
    "print(f2(5))"
   ]
  },
  {
   "cell_type": "markdown",
   "metadata": {},
   "source": [
    "## 1.6 함수의 결괏값은 언제나 하나이다"
   ]
  },
  {
   "cell_type": "code",
   "execution_count": 49,
   "metadata": {},
   "outputs": [],
   "source": [
    "# 2개의 입력 인수를 받아 더한 값과 곱한 값을 돌려주는 함수\n",
    "\n",
    "def add_and_mul(a,b):\n",
    "    return a + b, a * b   "
   ]
  },
  {
   "cell_type": "code",
   "execution_count": 53,
   "metadata": {},
   "outputs": [
    {
     "name": "stdout",
     "output_type": "stream",
     "text": [
      "(7, 12)\n"
     ]
    }
   ],
   "source": [
    "result = add_and_mul(3,4)\n",
    "print(result)"
   ]
  },
  {
   "cell_type": "markdown",
   "metadata": {},
   "source": [
    "* 위의 add_and_mul함수에서 결괏값이 <span style=\"color:purple\">a + b</span>와 <span style=\"color:purple\">a * b</span> 2개인데 결괏값을 받아들이는 변수는 result 하나만 쓰였으니 오류가 발생할까?\n",
    "\n",
    "\n",
    "* 아니다. 그 이유는 함수의 결과값은 2개가 아니라 언제나 1개라는 데 있다. \n",
    "\n",
    "\n",
    "* add_and_mul함수의 결괏값은 <span style=\"color:purple\">a + b</span>와 <span style=\"color:purple\">a * b</span>는 튜플값 하나인 (<span style=\"color:purple\">a + b</span>, <span style=\"color:purple\">a * b</span>)로 돌려준다."
   ]
  },
  {
   "cell_type": "code",
   "execution_count": 54,
   "metadata": {},
   "outputs": [
    {
     "name": "stdout",
     "output_type": "stream",
     "text": [
      "7 12\n"
     ]
    }
   ],
   "source": [
    "# 만약 이 하나의 튜플 값을 2개의 결괏값처럼 받고 싶을 때\n",
    "\n",
    "result1, result2 = add_and_mul(3,4)\n",
    "print(result1, result2)"
   ]
  },
  {
   "cell_type": "code",
   "execution_count": 56,
   "metadata": {},
   "outputs": [],
   "source": [
    "# 만약 return문을 2번 사용하면 2개의 결괏값을 돌려주지 않을까? 아니다!\n",
    "\n",
    "\n",
    "def add_and_mul(a,b):\n",
    "    return a + b\n",
    "    return a * b   "
   ]
  },
  {
   "cell_type": "code",
   "execution_count": 57,
   "metadata": {},
   "outputs": [
    {
     "name": "stdout",
     "output_type": "stream",
     "text": [
      "5\n"
     ]
    }
   ],
   "source": [
    "# 오직 a + b의 결괏값만 출력된다. 즉, a * b의 결괏값을 출력되지 않았다는 뜻이다.\n",
    "\n",
    "result = add_and_mul(2,3)\n",
    "print(result)"
   ]
  },
  {
   "cell_type": "markdown",
   "metadata": {},
   "source": [
    "***\n",
    "*** return의 또 다른 쓰임새**\n",
    "\n",
    "* 특별한 상황일 때 함수를 빠져나가고 싶다면, return을 단독으로 써서 함수를 즉시 빠져나갈 수 있다."
   ]
  },
  {
   "cell_type": "code",
   "execution_count": 61,
   "metadata": {},
   "outputs": [],
   "source": [
    "def python(feeling):   \n",
    "    if feeling == \"boring!\":\n",
    "        return      #이 함수은 결괏값이 없다. \n",
    "    print(\"Python is %s\" %feeling)"
   ]
  },
  {
   "cell_type": "code",
   "execution_count": 62,
   "metadata": {},
   "outputs": [
    {
     "name": "stdout",
     "output_type": "stream",
     "text": [
      "Python is fun!\n"
     ]
    }
   ],
   "source": [
    "python(\"fun!\")"
   ]
  },
  {
   "cell_type": "code",
   "execution_count": 64,
   "metadata": {},
   "outputs": [],
   "source": [
    "python(\"boring!\")   # 입력값으로 \"boring!\"라는 값이 들어오면 문자열을 출력하지 않고 함수를 즉시 빠져나간다. "
   ]
  },
  {
   "cell_type": "markdown",
   "metadata": {},
   "source": [
    "## 1.7 매개변수에 초깃값 미리 설정하기\n",
    "\n",
    "* 다른 형태로 함수의 인수를 전달하는 방법: 매개변수에 초깃값을 미리 설정 해주는 경우"
   ]
  },
  {
   "cell_type": "code",
   "execution_count": 67,
   "metadata": {},
   "outputs": [],
   "source": [
    "# 3개의 매개변수를 받아서 마지막 인수인 man이 True이면, \"성별: 남성\", False이면 \"성별: 여성\"을 출력\n",
    "\n",
    "def participants(name, age, man = True):   # 매개변수에 초깃값 설정: 매개변수가 일정하거나 고정되었을 때 사용\n",
    "    print(\"이름: %s\" %name)\n",
    "    print(\"나이: %s\" %age)\n",
    "    if man:\n",
    "        print(\"성별: 남성\")\n",
    "    else:\n",
    "        print(\"성별: 여성\")"
   ]
  },
  {
   "cell_type": "code",
   "execution_count": 70,
   "metadata": {},
   "outputs": [
    {
     "name": "stdout",
     "output_type": "stream",
     "text": [
      "이름: 홍길동\n",
      "나이: 20\n",
      "성별: 남성\n"
     ]
    }
   ],
   "source": [
    "participants(\"홍길동\", 20, True)"
   ]
  },
  {
   "cell_type": "code",
   "execution_count": 71,
   "metadata": {},
   "outputs": [
    {
     "name": "stdout",
     "output_type": "stream",
     "text": [
      "이름: 홍길동\n",
      "나이: 20\n",
      "성별: 남성\n"
     ]
    }
   ],
   "source": [
    "participants(\"홍길동\", 20, )   # 빈칸 = True"
   ]
  },
  {
   "cell_type": "code",
   "execution_count": 72,
   "metadata": {},
   "outputs": [
    {
     "name": "stdout",
     "output_type": "stream",
     "text": [
      "이름: 백설공주\n",
      "나이: 22\n",
      "성별: 여성\n"
     ]
    }
   ],
   "source": [
    "participants(\"백설공주\", 22, False) "
   ]
  },
  {
   "cell_type": "code",
   "execution_count": 73,
   "metadata": {},
   "outputs": [
    {
     "ename": "SyntaxError",
     "evalue": "non-default argument follows default argument (<ipython-input-73-7f186f3b9ec9>, line 3)",
     "output_type": "error",
     "traceback": [
      "\u001b[0;36m  File \u001b[0;32m\"<ipython-input-73-7f186f3b9ec9>\"\u001b[0;36m, line \u001b[0;32m3\u001b[0m\n\u001b[0;31m    def participants(name, man = True, age,):\u001b[0m\n\u001b[0m                    ^\u001b[0m\n\u001b[0;31mSyntaxError\u001b[0m\u001b[0;31m:\u001b[0m non-default argument follows default argument\n"
     ]
    }
   ],
   "source": [
    "# 꼭 매개변수 순서를 맞춰줘야 한다. 오류 발생!\n",
    "\n",
    "def participants(name, man = True, age):   \n",
    "    print(\"이름: %s\" %name)\n",
    "    print(\"나이: %s\" %age)\n",
    "    if man:\n",
    "        print(\"성별: 남성\")\n",
    "    else:\n",
    "        print(\"성별: 여성\")"
   ]
  },
  {
   "cell_type": "markdown",
   "metadata": {},
   "source": [
    "* <span style=\"color:hotpink\">따라서, 초기화시키고 싶은 배개변수를 항상 뒤쪽에 놓는 것을 잊지 말자!</span>"
   ]
  },
  {
   "cell_type": "markdown",
   "metadata": {},
   "source": [
    "## 1.8 lambda\n",
    "\n",
    "* lambda는 함수를 생성할 때 사용하는 예약어로 def와 동일한 역할을 한다. \n",
    "\n",
    "\n",
    "* 보통 함수를 한줄로 간결하게 만들 때 사용한다.\n",
    "\n",
    "\n",
    "* lambda 예약어로 만든 함수는 return 명령어가 없어도 결괏값을 돌려준다."
   ]
  },
  {
   "cell_type": "code",
   "execution_count": null,
   "metadata": {},
   "outputs": [],
   "source": [
    "# 매개변수를 이용한 표현식\n",
    "\n",
    "lambda 매개변수1, 매개변수2, ..."
   ]
  },
  {
   "cell_type": "code",
   "execution_count": 77,
   "metadata": {},
   "outputs": [],
   "source": [
    "# 예시: 인수가 1개\n",
    "\n",
    "def lambda1(x):\n",
    "    result = x * x\n",
    "    return result"
   ]
  },
  {
   "cell_type": "code",
   "execution_count": 78,
   "metadata": {},
   "outputs": [
    {
     "name": "stdout",
     "output_type": "stream",
     "text": [
      "100\n"
     ]
    }
   ],
   "source": [
    "print(lambda1(10))"
   ]
  },
  {
   "cell_type": "markdown",
   "metadata": {},
   "source": [
    "* 위의 긴 식을 간결하게 lambda로 만들어 보면 아래와 같다."
   ]
  },
  {
   "cell_type": "code",
   "execution_count": 74,
   "metadata": {},
   "outputs": [],
   "source": [
    "lambda1 = lambda x: x * x"
   ]
  },
  {
   "cell_type": "code",
   "execution_count": 79,
   "metadata": {},
   "outputs": [
    {
     "name": "stdout",
     "output_type": "stream",
     "text": [
      "100\n"
     ]
    }
   ],
   "source": [
    "print(lambda1(10))"
   ]
  },
  {
   "cell_type": "code",
   "execution_count": 10,
   "metadata": {},
   "outputs": [
    {
     "name": "stdout",
     "output_type": "stream",
     "text": [
      "10\n"
     ]
    }
   ],
   "source": [
    "# 예시: 인수가 2개\n",
    "\n",
    "def lambda2(x,y):\n",
    "    foo = x + y\n",
    "    return foo   # 지역변수\n",
    "\n",
    "print(lambda2(3,7))"
   ]
  },
  {
   "cell_type": "code",
   "execution_count": 11,
   "metadata": {},
   "outputs": [
    {
     "ename": "NameError",
     "evalue": "name 'foo' is not defined",
     "output_type": "error",
     "traceback": [
      "\u001b[0;31m---------------------------------------------------------------------------\u001b[0m",
      "\u001b[0;31mNameError\u001b[0m                                 Traceback (most recent call last)",
      "\u001b[0;32m<ipython-input-11-699c1a78ee01>\u001b[0m in \u001b[0;36m<module>\u001b[0;34m\u001b[0m\n\u001b[0;32m----> 1\u001b[0;31m \u001b[0mprint\u001b[0m\u001b[0;34m(\u001b[0m\u001b[0mfoo\u001b[0m\u001b[0;34m)\u001b[0m\u001b[0;34m\u001b[0m\u001b[0;34m\u001b[0m\u001b[0m\n\u001b[0m",
      "\u001b[0;31mNameError\u001b[0m: name 'foo' is not defined"
     ]
    }
   ],
   "source": [
    "print(foo)   # 전역변수"
   ]
  },
  {
   "cell_type": "code",
   "execution_count": 7,
   "metadata": {},
   "outputs": [
    {
     "name": "stdout",
     "output_type": "stream",
     "text": [
      "10\n"
     ]
    }
   ],
   "source": [
    "lambda2 = lambda x,y: x + y\n",
    "\n",
    "print(lambda2(3,7))"
   ]
  },
  {
   "cell_type": "markdown",
   "metadata": {},
   "source": [
    "## 1.9 전역변수(Global variable)"
   ]
  },
  {
   "cell_type": "markdown",
   "metadata": {},
   "source": [
    ">우리는 프로그램을 작성하면서 여러 가지 데이터에 이름을 붙인다. 그런데 이름이란 문맥에 따라서 가리키는 대상이 다르기 마련이다. 예를 들어, 'key'라는 이름은 키보드의 입력을 제어하는 함수에서는 입력된 키를 가리키겠지만, 암호를 푸는 함수에서는 비밀번호를 가리킬 것이다.\n",
    "\n",
    ">프로그래밍에서는 '**이름공간(namespace)**'이라는 개념을 이용해서 이름의 문맥을 구별한다. 이름공간은 변수의 이름을 정의해 둔 공간이다. 이름공간은 프로그램 전체 범위의 이름을 담는 <span style=\"color:darkblue\">**전역 이름공간**</span>과 한정적인 문맥의 이름을 담는 <span style=\"color:darkblue\">**지역 이름공간**</span>으로 구별된다.\n",
    "\n",
    ">전역 이름공간에 정의되어, 프로그램 어디서든 부를 수 있는 이름을 <span style=\"color:darkblue\">**전역변수(global variable)**</span>라고 한다. 함수 밖에서 변수를 정의하면 전역변수가 된다. 단, 함수 안에서 전역변수에 새로운 값을 대입할 수는 없다.\n",
    "\n",
    ">지역 이름공간에 정의되어, 그 문맥 속에서만 부를 수 있는 이름을 <span style=\"color:darkblue\">**지역변수(local variable)**</span>라고 한다. 모든 함수는 자신만의 지역 이름공간을 가지며, 함수 속에서 작성한 변수는 그 함수의 지역변수가 된다. 함수의 지역변수는 함수가 실행되는 동안에만 존재한다."
   ]
  },
  {
   "cell_type": "code",
   "execution_count": 14,
   "metadata": {},
   "outputs": [],
   "source": [
    "x = \"poo\"   # 전역변수"
   ]
  },
  {
   "cell_type": "code",
   "execution_count": 16,
   "metadata": {},
   "outputs": [],
   "source": [
    "def test():\n",
    "    x = \"coo\"   # 지역변수\n",
    "    print(x)"
   ]
  },
  {
   "cell_type": "code",
   "execution_count": 18,
   "metadata": {},
   "outputs": [
    {
     "name": "stdout",
     "output_type": "stream",
     "text": [
      "coo\n"
     ]
    }
   ],
   "source": [
    "test()"
   ]
  },
  {
   "cell_type": "code",
   "execution_count": 82,
   "metadata": {},
   "outputs": [
    {
     "name": "stdout",
     "output_type": "stream",
     "text": [
      "x inside: global\n",
      "x outside: global\n"
     ]
    }
   ],
   "source": [
    "# 전역변수 만들어보기\n",
    "\n",
    "x = \"global\"   # 이 부분이 전역변수\n",
    "\n",
    "def variable():   \n",
    "    print(\"x inside:\", x)   # 함수 안에서 읽기\n",
    "\n",
    "variable()\n",
    "print(\"x outside:\", x)   #함수 밖에서 읽기"
   ]
  },
  {
   "cell_type": "code",
   "execution_count": 3,
   "metadata": {},
   "outputs": [
    {
     "name": "stdout",
     "output_type": "stream",
     "text": [
      "coo\n"
     ]
    },
    {
     "data": {
      "text/plain": [
       "'poo'"
      ]
     },
     "execution_count": 3,
     "metadata": {},
     "output_type": "execute_result"
    }
   ],
   "source": [
    "# 카톡으로 질문!! -> 점프투파이썬 참고\n",
    "\n",
    "x = \"poo\" \n",
    "\n",
    "def test():\n",
    "    a = \"coo\"   \n",
    "    print(a)\n",
    "test()\n",
    "x"
   ]
  },
  {
   "cell_type": "code",
   "execution_count": 20,
   "metadata": {},
   "outputs": [
    {
     "ename": "UnboundLocalError",
     "evalue": "local variable 'x' referenced before assignment",
     "output_type": "error",
     "traceback": [
      "\u001b[0;31m---------------------------------------------------------------------------\u001b[0m",
      "\u001b[0;31mUnboundLocalError\u001b[0m                         Traceback (most recent call last)",
      "\u001b[0;32m<ipython-input-20-07e69b99dd3b>\u001b[0m in \u001b[0;36m<module>\u001b[0;34m\u001b[0m\n\u001b[1;32m      6\u001b[0m     \u001b[0mx\u001b[0m \u001b[0;34m=\u001b[0m \u001b[0mx\u001b[0m \u001b[0;34m*\u001b[0m \u001b[0;36m2\u001b[0m   \u001b[0;31m# 이 부분은 지역변수 (중간 계산 결과를 저장하는 변수)\u001b[0m\u001b[0;34m\u001b[0m\u001b[0;34m\u001b[0m\u001b[0m\n\u001b[1;32m      7\u001b[0m     \u001b[0mprint\u001b[0m\u001b[0;34m(\u001b[0m\u001b[0mx\u001b[0m\u001b[0;34m)\u001b[0m\u001b[0;34m\u001b[0m\u001b[0;34m\u001b[0m\u001b[0m\n\u001b[0;32m----> 8\u001b[0;31m \u001b[0mvariable\u001b[0m\u001b[0;34m(\u001b[0m\u001b[0;34m)\u001b[0m   \u001b[0;31m# 함수 밖에서 지역변수를 불르면 안 된다.\u001b[0m\u001b[0;34m\u001b[0m\u001b[0;34m\u001b[0m\u001b[0m\n\u001b[0m\u001b[1;32m      9\u001b[0m \u001b[0;34m\u001b[0m\u001b[0m\n\u001b[1;32m     10\u001b[0m \u001b[0;31m# 오류 발생!\u001b[0m\u001b[0;34m\u001b[0m\u001b[0;34m\u001b[0m\u001b[0;34m\u001b[0m\u001b[0m\n",
      "\u001b[0;32m<ipython-input-20-07e69b99dd3b>\u001b[0m in \u001b[0;36mvariable\u001b[0;34m()\u001b[0m\n\u001b[1;32m      4\u001b[0m \u001b[0;34m\u001b[0m\u001b[0m\n\u001b[1;32m      5\u001b[0m \u001b[0;32mdef\u001b[0m \u001b[0mvariable\u001b[0m\u001b[0;34m(\u001b[0m\u001b[0;34m)\u001b[0m\u001b[0;34m:\u001b[0m\u001b[0;34m\u001b[0m\u001b[0;34m\u001b[0m\u001b[0m\n\u001b[0;32m----> 6\u001b[0;31m     \u001b[0mx\u001b[0m \u001b[0;34m=\u001b[0m \u001b[0mx\u001b[0m \u001b[0;34m*\u001b[0m \u001b[0;36m2\u001b[0m   \u001b[0;31m# 이 부분은 지역변수 (중간 계산 결과를 저장하는 변수)\u001b[0m\u001b[0;34m\u001b[0m\u001b[0;34m\u001b[0m\u001b[0m\n\u001b[0m\u001b[1;32m      7\u001b[0m     \u001b[0mprint\u001b[0m\u001b[0;34m(\u001b[0m\u001b[0mx\u001b[0m\u001b[0;34m)\u001b[0m\u001b[0;34m\u001b[0m\u001b[0;34m\u001b[0m\u001b[0m\n\u001b[1;32m      8\u001b[0m \u001b[0mvariable\u001b[0m\u001b[0;34m(\u001b[0m\u001b[0;34m)\u001b[0m   \u001b[0;31m# 함수 밖에서 지역변수를 불르면 안 된다.\u001b[0m\u001b[0;34m\u001b[0m\u001b[0;34m\u001b[0m\u001b[0m\n",
      "\u001b[0;31mUnboundLocalError\u001b[0m: local variable 'x' referenced before assignment"
     ]
    }
   ],
   "source": [
    "# 지역변수 만들어보기\n",
    "\n",
    "x = \"global\"   # 이 부분는 전역변수\n",
    "\n",
    "def variable():\n",
    "    x = x * 2   # 이 부분은 지역변수 (중간 계산 결과를 저장하는 변수)\n",
    "    print(x)\n",
    "variable()   # 함수 밖에서 지역변수를 불르면 안 된다.\n",
    "\n",
    "# 오류 발생!\n",
    "# 파이썬이 x를 지역변수로 취급하고 variable() 안에 x가 정의되지 않았기 때문이다."
   ]
  },
  {
   "cell_type": "code",
   "execution_count": 21,
   "metadata": {},
   "outputs": [
    {
     "name": "stdout",
     "output_type": "stream",
     "text": [
      "globalglobal\n"
     ]
    }
   ],
   "source": [
    "# 지역변수 만들어보기\n",
    "\n",
    "x = \"global\"   # 이 부분는 전역변수\n",
    "\n",
    "def variable():\n",
    "    y = x * 2   # 이 부분은 지역변수 (중간 계산 결과를 저장하는 변수)\n",
    "    print(y)\n",
    "variable()   # 함수 밖에서 지역변수를 불르면 안 된다.\n",
    "\n",
    "# 오류 발생!\n",
    "# 파이썬이 x를 지역변수로 취급하고 variable() 안에 x가 정의되지 않았기 때문이다."
   ]
  },
  {
   "cell_type": "markdown",
   "metadata": {},
   "source": [
    "*** global( ) 명령어를 사용하면, 전역변수와 지역변수를 수정할 수 있다.**"
   ]
  },
  {
   "cell_type": "code",
   "execution_count": 84,
   "metadata": {},
   "outputs": [
    {
     "name": "stdout",
     "output_type": "stream",
     "text": [
      "inside add(): 2\n",
      "In main: 2\n"
     ]
    }
   ],
   "source": [
    "a = 1   # 전역 변수\n",
    "\n",
    "def add():\n",
    "    global a   # 오류 해결해주는 부분, # 지역 변수 -> 전역 변수로 \n",
    "    a = a + 1   # 1 증가, # 지역 변수\n",
    "    print(\"inside add():\", a)\n",
    "add()\n",
    "\n",
    "print(\"In main:\", a)   # a를 전역 변수로 설정되어 결괏값이 나올 수 있음, # 함수 일부분이 아님"
   ]
  },
  {
   "cell_type": "code",
   "execution_count": 23,
   "metadata": {},
   "outputs": [
    {
     "ename": "UnboundLocalError",
     "evalue": "local variable 'a' referenced before assignment",
     "output_type": "error",
     "traceback": [
      "\u001b[0;31m---------------------------------------------------------------------------\u001b[0m",
      "\u001b[0;31mUnboundLocalError\u001b[0m                         Traceback (most recent call last)",
      "\u001b[0;32m<ipython-input-23-69a517602d90>\u001b[0m in \u001b[0;36m<module>\u001b[0;34m\u001b[0m\n\u001b[1;32m      4\u001b[0m     \u001b[0ma\u001b[0m \u001b[0;34m=\u001b[0m \u001b[0ma\u001b[0m \u001b[0;34m+\u001b[0m \u001b[0;36m1\u001b[0m   \u001b[0;31m# 1 증가, # 지역 변수\u001b[0m\u001b[0;34m\u001b[0m\u001b[0;34m\u001b[0m\u001b[0m\n\u001b[1;32m      5\u001b[0m     \u001b[0mprint\u001b[0m\u001b[0;34m(\u001b[0m\u001b[0;34m\"inside add():\"\u001b[0m\u001b[0;34m,\u001b[0m \u001b[0ma\u001b[0m\u001b[0;34m)\u001b[0m\u001b[0;34m\u001b[0m\u001b[0;34m\u001b[0m\u001b[0m\n\u001b[0;32m----> 6\u001b[0;31m \u001b[0madd\u001b[0m\u001b[0;34m(\u001b[0m\u001b[0;34m)\u001b[0m\u001b[0;34m\u001b[0m\u001b[0;34m\u001b[0m\u001b[0m\n\u001b[0m\u001b[1;32m      7\u001b[0m \u001b[0mprint\u001b[0m\u001b[0;34m(\u001b[0m\u001b[0;34m\"In main:\"\u001b[0m\u001b[0;34m,\u001b[0m \u001b[0ma\u001b[0m\u001b[0;34m)\u001b[0m\u001b[0;34m\u001b[0m\u001b[0;34m\u001b[0m\u001b[0m\n",
      "\u001b[0;32m<ipython-input-23-69a517602d90>\u001b[0m in \u001b[0;36madd\u001b[0;34m()\u001b[0m\n\u001b[1;32m      2\u001b[0m \u001b[0;34m\u001b[0m\u001b[0m\n\u001b[1;32m      3\u001b[0m \u001b[0;32mdef\u001b[0m \u001b[0madd\u001b[0m\u001b[0;34m(\u001b[0m\u001b[0;34m)\u001b[0m\u001b[0;34m:\u001b[0m\u001b[0;34m\u001b[0m\u001b[0;34m\u001b[0m\u001b[0m\n\u001b[0;32m----> 4\u001b[0;31m     \u001b[0ma\u001b[0m \u001b[0;34m=\u001b[0m \u001b[0ma\u001b[0m \u001b[0;34m+\u001b[0m \u001b[0;36m1\u001b[0m   \u001b[0;31m# 1 증가, # 지역 변수\u001b[0m\u001b[0;34m\u001b[0m\u001b[0;34m\u001b[0m\u001b[0m\n\u001b[0m\u001b[1;32m      5\u001b[0m     \u001b[0mprint\u001b[0m\u001b[0;34m(\u001b[0m\u001b[0;34m\"inside add():\"\u001b[0m\u001b[0;34m,\u001b[0m \u001b[0ma\u001b[0m\u001b[0;34m)\u001b[0m\u001b[0;34m\u001b[0m\u001b[0;34m\u001b[0m\u001b[0m\n\u001b[1;32m      6\u001b[0m \u001b[0madd\u001b[0m\u001b[0;34m(\u001b[0m\u001b[0;34m)\u001b[0m\u001b[0;34m\u001b[0m\u001b[0;34m\u001b[0m\u001b[0m\n",
      "\u001b[0;31mUnboundLocalError\u001b[0m: local variable 'a' referenced before assignment"
     ]
    }
   ],
   "source": [
    "a = 1   # 전역 변수\n",
    "\n",
    "def add():\n",
    "    a = a + 1   # 1 증가, # 지역 변수\n",
    "    print(\"inside add():\", a)\n",
    "add()\n",
    "print(\"In main:\", a)"
   ]
  },
  {
   "cell_type": "code",
   "execution_count": 24,
   "metadata": {},
   "outputs": [
    {
     "name": "stdout",
     "output_type": "stream",
     "text": [
      "local b: 7\n",
      "global b: 7\n"
     ]
    }
   ],
   "source": [
    "b = 7\n",
    "\n",
    "def variable():\n",
    "    print(\"local b:\", b)   # 지역 이름공간의 전역변수\n",
    "variable()\n",
    "print(\"global b:\", b)   #전역 이름공간의 전역변수"
   ]
  },
  {
   "cell_type": "markdown",
   "metadata": {},
   "source": [
    "# 2. 파일 (Files)"
   ]
  },
  {
   "cell_type": "markdown",
   "metadata": {},
   "source": [
    ">우리는 이제까지 값을 \"입력\" 받을 때는 사용자가 직접 입력하는 방식을 사용했고, \"출력\" 할 때는 모니터 화면에 결괏값을 출력하는 방식으로 프로그래밍을 했다. 이번에는 파일을 통한 입출력 방법에 대해 알아보자."
   ]
  },
  {
   "cell_type": "markdown",
   "metadata": {},
   "source": [
    "* 파이썬은 파일을 읽고 수정하고 삭제할 수 있도록 해준다.\n",
    "\n",
    "\n",
    "* <span style=\"color:red\">**f = open(파일 이름, 파일 열기 모드)**</span>는 파일을 열어준다. 이때, 불러오고자 하는 파일의 경로를 정확하게 설정해줘야 한다.\n",
    "\n",
    "\n",
    "| 파일열기모드 | 설명 | \n",
    "| :---: | :---: | \n",
    "| r | 읽기모드 - 파일을 읽기만 할 때 사용 | \n",
    "| w | 쓰기모드 - 파일에 내용을 쓸 때 사용 | \n",
    "| a | 추가모드 - 파일이 마지막에 새로운 내용을 추가 시킬 때 사용| \n",
    "\n",
    "\n",
    "* <span style=\"color:red\">**f.close( )**</span>는 파일을 닫아준다.\n",
    "\n",
    "\n",
    "* <span style=\"color:purple\">**read( )**</span>는 파일 전체 내용을 불러준다.\n",
    "\n",
    "\n",
    "* <span style=\"color:purple\">**readlines( )**</span>는 파일의 모든 줄을 읽어서 각각의 문장을 리스트로 돌려준다.\n",
    "\n",
    "\n",
    "* <span style=\"color:purple\">**split( )**</span>는 특정 문구를 기준으로 문장을 리스트로 돌려준다.\n",
    "\n",
    "\n",
    "* <span style=\"color:purple\">**with open(파일 이름, 파일 열기 모드) as f:**</span>은 파일을 따로 닫아주지 않아도 되어 종종 사용된다."
   ]
  },
  {
   "cell_type": "markdown",
   "metadata": {},
   "source": [
    "## 2.1 파일 열기 모드: 읽기 모드"
   ]
  },
  {
   "cell_type": "markdown",
   "metadata": {},
   "source": [
    "*** read( ) 함수**"
   ]
  },
  {
   "cell_type": "code",
   "execution_count": 88,
   "metadata": {},
   "outputs": [
    {
     "name": "stdout",
     "output_type": "stream",
     "text": [
      "After murdering Harry's parents, James and Lily Potter, evil Lord Voldemort puts a killing curse on Harry, then just a baby. The curse inexplicably reverses, defeating Voldemort and searing a lightning-bolt scar in the middle of the infant's forehead. Harry is then left at the doorstep of his boring but brutish aunt and uncle, the Dursleys.\n",
      "\n",
      "For 10 years, Harry lives in the cupboard under the stairs and is subjected to cruel mistreatment by Aunt Petunia, Uncle Vernon and their son Dudley. On his 11th birthday, Harry receives a letter inviting him to study magic at the Hogwarts School of Witchcraft and Wizardry.\n",
      "\n",
      "Harry discovers that not only is he a wizard, but he is a famous one. He meets two best friends, Ron Weasley and Hermione Granger, and makes his first enemy, Draco Malfoy. At Hogwarts the three friends are all placed into the Gryffindor house. Harry has a knack for the school sport, Quidditch, and is recruited onto the Gryffindor team as its star Seeker.\n",
      "\n",
      "Perusing the restricted section in the library, Harry discovers that the Sorcerer's Stone produces the Elixir of Life, which gives its drinker the gift of immortality. After realizing that Voldemort might be after the stone, Albus Dumbledore had it moved it to Hogwarts for safekeeping.\n",
      "\n",
      "Harry finds out that when she died, Lily Potter transferred to her son an ancient magical protection from Voldemort's lethal spells. This protection is what allowed Harry as an infant to survive Voldemort's attack. It also helps Harry keep Voldemort from possessing the Stone, which Dumbledore agrees to destroy.\n"
     ]
    }
   ],
   "source": [
    "f = open(\"python_w6_sample1.txt\", \"r\")   # 읽기 모드로 열겠다. 이때, r에 따옴표 꼭 붙여주기.\n",
    "harrypotter = f.read()   # 파일의 전체 내용을 불러오기.\n",
    "f.close()   #파일을 연 후에 꼭 파일을 닫아주기.\n",
    "\n",
    "print(harrypotter)"
   ]
  },
  {
   "cell_type": "markdown",
   "metadata": {},
   "source": [
    "*** readlines( ) 함수**"
   ]
  },
  {
   "cell_type": "code",
   "execution_count": 93,
   "metadata": {},
   "outputs": [
    {
     "name": "stdout",
     "output_type": "stream",
     "text": [
      "After murdering Harry's parents, James and Lily Potter, evil Lord Voldemort puts a killing curse on Harry, then just a baby\n",
      "The curse inexplicably reverses, defeating Voldemort and searing a lightning-bolt scar in the middle of the infant's forehead\n",
      "Harry is then left at the doorstep of his boring but brutish aunt and uncle, the Dursleys\n",
      "For 10 years, Harry lives in the cupboard under the stairs and is subjected to cruel mistreatment by Aunt Petunia, Uncle Vernon and their son Dudley\n",
      "On his 11th birthday, Harry receives a letter inviting him to study magic at the Hogwarts School of Witchcraft and Wizardry\n",
      "Harry discovers that not only is he a wizard, but he is a famous one\n",
      "He meets two best friends, Ron Weasley and Hermione Granger, and makes his first enemy, Draco Malfoy\n",
      "At Hogwarts the three friends are all placed into the Gryffindor house\n",
      "Harry has a knack for the school sport, Quidditch, and is recruited onto the Gryffindor team as its star Seeker\n",
      "Perusing the restricted section in the library, Harry discovers that the Sorcerer's Stone produces the Elixir of Life, which gives its drinker the gift of immortality\n",
      "After realizing that Voldemort might be after the stone, Albus Dumbledore had it moved it to Hogwarts for safekeeping\n",
      "Harry finds out that when she died, Lily Potter transferred to her son an ancient magical protection from Voldemort's lethal spells\n",
      "This protection is what allowed Harry as an infant to survive Voldemort's attack\n",
      "It also helps Harry keep Voldemort from possessing the Stone, which Dumbledore agrees to destroy.\n"
     ]
    }
   ],
   "source": [
    "f = open(\"python_w6_sample1.txt\", \"r\")   \n",
    "harrypotter = f.readlines()  \n",
    "for line in lines:\n",
    "    print(line)\n",
    "\n",
    "f.close()"
   ]
  },
  {
   "cell_type": "markdown",
   "metadata": {},
   "source": [
    "*** split( )함수**"
   ]
  },
  {
   "cell_type": "code",
   "execution_count": 91,
   "metadata": {
    "scrolled": true
   },
   "outputs": [
    {
     "name": "stdout",
     "output_type": "stream",
     "text": [
      "After murdering Harry's parents, James and Lily Potter, evil Lord Voldemort puts a killing curse on Harry, then just a baby\n",
      "The curse inexplicably reverses, defeating Voldemort and searing a lightning-bolt scar in the middle of the infant's forehead\n",
      "Harry is then left at the doorstep of his boring but brutish aunt and uncle, the Dursleys\n",
      "For 10 years, Harry lives in the cupboard under the stairs and is subjected to cruel mistreatment by Aunt Petunia, Uncle Vernon and their son Dudley\n",
      "On his 11th birthday, Harry receives a letter inviting him to study magic at the Hogwarts School of Witchcraft and Wizardry\n",
      "Harry discovers that not only is he a wizard, but he is a famous one\n",
      "He meets two best friends, Ron Weasley and Hermione Granger, and makes his first enemy, Draco Malfoy\n",
      "At Hogwarts the three friends are all placed into the Gryffindor house\n",
      "Harry has a knack for the school sport, Quidditch, and is recruited onto the Gryffindor team as its star Seeker\n",
      "Perusing the restricted section in the library, Harry discovers that the Sorcerer's Stone produces the Elixir of Life, which gives its drinker the gift of immortality\n",
      "After realizing that Voldemort might be after the stone, Albus Dumbledore had it moved it to Hogwarts for safekeeping\n",
      "Harry finds out that when she died, Lily Potter transferred to her son an ancient magical protection from Voldemort's lethal spells\n",
      "This protection is what allowed Harry as an infant to survive Voldemort's attack\n",
      "It also helps Harry keep Voldemort from possessing the Stone, which Dumbledore agrees to destroy.\n"
     ]
    }
   ],
   "source": [
    "# for ... in을 사용하여 리스트에 저장된 문장을 불러오자\n",
    "\n",
    "f = open(\"python_w6_sample1.txt\", \"r\")   \n",
    "harrypotter = f.read()  \n",
    "\n",
    "lines = harrypotter.split(\". \")   # 마침표를 기준으로\n",
    "for line in lines:\n",
    "    print(line)\n",
    "\n",
    "f.close()"
   ]
  },
  {
   "cell_type": "code",
   "execution_count": 26,
   "metadata": {},
   "outputs": [
    {
     "name": "stdout",
     "output_type": "stream",
     "text": [
      "[\"After murdering Harry's parents\", 'James and Lily Potter', 'evil Lord Voldemort puts a killing curse on Harry', 'then just a baby. The curse inexplicably reverses', \"defeating Voldemort and searing a lightning-bolt scar in the middle of the infant's forehead. Harry is then left at the doorstep of his boring but brutish aunt and uncle\", 'the Dursleys. For 10 years', 'Harry lives in the cupboard under the stairs and is subjected to cruel mistreatment by Aunt Petunia', 'Uncle Vernon and their son Dudley. On his 11th birthday', 'Harry receives a letter inviting him to study magic at the Hogwarts School of Witchcraft and Wizardry. Harry discovers that not only is he a wizard', 'but he is a famous one. He meets two best friends', 'Ron Weasley and Hermione Granger', 'and makes his first enemy', 'Draco Malfoy. At Hogwarts the three friends are all placed into the Gryffindor house. Harry has a knack for the school sport', 'Quidditch', 'and is recruited onto the Gryffindor team as its star Seeker. Perusing the restricted section in the library', \"Harry discovers that the Sorcerer's Stone produces the Elixir of Life\", 'which gives its drinker the gift of immortality. After realizing that Voldemort might be after the stone', 'Albus Dumbledore had it moved it to Hogwarts for safekeeping. Harry finds out that when she died', \"Lily Potter transferred to her son an ancient magical protection from Voldemort's lethal spells. This protection is what allowed Harry as an infant to survive Voldemort's attack. It also helps Harry keep Voldemort from possessing the Stone\", 'which Dumbledore agrees to destroy.']\n"
     ]
    }
   ],
   "source": [
    "f = open(\"python_w6_sample1.txt\", \"r\")   \n",
    "harrypotter = f.read()  \n",
    "\n",
    "lines = harrypotter.split(\", \")   # 쉼표를 기준으로, split함수가 리스트 형식으로 저장해준다.\n",
    "print(lines)   #리스트 형식으로만 보여주게 된다.\n",
    "f.close()"
   ]
  },
  {
   "cell_type": "code",
   "execution_count": 94,
   "metadata": {},
   "outputs": [
    {
     "name": "stdout",
     "output_type": "stream",
     "text": [
      "After murdering Harry's parents\n",
      "James and Lily Potter\n",
      "evil Lord Voldemort puts a killing curse on Harry\n",
      "then just a baby. The curse inexplicably reverses\n",
      "defeating Voldemort and searing a lightning-bolt scar in the middle of the infant's forehead. Harry is then left at the doorstep of his boring but brutish aunt and uncle\n",
      "the Dursleys. For 10 years\n",
      "Harry lives in the cupboard under the stairs and is subjected to cruel mistreatment by Aunt Petunia\n",
      "Uncle Vernon and their son Dudley. On his 11th birthday\n",
      "Harry receives a letter inviting him to study magic at the Hogwarts School of Witchcraft and Wizardry. Harry discovers that not only is he a wizard\n",
      "but he is a famous one. He meets two best friends\n",
      "Ron Weasley and Hermione Granger\n",
      "and makes his first enemy\n",
      "Draco Malfoy. At Hogwarts the three friends are all placed into the Gryffindor house. Harry has a knack for the school sport\n",
      "Quidditch\n",
      "and is recruited onto the Gryffindor team as its star Seeker. Perusing the restricted section in the library\n",
      "Harry discovers that the Sorcerer's Stone produces the Elixir of Life\n",
      "which gives its drinker the gift of immortality. After realizing that Voldemort might be after the stone\n",
      "Albus Dumbledore had it moved it to Hogwarts for safekeeping. Harry finds out that when she died\n",
      "Lily Potter transferred to her son an ancient magical protection from Voldemort's lethal spells. This protection is what allowed Harry as an infant to survive Voldemort's attack. It also helps Harry keep Voldemort from possessing the Stone\n",
      "which Dumbledore agrees to destroy.\n"
     ]
    }
   ],
   "source": [
    "f = open(\"python_w6_sample1.txt\", \"r\")   \n",
    "harrypotter = f.read()  \n",
    "\n",
    "lines = harrypotter.split(\", \")   # 쉼표를 기준으로\n",
    "for line in lines:   #for문을 사용하게 되면, 한 줄씩 보여준다.\n",
    "    print(line)\n",
    "\n",
    "f.close()"
   ]
  },
  {
   "cell_type": "markdown",
   "metadata": {},
   "source": [
    "*** with open(파일 이름, 파일 열기 모드) as f:**"
   ]
  },
  {
   "cell_type": "code",
   "execution_count": 96,
   "metadata": {},
   "outputs": [
    {
     "name": "stdout",
     "output_type": "stream",
     "text": [
      "After murdering Harry's parents, James and Lily Potter, evil Lord Voldemort puts a killing curse on Harry, then just a baby. The curse inexplicably reverses, defeating Voldemort and searing a lightning-bolt scar in the middle of the infant's forehead. Harry is then left at the doorstep of his boring but brutish aunt and uncle, the Dursleys. For 10 years, Harry lives in the cupboard under the stairs and is subjected to cruel mistreatment by Aunt Petunia, Uncle Vernon and their son Dudley. On his 11th birthday, Harry receives a letter inviting him to study magic at the Hogwarts School of Witchcraft and Wizardry. Harry discovers that not only is he a wizard, but he is a famous one. He meets two best friends, Ron Weasley and Hermione Granger, and makes his first enemy, Draco Malfoy. At Hogwarts the three friends are all placed into the Gryffindor house. Harry has a knack for the school sport, Quidditch, and is recruited onto the Gryffindor team as its star Seeker. Perusing the restricted section in the library, Harry discovers that the Sorcerer's Stone produces the Elixir of Life, which gives its drinker the gift of immortality. After realizing that Voldemort might be after the stone, Albus Dumbledore had it moved it to Hogwarts for safekeeping. Harry finds out that when she died, Lily Potter transferred to her son an ancient magical protection from Voldemort's lethal spells. This protection is what allowed Harry as an infant to survive Voldemort's attack. It also helps Harry keep Voldemort from possessing the Stone, which Dumbledore agrees to destroy.\n"
     ]
    }
   ],
   "source": [
    "with open(\"python_w6_sample1.txt\", \"r\") as f: \n",
    "    harrypotter = f.read()   # 따로 f.close( )를 입력하지 않아도 된다.\n",
    "\n",
    "print(harrypotter)\n",
    "\n",
    "# 윈도우의 경우 \"r\" 뒤에 encoding = \"utf\"-\"8\"도 따라와야 한다. "
   ]
  },
  {
   "cell_type": "markdown",
   "metadata": {},
   "source": [
    "## 2.2 파일 열기 모드: 쓰기 모드"
   ]
  },
  {
   "cell_type": "code",
   "execution_count": 105,
   "metadata": {},
   "outputs": [
    {
     "data": {
      "text/plain": [
       "\"TerminatorI'll be backI'm back\""
      ]
     },
     "execution_count": 105,
     "metadata": {},
     "output_type": "execute_result"
    }
   ],
   "source": [
    "f = open(\"python_w6_sample2.txt\")\n",
    "f.read()"
   ]
  },
  {
   "cell_type": "code",
   "execution_count": 106,
   "metadata": {},
   "outputs": [],
   "source": [
    "f = open(\"python_w6_sample2.txt\",\"w\")   # \"w\"로 새로운 내용이 작성되면, 이전의 내용은 사라진다!\n",
    "f.write(\"test file writing\")\n",
    "f.close()"
   ]
  },
  {
   "cell_type": "code",
   "execution_count": 107,
   "metadata": {},
   "outputs": [
    {
     "data": {
      "text/plain": [
       "'test file writing'"
      ]
     },
     "execution_count": 107,
     "metadata": {},
     "output_type": "execute_result"
    }
   ],
   "source": [
    "f = open(\"python_w6_sample2.txt\")\n",
    "f.read()"
   ]
  },
  {
   "cell_type": "code",
   "execution_count": 108,
   "metadata": {},
   "outputs": [],
   "source": [
    "f = open(\"python_w6_sample2.txt\",\"w\")   \n",
    "f.write(\"hello\")\n",
    "f.close()"
   ]
  },
  {
   "cell_type": "code",
   "execution_count": 109,
   "metadata": {},
   "outputs": [
    {
     "data": {
      "text/plain": [
       "'hello'"
      ]
     },
     "execution_count": 109,
     "metadata": {},
     "output_type": "execute_result"
    }
   ],
   "source": [
    "f = open(\"python_w6_sample2.txt\")   # 기존에 작성한 \"test file writing\"문구는 지워진다!\n",
    "f.read()"
   ]
  },
  {
   "cell_type": "code",
   "execution_count": 116,
   "metadata": {},
   "outputs": [],
   "source": [
    "f = open(\"python_w6_sample2.txt\",\"w\")  \n",
    "f.write(\"Terminator \")\n",
    "f.write(\"I'll be back \")\n",
    "f.close()"
   ]
  },
  {
   "cell_type": "code",
   "execution_count": 117,
   "metadata": {},
   "outputs": [
    {
     "data": {
      "text/plain": [
       "\"Terminator I'll be back \""
      ]
     },
     "execution_count": 117,
     "metadata": {},
     "output_type": "execute_result"
    }
   ],
   "source": [
    "f = open(\"python_w6_sample2.txt\")   # 기존에 작성한 \"test file writing\"문구는 지워진다!\n",
    "f.read()"
   ]
  },
  {
   "cell_type": "markdown",
   "metadata": {},
   "source": [
    "## 2.3 파일 열기 모드: 추가 모드"
   ]
  },
  {
   "cell_type": "code",
   "execution_count": 118,
   "metadata": {},
   "outputs": [],
   "source": [
    "f = open(\"python_w6_sample2.txt\",\"a\")   # 기존의 내용에 추가로 내용을 작성하기 (\"a\" = append).\n",
    "f.write(\"I'm back!\")\n",
    "f.close()"
   ]
  },
  {
   "cell_type": "code",
   "execution_count": 119,
   "metadata": {},
   "outputs": [
    {
     "data": {
      "text/plain": [
       "\"Terminator I'll be back I'm back!\""
      ]
     },
     "execution_count": 119,
     "metadata": {},
     "output_type": "execute_result"
    }
   ],
   "source": [
    "f = open(\"python_w6_sample2.txt\")   \n",
    "f.read()"
   ]
  },
  {
   "cell_type": "markdown",
   "metadata": {},
   "source": [
    "*** with open(파일 이름, 파일 열기 모드) as f:**"
   ]
  },
  {
   "cell_type": "code",
   "execution_count": 120,
   "metadata": {},
   "outputs": [],
   "source": [
    "x = [\"I\", \"can\", \"do\", \"Python\", \"!\"]\n",
    "with open (\"python_w6_sample3.txt\", \"w\") as f:\n",
    "    for i in x:\n",
    "        f.write(str(i) + \"\\n\")"
   ]
  },
  {
   "cell_type": "code",
   "execution_count": 121,
   "metadata": {},
   "outputs": [
    {
     "name": "stdout",
     "output_type": "stream",
     "text": [
      "python_w6_sample3.txt\r\n"
     ]
    }
   ],
   "source": [
    "%ls python_w6_sample3.txt   # \"%ls\"은 무슨 뜻일까?"
   ]
  },
  {
   "cell_type": "code",
   "execution_count": 122,
   "metadata": {
    "scrolled": true
   },
   "outputs": [
    {
     "name": "stdout",
     "output_type": "stream",
     "text": [
      "I\r\n",
      "can\r\n",
      "do\r\n",
      "Python\r\n",
      "!\r\n"
     ]
    }
   ],
   "source": [
    "%cat python_w6_sample3.txt   # \"%cat\"은 무슨 뜻일까?"
   ]
  },
  {
   "cell_type": "markdown",
   "metadata": {},
   "source": [
    "***\n",
    "*** 특정 폴더의 파일 목록 불러오기**"
   ]
  },
  {
   "cell_type": "code",
   "execution_count": 30,
   "metadata": {},
   "outputs": [
    {
     "name": "stdout",
     "output_type": "stream",
     "text": [
      "['Week_4_List_Tuple_Dictionary_Set_Bool.ipynb', 'Week_6_Functions_and_Files.ipynb', 'Week 2 숫자형과 문자열.ipynb', 'Week 3 인덱싱, 슬라이싱, 포매팅.ipynb', 'Week 2 실습.ipynb', 'Week 3 실습.ipynb', 'Week_5_Flow_Control_re.ipynb', 'python_w6_sample3.txt', 'python_w6_sample2.txt', 'python_w6_sample1.txt', 'test.txt', '.ipynb_checkpoints', '파이썬 오류 메시지.ipynb', 'Homework_W4_W5_W6_YK.ipynb', 'sample.txt']\n"
     ]
    }
   ],
   "source": [
    "import os   # 파일 오류! 무엇이 문제일까? 오타...\n",
    "\n",
    "dirpath = \"./\"\n",
    "file_list = os.listdir(dirpath)\n",
    "print(file_list)"
   ]
  }
 ],
 "metadata": {
  "kernelspec": {
   "display_name": "Python 3",
   "language": "python",
   "name": "python3"
  },
  "language_info": {
   "codemirror_mode": {
    "name": "ipython",
    "version": 3
   },
   "file_extension": ".py",
   "mimetype": "text/x-python",
   "name": "python",
   "nbconvert_exporter": "python",
   "pygments_lexer": "ipython3",
   "version": "3.7.3"
  }
 },
 "nbformat": 4,
 "nbformat_minor": 2
}
