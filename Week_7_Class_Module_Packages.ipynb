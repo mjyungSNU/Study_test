{
 "cells": [
  {
   "cell_type": "markdown",
   "metadata": {},
   "source": [
    "# Week 7: 클래스, 모듈, 패키지\n",
    "\n",
    "&#127800; 프로그래밍의 꽃 &#127800;"
   ]
  },
  {
   "cell_type": "markdown",
   "metadata": {},
   "source": [
    "## 2019 Summer"
   ]
  },
  {
   "cell_type": "markdown",
   "metadata": {},
   "source": [
    "### Mina Jyung"
   ]
  },
  {
   "cell_type": "markdown",
   "metadata": {},
   "source": [
    "# 1. 클래스 (Class)\n",
    "&#128270; 굳이 클래스가 없어도 프로그램을 충분히 만들 수 있다. 그러나 클래스를 적재적소에 사용하면 프로그래머가 얻을 수 있는 이익은 상당하다."
   ]
  },
  {
   "cell_type": "markdown",
   "metadata": {},
   "source": [
    "### &#10045; 클래스 (Class) - 똑같은 무엇인가를 계속해서 만들어 낼 수 있는 설계 도면\n",
    "\n",
    "### &#10045; 객체 (Object) - 클래스로 만든 피조물\n",
    "\n",
    "### &#10045; 인스턴스 (Instance) - 특정 객체가 어떤 클래스의 객체인지를 관계 위주로 설명할 때 사용\n",
    "\n",
    "### &#10045; 인스턴시에이션 (Instantiation) - 한 클래스의 인스턴스를 생성"
   ]
  },
  {
   "cell_type": "markdown",
   "metadata": {},
   "source": [
    "> 과자를 만든다고 상상해보자. 이때, 과자 틀은 <span style=\"color:blue\">클래스</span>이고 과자 틀에 의해서 만들어진 과자는 <span style=\"color:blue\">객체</span>이다.<br><br>\n",
    "클래스로 만든 객체에는 중요한 특징이 있다. 바로 객체마다 고유한 성격을 가진다는 것이다.<br> 과자 틀로 만든 과자에 구멍을 뚫거나 조금 베어 먹더라도 다른 과자에는 아무 영향이 없는 것과 마찬가지로 동일한 클래스로 만든 객체들은 서로 전혀 영향을 주지 않는다.<br><br>\n",
    "객체는 클래스로 만들며 1개의 클래스는 무수히 많은 객체를 만들어 낼 수 있다.\n",
    "\n",
    "> <span style=\"color:green\">**a = Cookie( )**</span><br>\n",
    "Cookie 클래스의 객체 a이다. a 객체는 Cookie의 <span style=\"color:blue\">인스턴스</span>이다."
   ]
  },
  {
   "cell_type": "code",
   "execution_count": 2,
   "metadata": {},
   "outputs": [],
   "source": [
    "class Cookie:\n",
    "    pass"
   ]
  },
  {
   "cell_type": "code",
   "execution_count": 4,
   "metadata": {},
   "outputs": [
    {
     "name": "stdout",
     "output_type": "stream",
     "text": [
      "<class '__main__.Cookie'>\n"
     ]
    }
   ],
   "source": [
    "a = Cookie()   # 이 Cookie의 클래스는 아무 변수나 함수도 포함하지 않지만, 우리가 원하는 객체 a를 만들 수 있는 기능이 있다.\n",
    "\n",
    "print(type(a))   # a 객체가 어떤 타입인지 알아보니, 객체 a가 Cookie 클래스의 객체임을 알 수 있다."
   ]
  },
  {
   "cell_type": "markdown",
   "metadata": {},
   "source": [
    "### &#10045; 메서드 (Method) - 클래스 안에 구현된 함수의 다른 말"
   ]
  },
  {
   "cell_type": "markdown",
   "metadata": {},
   "source": [
    "> 객체는 클래스로 생성 된 것이고 <span style=\"color:blue\">메서드</span>는 클래스에 정의된 함수이다.<br><br>\n",
    "  예를 들어, \"강아지가 꼬리를 흔든다\"라고 하면 \"강아지\"는 애완동물이라는 클래스로 생성된 **객체**이고, \"꼬리를 흔든다\"는 애완동물에 정의된 **메서드**라고 볼 수 있다.<br>\n",
    "  따라서, 애완동물에는 \"꼬리를 흔든다\", \"짖는다\" 등과 같은 메서드가 정의될 수 있다.<br><br>\n",
    "  메서드도 클래스에 포함되어 있다는 점만 제외하면 일반 함수와 다를 것이 없다.<br><br>\n",
    "  파이썬에서 메서드는 다음과 같이 표기한다: <span style=\"color:navy\">**객체.메서드(매개변수)**</span>                               "
   ]
  },
  {
   "cell_type": "code",
   "execution_count": 8,
   "metadata": {},
   "outputs": [],
   "source": [
    "class Cookie:\n",
    "    def Cookie_monster (self, first, second):   # 1. 메서드의 매개변수\n",
    "        self.first = first                      # 2. 메서드의 수행문\n",
    "        self.second = second                    # 3. 메서드의 수행문"
   ]
  },
  {
   "cell_type": "markdown",
   "metadata": {},
   "source": [
    "**&#10112; Cookie_monster 메서드의 매개변수**\n",
    "\n",
    "- Cookie_monster 메서드의 매개변수로 self, first, second 3개 입력값을 받는다. 그런데 일반 함수와는 달리 메서드의 첫 번째 매개변수 self는 특별한 의미를 가진다. "
   ]
  },
  {
   "cell_type": "code",
   "execution_count": 9,
   "metadata": {},
   "outputs": [],
   "source": [
    "# 다음과 같이 a 객체를 만들고 a 객체를 통해 Cookie_monster 메서드를 호출해 보자.\n",
    "\n",
    "a = Cookie()\n",
    "a.Cookie_monster(4,2)   # 객체를 통해 클래스의 메서드를 호출하려면 a.Cookie_monster(4,2)와 같이 도트(.) 연산자를 사용해야 한다."
   ]
  },
  {
   "cell_type": "code",
   "execution_count": 10,
   "metadata": {},
   "outputs": [],
   "source": [
    "# 메서드의 또 다른 호출 방법이다.\n",
    "\n",
    "a = Cookie()\n",
    "Cookie.Cookie_monster(a,4,2)"
   ]
  },
  {
   "cell_type": "markdown",
   "metadata": {},
   "source": [
    "**&#10113; Cookie_monster 메서드의 수행문**"
   ]
  },
  {
   "cell_type": "markdown",
   "metadata": {},
   "source": [
    "- a.Cookie_monster(<span style=\"color:green\">4</span>, <span style=\"color:green\">2</span>)처럼 호출하면 Cookie_monster 메서드의 매개변수 first, second에는 각각 값 4와 2가 전달되어 Cookie_monster 메서드의 수행문은 다음과 같이 해석된다.<br><br>\n",
    "self.first = 4<br>\n",
    "self.second = 2<br><br>\n",
    "- 이때, self는 전달된 객체 a이므로 다시 다음과 같이 해석된다.<br><br>\n",
    "a.first = 4<br>\n",
    "a.second = 2<br>"
   ]
  },
  {
   "cell_type": "code",
   "execution_count": 11,
   "metadata": {},
   "outputs": [
    {
     "name": "stdout",
     "output_type": "stream",
     "text": [
      "4\n",
      "2\n"
     ]
    }
   ],
   "source": [
    "a = Cookie()\n",
    "a.Cookie_monster(4,2)\n",
    "print(a.first)\n",
    "print(a.second)"
   ]
  },
  {
   "cell_type": "code",
   "execution_count": 14,
   "metadata": {},
   "outputs": [],
   "source": [
    "# 이번에는 다음과 같이 a, b 객체를 만들어 보자.\n",
    "\n",
    "a = Cookie()\n",
    "b = Cookie()"
   ]
  },
  {
   "cell_type": "code",
   "execution_count": 15,
   "metadata": {},
   "outputs": [
    {
     "name": "stdout",
     "output_type": "stream",
     "text": [
      "4\n"
     ]
    }
   ],
   "source": [
    "# a 객체의 객체변수 first를 다음과 같이 생성한다.\n",
    "\n",
    "# 객체에 생성되는 객체만의 변수를 객체변수라고 부른다.\n",
    "\n",
    "a.Cookie_monster(4,2)\n",
    "print(a.first)"
   ]
  },
  {
   "cell_type": "code",
   "execution_count": 16,
   "metadata": {},
   "outputs": [
    {
     "name": "stdout",
     "output_type": "stream",
     "text": [
      "9\n"
     ]
    }
   ],
   "source": [
    "# 이번에는 b 객체의 객체변수 first를 다음과 같이 생성한다.\n",
    "\n",
    "# a객체의 first값은 b객체의 first값에 영향을 받지 않고 원래 값을 유지한다. \n",
    "\n",
    "b.Cookie_monster(9,7)\n",
    "print(b.first)"
   ]
  },
  {
   "cell_type": "markdown",
   "metadata": {},
   "source": [
    "&#128227; <span style=\"color:coral\">클래스로 만든 객체의 객체변수는 다른 객체의 객체변수에 독립적인 값을 유지한다.</span>"
   ]
  },
  {
   "cell_type": "code",
   "execution_count": 23,
   "metadata": {},
   "outputs": [],
   "source": [
    "# 메서드 예시 1\n",
    "\n",
    "class Pet():\n",
    "    def __init__(self, name, age, Type):   # __init__: 메서드를 생성자로 만드는 것\n",
    "        self.name = name\n",
    "        self.age = age\n",
    "        self.Type = Type\n",
    "        \n",
    "    def come(self):\n",
    "        print(self.name.title() + \" is coming to me.\")\n",
    "        \n",
    "    def eat(self):\n",
    "        print(self.name.title() + \" is eating.\")"
   ]
  },
  {
   "cell_type": "code",
   "execution_count": 1,
   "metadata": {},
   "outputs": [],
   "source": [
    "# 메서드 예시 1-1: Title 왜 꼭 필요한가요??\n",
    "\n",
    "class Pet():\n",
    "    def __init__(self, name, age, Type):   # __init__: 메서드를 생성자로 만드는 것\n",
    "        self.name = name\n",
    "        self.age = age\n",
    "        self.Type = Type\n",
    "        \n",
    "    def come(self):\n",
    "        print(self.name() + \" is coming to me.\")\n",
    "        \n",
    "    def eat(self):\n",
    "        print(self.name() + \" is eating.\")"
   ]
  },
  {
   "cell_type": "code",
   "execution_count": 3,
   "metadata": {},
   "outputs": [
    {
     "name": "stdout",
     "output_type": "stream",
     "text": [
      "My pet's name is Twinkle.\n",
      "She is 2 years old.\n",
      "She is a hamster.\n"
     ]
    }
   ],
   "source": [
    "myPet = Pet('Twinkle', 2, \"hamster\")\n",
    "print(\"My pet's name is \" + myPet.name + \".\")\n",
    "print(\"She is \" + str(myPet.age) + \" years old.\")\n",
    "print(\"She is a \" + myPet.Type + \".\")"
   ]
  },
  {
   "cell_type": "code",
   "execution_count": 25,
   "metadata": {},
   "outputs": [
    {
     "name": "stdout",
     "output_type": "stream",
     "text": [
      "Twinkle is coming to me.\n",
      "Twinkle is eating.\n"
     ]
    }
   ],
   "source": [
    "myPet.come()\n",
    "myPet.eat()"
   ]
  },
  {
   "cell_type": "code",
   "execution_count": 26,
   "metadata": {},
   "outputs": [
    {
     "name": "stdout",
     "output_type": "stream",
     "text": [
      "My pet's name is 뽀삐.\n",
      "She is 3 years old.\n",
      "She is a dog.\n"
     ]
    }
   ],
   "source": [
    "friend_pet = Pet('뽀삐', 3, 'dog')\n",
    "print(\"My pet's name is \" + friend_pet.name + \".\")\n",
    "print(\"She is \" + str(friend_pet.age) + \" years old.\")\n",
    "print(\"She is a \" + friend_pet.Type + \".\")"
   ]
  },
  {
   "cell_type": "code",
   "execution_count": 44,
   "metadata": {},
   "outputs": [],
   "source": [
    "# 메서드 예시 2\n",
    "\n",
    "class Calculation:\n",
    "    def __init__(self, first, second):\n",
    "        self.first = first\n",
    "        self.second = second\n",
    "    def setdata(self, first, second):\n",
    "        self.first = first\n",
    "        self.second = second\n",
    "    def add(self):\n",
    "        result = self.first + self.second\n",
    "        return result\n",
    "    def mul(self):\n",
    "        result = self.first * self.second\n",
    "        return result\n",
    "    def sub(self):\n",
    "        result = self.first - self.second\n",
    "        return result\n",
    "    def div(self):\n",
    "        result = self.first / self.second\n",
    "        return result"
   ]
  },
  {
   "cell_type": "code",
   "execution_count": 45,
   "metadata": {},
   "outputs": [],
   "source": [
    "a = Calculation(4,2)"
   ]
  },
  {
   "cell_type": "code",
   "execution_count": 46,
   "metadata": {},
   "outputs": [
    {
     "name": "stdout",
     "output_type": "stream",
     "text": [
      "6\n",
      "8\n",
      "2\n",
      "2.0\n"
     ]
    }
   ],
   "source": [
    "print(a.add())\n",
    "print(a.mul())\n",
    "print(a.sub())\n",
    "print(a.div())"
   ]
  },
  {
   "cell_type": "markdown",
   "metadata": {},
   "source": [
    "### &#10045; 상속 (Inheritance) - 클래스를 만들 때 다른 클래스의 기능을 물려 받을 수 있게 생성\n",
    "\n",
    ">파이썬에서 상속을 다음과 같이 표기한다: <span style=\"color:navy\">**class 클래스 이름(상속할 클래스 이름)**</span>"
   ]
  },
  {
   "cell_type": "code",
   "execution_count": 32,
   "metadata": {},
   "outputs": [],
   "source": [
    "# 메서드 예시 2에 이어서\n",
    "\n",
    "class MoreCalculation(Calculation):\n",
    "    pass"
   ]
  },
  {
   "cell_type": "code",
   "execution_count": 33,
   "metadata": {},
   "outputs": [
    {
     "name": "stdout",
     "output_type": "stream",
     "text": [
      "10\n",
      "21\n",
      "-4\n",
      "0.42857142857142855\n"
     ]
    }
   ],
   "source": [
    "a = MoreCalculation(3,7)\n",
    "print(a.add())\n",
    "print(a.mul())\n",
    "print(a.sub())\n",
    "print(a.div())"
   ]
  },
  {
   "cell_type": "markdown",
   "metadata": {},
   "source": [
    "&#128227; <span style=\"color:coral\">잠깐, 왜 상속을 해야 할까?</span>\n",
    "\n",
    "> 상속은 기존 클래스는 그대로 놔둔 채 클래스의 기증을 확장시킬 때 사용한다.<br><br>\n",
    "\"클래스에 기능을 추가하고 싶으면 기존 클래스를 수정하면 되는데 왜 굳이 상속을 받아서 처리해야 하지?\"라는 의문이 들 수 있다.<br>\n",
    "하지만, 기존 클래스가 라이브러리 형태로 제공되거나 수정이 허용되지 않는 상황이라면 상속을 사용해야 한다."
   ]
  },
  {
   "cell_type": "code",
   "execution_count": 34,
   "metadata": {},
   "outputs": [],
   "source": [
    "# 상속 예시 1\n",
    "\n",
    "class MoreCalculation(Calculation):\n",
    "    def pow(self):\n",
    "        result = self.first ** self.second\n",
    "        return result"
   ]
  },
  {
   "cell_type": "code",
   "execution_count": 35,
   "metadata": {},
   "outputs": [
    {
     "data": {
      "text/plain": [
       "2187"
      ]
     },
     "execution_count": 35,
     "metadata": {},
     "output_type": "execute_result"
    }
   ],
   "source": [
    "a = MoreCalculation(3,7)\n",
    "a.pow()"
   ]
  },
  {
   "cell_type": "markdown",
   "metadata": {},
   "source": [
    "### &#10045; 메서드 오버라이딩 (Overriding) - 상속한 클래스에 있는 메서드를 동일한 이름으로 다시 생성"
   ]
  },
  {
   "cell_type": "code",
   "execution_count": 37,
   "metadata": {},
   "outputs": [],
   "source": [
    "# 메서드 오버라이딩 예시 1\n",
    "\n",
    "class ChangeCalculation(Calculation):\n",
    "    def div(self):\n",
    "        if self.second == 0:   # 나누는 값이 0이 경우 0을 리턴하도록 수정\n",
    "            return 0\n",
    "        else:\n",
    "            return self.first / self.second"
   ]
  },
  {
   "cell_type": "code",
   "execution_count": 38,
   "metadata": {},
   "outputs": [
    {
     "data": {
      "text/plain": [
       "0"
      ]
     },
     "execution_count": 38,
     "metadata": {},
     "output_type": "execute_result"
    }
   ],
   "source": [
    "a = ChangeCalculation(4,0)\n",
    "a.div()"
   ]
  },
  {
   "cell_type": "code",
   "execution_count": 43,
   "metadata": {
    "scrolled": true
   },
   "outputs": [
    {
     "ename": "ZeroDivisionError",
     "evalue": "division by zero",
     "output_type": "error",
     "traceback": [
      "\u001b[0;31m---------------------------------------------------------------------------\u001b[0m",
      "\u001b[0;31mZeroDivisionError\u001b[0m                         Traceback (most recent call last)",
      "\u001b[0;32m<ipython-input-43-98b43fd865d8>\u001b[0m in \u001b[0;36m<module>\u001b[0;34m\u001b[0m\n\u001b[1;32m      1\u001b[0m \u001b[0ma\u001b[0m \u001b[0;34m=\u001b[0m \u001b[0mCalculation\u001b[0m\u001b[0;34m(\u001b[0m\u001b[0;36m4\u001b[0m\u001b[0;34m,\u001b[0m\u001b[0;36m0\u001b[0m\u001b[0;34m)\u001b[0m\u001b[0;34m\u001b[0m\u001b[0;34m\u001b[0m\u001b[0m\n\u001b[1;32m      2\u001b[0m \u001b[0;34m\u001b[0m\u001b[0m\n\u001b[0;32m----> 3\u001b[0;31m \u001b[0mprint\u001b[0m\u001b[0;34m(\u001b[0m\u001b[0ma\u001b[0m\u001b[0;34m.\u001b[0m\u001b[0mdiv\u001b[0m\u001b[0;34m(\u001b[0m\u001b[0;34m)\u001b[0m\u001b[0;34m)\u001b[0m\u001b[0;34m\u001b[0m\u001b[0;34m\u001b[0m\u001b[0m\n\u001b[0m",
      "\u001b[0;32m<ipython-input-39-0c9de94d41bb>\u001b[0m in \u001b[0;36mdiv\u001b[0;34m(self)\u001b[0m\n\u001b[1;32m     18\u001b[0m         \u001b[0;32mreturn\u001b[0m \u001b[0mresult\u001b[0m\u001b[0;34m\u001b[0m\u001b[0;34m\u001b[0m\u001b[0m\n\u001b[1;32m     19\u001b[0m     \u001b[0;32mdef\u001b[0m \u001b[0mdiv\u001b[0m\u001b[0;34m(\u001b[0m\u001b[0mself\u001b[0m\u001b[0;34m)\u001b[0m\u001b[0;34m:\u001b[0m\u001b[0;34m\u001b[0m\u001b[0;34m\u001b[0m\u001b[0m\n\u001b[0;32m---> 20\u001b[0;31m         \u001b[0mresult\u001b[0m \u001b[0;34m=\u001b[0m \u001b[0mself\u001b[0m\u001b[0;34m.\u001b[0m\u001b[0mfirst\u001b[0m \u001b[0;34m/\u001b[0m \u001b[0mself\u001b[0m\u001b[0;34m.\u001b[0m\u001b[0msecond\u001b[0m\u001b[0;34m\u001b[0m\u001b[0;34m\u001b[0m\u001b[0m\n\u001b[0m\u001b[1;32m     21\u001b[0m         \u001b[0;32mreturn\u001b[0m \u001b[0mresult\u001b[0m\u001b[0;34m\u001b[0m\u001b[0;34m\u001b[0m\u001b[0m\n",
      "\u001b[0;31mZeroDivisionError\u001b[0m: division by zero"
     ]
    }
   ],
   "source": [
    "# 기존 Calculation과 비교해보자.\n",
    "\n",
    "a = Calculation(4,0)\n",
    "\n",
    "print(a.div())"
   ]
  },
  {
   "cell_type": "markdown",
   "metadata": {},
   "source": [
    "### &#10045; 클래스 변수 (Class variable) - 클래스 안에 함수를 선언하는 것과 마찬가지로 클래스 안에 변수를 선언하여 생성\n",
    "\n",
    ">파이썬에서 클래스 변수는 다음과 같이 표기한다: <span style=\"color:navy\">**클래스 이름. 클래스 변수**</span><br><br>\n",
    "잘 쓰이지는 않는다."
   ]
  },
  {
   "cell_type": "code",
   "execution_count": 51,
   "metadata": {},
   "outputs": [],
   "source": [
    "# 클래스 변수 예시 1\n",
    "\n",
    "class Cookie:\n",
    "    taste = \"delicious\"   # 여기서 taste가 클래스 변수이다."
   ]
  },
  {
   "cell_type": "code",
   "execution_count": 52,
   "metadata": {},
   "outputs": [
    {
     "name": "stdout",
     "output_type": "stream",
     "text": [
      "delicious\n"
     ]
    }
   ],
   "source": [
    "print(Cookie.taste)"
   ]
  },
  {
   "cell_type": "code",
   "execution_count": 53,
   "metadata": {},
   "outputs": [
    {
     "name": "stdout",
     "output_type": "stream",
     "text": [
      "delicious\n",
      "delicious\n"
     ]
    }
   ],
   "source": [
    "a = Cookie()\n",
    "b = Cookie()\n",
    "\n",
    "print(a.taste)\n",
    "print(b.taste)"
   ]
  },
  {
   "cell_type": "code",
   "execution_count": 56,
   "metadata": {},
   "outputs": [
    {
     "name": "stdout",
     "output_type": "stream",
     "text": [
      "yuk!\n",
      "yuk!\n"
     ]
    }
   ],
   "source": [
    "# 클래스 변수 값을 변경했더니 클래스로 만든 객체의 taste 값도 모두 변경된다.\n",
    "\n",
    "Cookie.taste = \"yuk!\"\n",
    "\n",
    "print(a.taste)\n",
    "print(b.taste)"
   ]
  },
  {
   "cell_type": "markdown",
   "metadata": {},
   "source": [
    "&#128227; <span style=\"color:coral\">클래스 변수는 클래스로 만든 모든 객체에 공유된다는 특징이 있다.</span>"
   ]
  },
  {
   "cell_type": "markdown",
   "metadata": {},
   "source": [
    "# 2. 모듈 (Module)\n",
    "\n",
    "&#128270; 모듈은 함수나 변수 또는 클래스를 모아 놓은 파일이다."
   ]
  },
  {
   "cell_type": "markdown",
   "metadata": {},
   "source": [
    "## 2.1 모듈 만들기"
   ]
  },
  {
   "cell_type": "code",
   "execution_count": null,
   "metadata": {},
   "outputs": [],
   "source": [
    "# 파일 mod1.py\n",
    "\n",
    "def add(a,b):\n",
    "    return a + b\n",
    "\n",
    "def sub(a,b):\n",
    "    return a - b"
   ]
  },
  {
   "cell_type": "code",
   "execution_count": null,
   "metadata": {},
   "outputs": [],
   "source": []
  },
  {
   "cell_type": "code",
   "execution_count": null,
   "metadata": {},
   "outputs": [],
   "source": []
  },
  {
   "cell_type": "code",
   "execution_count": null,
   "metadata": {},
   "outputs": [],
   "source": []
  },
  {
   "cell_type": "code",
   "execution_count": null,
   "metadata": {},
   "outputs": [],
   "source": []
  },
  {
   "cell_type": "code",
   "execution_count": null,
   "metadata": {},
   "outputs": [],
   "source": []
  },
  {
   "cell_type": "code",
   "execution_count": null,
   "metadata": {},
   "outputs": [],
   "source": []
  },
  {
   "cell_type": "code",
   "execution_count": null,
   "metadata": {},
   "outputs": [],
   "source": []
  },
  {
   "cell_type": "code",
   "execution_count": null,
   "metadata": {},
   "outputs": [],
   "source": []
  },
  {
   "cell_type": "code",
   "execution_count": null,
   "metadata": {},
   "outputs": [],
   "source": []
  },
  {
   "cell_type": "code",
   "execution_count": null,
   "metadata": {},
   "outputs": [],
   "source": []
  },
  {
   "cell_type": "code",
   "execution_count": null,
   "metadata": {},
   "outputs": [],
   "source": []
  },
  {
   "cell_type": "code",
   "execution_count": null,
   "metadata": {},
   "outputs": [],
   "source": []
  },
  {
   "cell_type": "code",
   "execution_count": null,
   "metadata": {},
   "outputs": [],
   "source": []
  },
  {
   "cell_type": "code",
   "execution_count": null,
   "metadata": {},
   "outputs": [],
   "source": []
  },
  {
   "cell_type": "code",
   "execution_count": null,
   "metadata": {},
   "outputs": [],
   "source": []
  },
  {
   "cell_type": "code",
   "execution_count": null,
   "metadata": {},
   "outputs": [],
   "source": []
  }
 ],
 "metadata": {
  "kernelspec": {
   "display_name": "Python 3",
   "language": "python",
   "name": "python3"
  },
  "language_info": {
   "codemirror_mode": {
    "name": "ipython",
    "version": 3
   },
   "file_extension": ".py",
   "mimetype": "text/x-python",
   "name": "python",
   "nbconvert_exporter": "python",
   "pygments_lexer": "ipython3",
   "version": "3.7.3"
  }
 },
 "nbformat": 4,
 "nbformat_minor": 2
}
