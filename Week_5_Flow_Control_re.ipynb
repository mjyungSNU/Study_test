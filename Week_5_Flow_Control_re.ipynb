{
 "cells": [
  {
   "cell_type": "markdown",
   "metadata": {},
   "source": [
    "# Week 5: 제어문 (if문, while문, for문)"
   ]
  },
  {
   "cell_type": "markdown",
   "metadata": {},
   "source": [
    "## 2019 Summer"
   ]
  },
  {
   "cell_type": "markdown",
   "metadata": {},
   "source": [
    "### Mina Jyung"
   ]
  },
  {
   "cell_type": "markdown",
   "metadata": {},
   "source": [
    "> \"프로그램을 만드는 것도 집 짓기와 비슷하다. 나무, 돌, 시멘트와 같은 재료는 **자료형**이 되고, 집의 뼈대를 이루는 철근은 **제어문**에 해당된다.\""
   ]
  },
  {
   "cell_type": "markdown",
   "metadata": {},
   "source": [
    "# 1. if문\n",
    "\n",
    "* 프로그래밍에서 조건을 판단하여 해당 조건에 맞는 상황을 수행하는 사용"
   ]
  },
  {
   "cell_type": "markdown",
   "metadata": {},
   "source": [
    "## 1.1 if문의 기본 구조\n",
    "\n",
    "* 조건문을 테스트해서 <span style=\"color:blue\">참</span>이면 if문 바로 다음 문장(if 블록)들을 수행하고, 조건문이 <span style=\"color:red\">거짓</span>이면 else문 다음 문장(else 블록)들을 수행하게 된다.\n",
    "* 따라서, else문은 if문 없이 독립적으로 사용할 수 없다.\n",
    "\n",
    "\n",
    "* if문, else문에 속하는 모든 문장에는 **들여쓰기**를 해주자! (spacebar 4개 사용 권장)\n",
    "* 모든 조건문 다음에 **콜론(:)**을 잊지 말자!"
   ]
  },
  {
   "cell_type": "code",
   "execution_count": null,
   "metadata": {},
   "outputs": [],
   "source": [
    "#기본 구조\n",
    "\n",
    "if 조건문:  #콜론\n",
    "    수행할 문장 1  #들여쓰기\n",
    "    수행할 문장 2\n",
    "    , , ,\n",
    "\n",
    "else:  #콜론\n",
    "    수행할 문장 1  #들여쓰기\n",
    "    수행할 문장 2\n",
    "    , , ,"
   ]
  },
  {
   "cell_type": "markdown",
   "metadata": {},
   "source": [
    "## 1.2 잠깐, 조건문이란 무엇인가?\n",
    "\n",
    "* 조건문은 참과 거짓을 판단하는 문장을 말한다."
   ]
  },
  {
   "cell_type": "markdown",
   "metadata": {},
   "source": [
    "### 1.2.1 비교 연산자\n",
    "\n",
    "| 비교연산자 | 설명  |\n",
    "| :---:   | :---:|\n",
    "| x < y | x가 y보다 작다       |\n",
    "| x > y | x가 y보다 크다       |\n",
    "| x == y | x와 y는 같다        |\n",
    "| x != y | x와 y는 같지 않다    |\n",
    "| x >= y | x가 y보다 크거나 같다 |\n",
    "| x <= y | x가 y보다 작거나 같다 |\n"
   ]
  },
  {
   "cell_type": "code",
   "execution_count": 1,
   "metadata": {},
   "outputs": [
    {
     "name": "stdout",
     "output_type": "stream",
     "text": [
      "False\n",
      "True\n",
      "False\n",
      "True\n",
      "True\n",
      "False\n"
     ]
    }
   ],
   "source": [
    "a = 10\n",
    "b = 7\n",
    "\n",
    "print(a < b)\n",
    "print(a > b)\n",
    "print(a == b)\n",
    "print(a != b)\n",
    "print(a >= b)\n",
    "print(a <= b)"
   ]
  },
  {
   "cell_type": "code",
   "execution_count": 3,
   "metadata": {},
   "outputs": [
    {
     "name": "stdout",
     "output_type": "stream",
     "text": [
      "아주 잘하고 있어\n"
     ]
    }
   ],
   "source": [
    "#if문에 적용 1 (숫자형)\n",
    "\n",
    "성적 = 90\n",
    "\n",
    "if 성적 >= 90:\n",
    "    print(\"아주 잘하고 있어\")\n",
    "else:\n",
    "    print(\"조금 더 노력하자\")"
   ]
  },
  {
   "cell_type": "code",
   "execution_count": 5,
   "metadata": {},
   "outputs": [
    {
     "name": "stdout",
     "output_type": "stream",
     "text": [
      "조금 더 노력하자\n"
     ]
    }
   ],
   "source": [
    "#if문에 적용 2 (문자형)\n",
    "\n",
    "성적 = \"중\"\n",
    "\n",
    "if 성적 == \"상\":\n",
    "    print(\"아주 잘하고 있어\")\n",
    "else:\n",
    "    print(\"조금 더 노력하자\")"
   ]
  },
  {
   "cell_type": "code",
   "execution_count": 6,
   "metadata": {},
   "outputs": [],
   "source": [
    "#if문에 적용 3 (조건문에 pass: 아무것도 출력되지 않는다)\n",
    "\n",
    "성적 = \"상\"\n",
    "\n",
    "if 성적 == \"상\":\n",
    "    pass \n",
    "else:\n",
    "    print(\"조금 더 노력하자\")"
   ]
  },
  {
   "cell_type": "code",
   "execution_count": 16,
   "metadata": {},
   "outputs": [
    {
     "ename": "SyntaxError",
     "evalue": "'continue' not properly in loop (<ipython-input-16-8490c1ffe74d>, line 11)",
     "output_type": "error",
     "traceback": [
      "\u001b[0;36m  File \u001b[0;32m\"<ipython-input-16-8490c1ffe74d>\"\u001b[0;36m, line \u001b[0;32m11\u001b[0m\n\u001b[0;31mSyntaxError\u001b[0m\u001b[0;31m:\u001b[0m 'continue' not properly in loop\n"
     ]
    }
   ],
   "source": [
    "#if문에 적용 4 (if 조건문에 continue 오류 발생!)\n",
    "\n",
    "성적 = \"중\"\n",
    "\n",
    "if 성적 == \"상\":\n",
    "    print(\"아주 잘하고 있어\")\n",
    "else:\n",
    "    continue"
   ]
  },
  {
   "cell_type": "markdown",
   "metadata": {},
   "source": [
    "### 1.2.2 논리 연산자\n",
    "\n",
    "| 논리연산자 | 설명  |\n",
    "| :---:   | :---:|\n",
    "| x or y | x 또는 y가 참이면 참이다      |\n",
    "| x and y | x와 y 모두 참이면 참이다     |\n",
    "| not x | x가 거짓이면 참이다           |"
   ]
  },
  {
   "cell_type": "code",
   "execution_count": 8,
   "metadata": {},
   "outputs": [
    {
     "name": "stdout",
     "output_type": "stream",
     "text": [
      "True\n",
      "False\n",
      "True\n"
     ]
    }
   ],
   "source": [
    "a = 10\n",
    "b = 7\n",
    "\n",
    "print(a < b or a > b)\n",
    "print(a < b and a > b)\n",
    "print(not a < b)  #a<b가 거짓이니 참이다"
   ]
  },
  {
   "cell_type": "code",
   "execution_count": 9,
   "metadata": {},
   "outputs": [
    {
     "name": "stdout",
     "output_type": "stream",
     "text": [
      "귀하는 설문에 참여 가능합니다\n"
     ]
    }
   ],
   "source": [
    "#if문에 적용 1 (and)\n",
    "\n",
    "나이 = 22\n",
    "학부생 = True\n",
    "\n",
    "if 나이 >= 20 and 나이 <=30 and 학부생:\n",
    "    print(\"귀하는 설문에 참여 가능합니다\")\n",
    "else:\n",
    "    print(\"죄송합니다. 귀하는 설문에 참여 불가능합니다.\")"
   ]
  },
  {
   "cell_type": "code",
   "execution_count": 10,
   "metadata": {},
   "outputs": [
    {
     "name": "stdout",
     "output_type": "stream",
     "text": [
      "죄송합니다. 귀하는 설문에 참여 불가능합니다.\n"
     ]
    }
   ],
   "source": [
    "나이 = 27\n",
    "학부생 = False\n",
    "\n",
    "if 나이 >= 20 and 나이 <=30 and 학부생:\n",
    "    print(\"귀하는 설문에 참여 가능합니다\")\n",
    "else:\n",
    "    print(\"죄송합니다. 귀하는 설문에 참여 불가능합니다.\")"
   ]
  },
  {
   "cell_type": "code",
   "execution_count": 11,
   "metadata": {},
   "outputs": [
    {
     "name": "stdout",
     "output_type": "stream",
     "text": [
      "귀하는 설문에 참여 가능합니다\n"
     ]
    }
   ],
   "source": [
    "#if문에 적용 2 (or)\n",
    "\n",
    "나이 = 27\n",
    "학부생 = False\n",
    "\n",
    "if 나이 >= 20 and 나이 <=30 or 학부생:\n",
    "    print(\"귀하는 설문에 참여 가능합니다\")\n",
    "else:\n",
    "    print(\"죄송합니다. 귀하는 설문에 참여 불가능합니다.\")"
   ]
  },
  {
   "cell_type": "markdown",
   "metadata": {},
   "source": [
    "### 1.2.3 x in s, x not in s\n",
    "\n",
    "* in의 영어 뜻은 \"~안에\"이다.\n",
    "\n",
    "\n",
    "* **x in s**: s안에 x가 있으면 참이다.\n",
    "* **x not in s**: s안에 x가 없으면 참이다.\n",
    "\n",
    "| x in s | x not in s |\n",
    "| :---:   | :---:|\n",
    "| x in 리스트 | x not in 리스트  |\n",
    "| x in 튜플  | x not in 튜플    |\n",
    "| x in 문자열 | x not in 문자열  |"
   ]
  },
  {
   "cell_type": "code",
   "execution_count": 12,
   "metadata": {},
   "outputs": [
    {
     "name": "stdout",
     "output_type": "stream",
     "text": [
      "True\n",
      "True\n",
      "True\n",
      "False\n",
      "False\n",
      "False\n",
      "False\n",
      "False\n",
      "False\n",
      "True\n",
      "True\n",
      "True\n"
     ]
    },
    {
     "data": {
      "text/plain": [
       "(None, None, None)"
      ]
     },
     "execution_count": 12,
     "metadata": {},
     "output_type": "execute_result"
    }
   ],
   "source": [
    "List = [1,2,3]\n",
    "Tuple = (1,2,3)\n",
    "String = \"1,2,3\"  #문자형에는 따옴표를 붙이는 것 잊지 말자\n",
    "\n",
    "print(1 in List), print(1 in Tuple), print(\"1\" in String)\n",
    "\n",
    "print(5 in List), print(5 in Tuple), print(\"5\" in String)\n",
    "\n",
    "print(1 not in List), print(1 not in Tuple), print(\"1\" not in String)\n",
    "\n",
    "print(5 not in List), print(5 not in Tuple), print(\"5\" not in String)"
   ]
  },
  {
   "cell_type": "code",
   "execution_count": 13,
   "metadata": {},
   "outputs": [
    {
     "name": "stdout",
     "output_type": "stream",
     "text": [
      "\"fun episode!\"\n"
     ]
    }
   ],
   "source": [
    "#if문에 적용 1\n",
    "\n",
    "friends = [\"Joey\",\"Rachel\",\"Monica\",\"Ross\",\"Chandler\",\"Pheobe\"]\n",
    "\n",
    "if \"Joey\" in friends:\n",
    "    print(\"\\\"fun episode!\\\"\")\n",
    "else:\n",
    "    print(\"\\\"boring!\\\"\")"
   ]
  },
  {
   "cell_type": "code",
   "execution_count": 14,
   "metadata": {},
   "outputs": [
    {
     "name": "stdout",
     "output_type": "stream",
     "text": [
      "\"boring!\"\n"
     ]
    }
   ],
   "source": [
    "#if문에 적용 2\n",
    "\n",
    "friends = [\"Joey\",\"Rachel\",\"Monica\",\"Ross\",\"Chandler\",\"Pheobe\"]\n",
    "\n",
    "if \"Gunther\" in friends:\n",
    "    print(\"\\\"fun episode!\\\"\")\n",
    "else:\n",
    "    print(\"\\\"boring!\\\"\")"
   ]
  },
  {
   "cell_type": "code",
   "execution_count": 15,
   "metadata": {},
   "outputs": [
    {
     "name": "stdout",
     "output_type": "stream",
     "text": [
      "\"Come and watch!\"\n"
     ]
    }
   ],
   "source": [
    "#if문에 적용 3\n",
    "\n",
    "friends = [\"Joey\",\"Rachel\",\"Monica\",\"Ross\",\"Chandler\",\"Pheobe\"]\n",
    "\n",
    "if \"Pheobe\" in friends:\n",
    "    print(\"\\\"Come and watch!\\\"\")\n",
    "else:\n",
    "    pass"
   ]
  },
  {
   "cell_type": "code",
   "execution_count": 16,
   "metadata": {},
   "outputs": [
    {
     "name": "stdout",
     "output_type": "stream",
     "text": [
      "\"Come and watch!\"\n"
     ]
    }
   ],
   "source": [
    "#if문 간단하게 작성하기\n",
    "\n",
    "friends = [\"Joey\",\"Rachel\",\"Monica\",\"Ross\",\"Chandler\",\"Pheobe\"]\n",
    "\n",
    "if \"Pheobe\" in friends:print(\"\\\"Come and watch!\\\"\")\n",
    "else:pass"
   ]
  },
  {
   "cell_type": "markdown",
   "metadata": {},
   "source": [
    "## 1.3 다양한 조건을 판단하는 elif\n",
    "\n",
    "* 더 많은 조건을 추가하고 싶을 때 elif를 활용한다.\n",
    "\n",
    "\n",
    "* elif는 'else if'의 줄임말이다.\n",
    "\n",
    "\n",
    "* elif는 유일하게 개수에 제한 없이 사용할 수 있다."
   ]
  },
  {
   "cell_type": "code",
   "execution_count": null,
   "metadata": {},
   "outputs": [],
   "source": [
    "#기본 구조\n",
    "\n",
    "if 조건문:  #콜론\n",
    "    수행할 문장 1  #들여쓰기\n",
    "    수행할 문자 2\n",
    "    ,,,\n",
    "\n",
    "elif 조건문:\n",
    "    수행할 문장 1\n",
    "    수행할 문장 2\n",
    "    ,,,\n",
    "\n",
    "else:\n",
    "    수행할 문장 1\n",
    "    수행할 문장 2\n",
    "    ,,,"
   ]
  },
  {
   "cell_type": "code",
   "execution_count": 17,
   "metadata": {},
   "outputs": [
    {
     "name": "stdout",
     "output_type": "stream",
     "text": [
      "그는 똑똑하고 성격도 좋아\n"
     ]
    }
   ],
   "source": [
    "#if문에 적용\n",
    "\n",
    "성적 = 100\n",
    "성격 = \"좋아\"\n",
    "\n",
    "if 성적 > 80 and 성격 == \"좋아\":\n",
    "    print(\"그는 똑똑하고 성격도 좋아\")\n",
    "elif 성적 > 80 and 성격 == \"별로\":\n",
    "    print(\"그는 똑똑은 한데 성격이 별로야\")\n",
    "elif 성적 < 50 and 성격 == \"좋아\":\n",
    "    print(\"그는 똑똑하지는 않지만 성격이 좋아\")\n",
    "elif 성적 < 50 and 성격 == \"별로\":\n",
    "    print(\"그는 머리도 나쁘고 성격도 별로야\")\n",
    "else:\n",
    "    pass"
   ]
  },
  {
   "cell_type": "code",
   "execution_count": 18,
   "metadata": {},
   "outputs": [
    {
     "name": "stdout",
     "output_type": "stream",
     "text": [
      "그는 똑똑하지는 않지만 성격이 좋아\n"
     ]
    }
   ],
   "source": [
    "성적 = 20\n",
    "성격 = \"좋아\"\n",
    "\n",
    "if 성적 > 80 and 성격 == \"좋아\":\n",
    "    print(\"그는 똑똑하고 성격도 좋아\")\n",
    "elif 성적 > 80 and 성격 == \"별로\":\n",
    "    print(\"그는 똑똑은 한데 성격이 별로야\")\n",
    "elif 성적 < 50 and 성격 == \"좋아\":\n",
    "    print(\"그는 똑똑하지는 않지만 성격이 좋아\")\n",
    "elif 성적 < 50 and 성격 == \"별로\":\n",
    "    print(\"그는 머리도 나쁘고 성격도 별로야\")\n",
    "else:\n",
    "    pass"
   ]
  },
  {
   "cell_type": "code",
   "execution_count": 19,
   "metadata": {},
   "outputs": [],
   "source": [
    "성적 = 60\n",
    "성격 = \"좋아\"\n",
    "\n",
    "if 성적 > 80 and 성격 == \"좋아\":\n",
    "    print(\"그는 똑똑하고 성격도 좋아\")\n",
    "elif 성적 > 80 and 성격 == \"별로\":\n",
    "    print(\"그는 똑똑은 한데 성격이 별로야\")\n",
    "elif 성적 < 50 and 성격 == \"좋아\":\n",
    "    print(\"그는 똑똑하지는 않지만 성격이 좋아\")\n",
    "elif 성적 < 50 and 성격 == \"별로\":\n",
    "    print(\"그는 머리도 나쁘고 성격도 별로야\")\n",
    "else:\n",
    "    pass"
   ]
  },
  {
   "cell_type": "markdown",
   "metadata": {},
   "source": [
    "# 2. while문\n",
    "\n",
    "* 반복해서 문장을 수행해야 할 경우 사용 (while문을 반복문이라고도 부른다)"
   ]
  },
  {
   "cell_type": "markdown",
   "metadata": {},
   "source": [
    "## 2.1 while문의 기본 구조\n",
    "\n",
    "* while문은 조건문이 <span style=\"color:blue\">참</span>인 동안에 while문 아래 문장이 반복해서 수행된다. 조건문이 <span style=\"color:red\">거짓</span>이 되면 시행이 끝난다."
   ]
  },
  {
   "cell_type": "code",
   "execution_count": null,
   "metadata": {},
   "outputs": [],
   "source": [
    "#기본 구조\n",
    "\n",
    "while 조건문:\n",
    "    수행할 문장 1\n",
    "    수행할 문장 2\n",
    "    수행할 문장 3\n",
    "    ,,,"
   ]
  },
  {
   "cell_type": "markdown",
   "metadata": {},
   "source": [
    "| treeHit | 조건문 | 조건판단 | 수행하는 문장| while문 |\n",
    "| :---: | :---: | :---: | :---: | :---: |\n",
    "| 0 | 0 < 10 | 참 | 나무를 1번 찍었습니다. | 반복 |\n",
    "| 1 | 1 < 10 | 참 | 나무를 2번 찍었습니다. | 반복 |\n",
    "| 2 | 2 < 10 | 참 | 나무를 3번 찍었습니다. | 반복 |\n",
    "| 3 | 3 < 10 | 참 | 나무를 4번 찍었습니다. | 반복 |\n",
    "| 4 | 4 < 10 | 참 | 나무를 5번 찍었습니다. | 반복 |\n",
    "| 5 | 5 < 10 | 참 | 나무를 6번 찍었습니다. | 반복 |\n",
    "| 6 | 6 < 10 | 참 | 나무를 7번 찍었습니다. | 반복 |\n",
    "| 7 | 7 < 10 | 참 | 나무를 8번 찍었습니다. | 반복 |\n",
    "| 8 | 8 < 10 | 참 | 나무를 9번 찍었습니다. | 반복 |\n",
    "| 9 | 9 < 10 | 참 | 나무를 10번 찍었습니다. 나무가 넘어갑니다.| 반복 |\n",
    "| 10 | 10 < 10 | 거짓 |                            _ | 종료 |"
   ]
  },
  {
   "cell_type": "code",
   "execution_count": 7,
   "metadata": {},
   "outputs": [
    {
     "name": "stdout",
     "output_type": "stream",
     "text": [
      "나무를 1번 찍었습니다\n",
      "나무를 2번 찍었습니다\n",
      "나무를 3번 찍었습니다\n",
      "나무를 4번 찍었습니다\n",
      "나무를 5번 찍었습니다\n",
      "나무를 6번 찍었습니다\n",
      "나무를 7번 찍었습니다\n",
      "나무를 8번 찍었습니다\n",
      "나무를 9번 찍었습니다\n",
      "나무를 10번 찍었습니다\n",
      "나무가 넘어갑니다.\n"
     ]
    }
   ],
   "source": [
    "#while문 예시 1\n",
    "\n",
    "treeHit = 0\n",
    "\n",
    "while treeHit < 10:\n",
    "    treeHit = treeHit + 1\n",
    "    print(\"나무를 %d번 찍었습니다\" %treeHit)\n",
    "if treeHit == 10:\n",
    "    print(\"나무가 넘어갑니다.\")"
   ]
  },
  {
   "cell_type": "code",
   "execution_count": 6,
   "metadata": {},
   "outputs": [
    {
     "name": "stdout",
     "output_type": "stream",
     "text": [
      "나무를 2번 찍었습니다\n",
      "나무를 3번 찍었습니다\n",
      "나무를 4번 찍었습니다\n",
      "나무를 5번 찍었습니다\n",
      "나무를 6번 찍었습니다\n",
      "나무를 7번 찍었습니다\n",
      "나무를 8번 찍었습니다\n",
      "나무를 9번 찍었습니다\n",
      "나무를 10번 찍었습니다\n",
      "나무가 넘어갑니다.\n"
     ]
    }
   ],
   "source": [
    "treeHit = 1\n",
    "\n",
    "while treeHit < 10:\n",
    "    treeHit = treeHit + 1\n",
    "    print(\"나무를 %d번 찍었습니다\" %treeHit)\n",
    "if treeHit == 10:\n",
    "    print(\"나무가 넘어갑니다.\")"
   ]
  },
  {
   "cell_type": "code",
   "execution_count": 23,
   "metadata": {},
   "outputs": [
    {
     "name": "stdout",
     "output_type": "stream",
     "text": [
      "나무를 1번 찍었습니다\n",
      "나무를 2번 찍었습니다\n",
      "나무를 3번 찍었습니다\n",
      "나무를 4번 찍었습니다\n",
      "나무를 5번 찍었습니다\n",
      "나무를 6번 찍었습니다\n",
      "나무를 7번 찍었습니다\n",
      "나무를 8번 찍었습니다\n",
      "나무를 9번 찍었습니다\n",
      "나무를 10번 찍었습니다\n",
      "나무가 넘어갑니다.\n"
     ]
    }
   ],
   "source": [
    "#while문 예시 2 (\\\"i += 1\\\"은 \\\"i = i + 1\\\"와 같다.)\n",
    "\n",
    "treeHit = 0\n",
    "\n",
    "while treeHit < 10:\n",
    "    treeHit += 1  #이 부분\n",
    "    print(\"나무를 %d번 찍었습니다\" %treeHit)\n",
    "if treeHit == 10:\n",
    "    print(\"나무가 넘어갑니다.\")"
   ]
  },
  {
   "cell_type": "code",
   "execution_count": 5,
   "metadata": {},
   "outputs": [
    {
     "name": "stdout",
     "output_type": "stream",
     "text": [
      "\"The wolf is carrying away a lamb!\" The shepherd boy lied 1 times.\n",
      "\"The wolf is carrying away a lamb!\" The shepherd boy lied 2 times.\n",
      "\"The wolf is carrying away a lamb!\" The shepherd boy lied 3 times.\n",
      "\"The wolf is carrying away a lamb!\" The shepherd boy lied 4 times.\n",
      "\"The wolf is carrying away a lamb!\" The shepherd boy lied 5 times.\n",
      "\"The wolf is carrying away a lamb!\" The shepherd boy lied 6 times.\n",
      "The wolf carried a lamb away!\n"
     ]
    }
   ],
   "source": [
    "#while문 예시 3 (왜 2부터가 아닌, 1부터 인가요? 코드 순서 중요합니다!)\n",
    "\n",
    "lie = 1\n",
    "\n",
    "while lie < 7:\n",
    "    print(\"\\\"The wolf is carrying away a lamb!\\\" The shepherd boy lied %s times.\" %lie)\n",
    "    lie = lie + 1\n",
    "if lie == 7:\n",
    "    print(\"The wolf carried a lamb away!\")"
   ]
  },
  {
   "cell_type": "code",
   "execution_count": 8,
   "metadata": {},
   "outputs": [
    {
     "name": "stdout",
     "output_type": "stream",
     "text": [
      "\"The wolf is carrying away a lamb!\" The shepherd boy lied 2 times.\n",
      "\"The wolf is carrying away a lamb!\" The shepherd boy lied 3 times.\n",
      "\"The wolf is carrying away a lamb!\" The shepherd boy lied 4 times.\n",
      "\"The wolf is carrying away a lamb!\" The shepherd boy lied 5 times.\n",
      "\"The wolf is carrying away a lamb!\" The shepherd boy lied 6 times.\n",
      "\"The wolf is carrying away a lamb!\" The shepherd boy lied 7 times.\n",
      "The wolf carried a lamb away!\n"
     ]
    }
   ],
   "source": [
    "lie = 1\n",
    "\n",
    "while lie < 7:\n",
    "    lie = lie + 1\n",
    "    print(\"\\\"The wolf is carrying away a lamb!\\\" The shepherd boy lied %s times.\" %lie)\n",
    "if lie == 7:\n",
    "    print(\"The wolf carried a lamb away!\")"
   ]
  },
  {
   "cell_type": "markdown",
   "metadata": {},
   "source": [
    "## 2.2 무한루프 \n",
    "\n",
    "* while문의 조건이 참인 이상, while문 안에 있는 문장들이 무한히 수행된다.\n",
    "\n",
    "\n",
    "* <span style=\"color:green\">[Ctrl+C]</span>를 눌러야 while문을 빠져나갈 수 있다."
   ]
  },
  {
   "cell_type": "code",
   "execution_count": 27,
   "metadata": {},
   "outputs": [],
   "source": [
    "#while True:\n",
    "    #print(\"STOP\")"
   ]
  },
  {
   "cell_type": "markdown",
   "metadata": {},
   "source": [
    "## 2.3 while문 빠져나가기\n",
    "\n",
    "* **break문**은 while문의 조건문이 참일 때도 while문을 빠져나갈 수 있게 한다."
   ]
  },
  {
   "cell_type": "code",
   "execution_count": 1,
   "metadata": {},
   "outputs": [
    {
     "name": "stdout",
     "output_type": "stream",
     "text": [
      "\"사탕 여기 있습니다. 구매해주셔서 감사합니다.\"\n",
      "현재 9개 사탕 남았습니다.\n",
      "\"사탕 여기 있습니다. 구매해주셔서 감사합니다.\"\n",
      "현재 8개 사탕 남았습니다.\n",
      "\"사탕 여기 있습니다. 구매해주셔서 감사합니다.\"\n",
      "현재 7개 사탕 남았습니다.\n",
      "\"사탕 여기 있습니다. 구매해주셔서 감사합니다.\"\n",
      "현재 6개 사탕 남았습니다.\n",
      "\"사탕 여기 있습니다. 구매해주셔서 감사합니다.\"\n",
      "현재 5개 사탕 남았습니다.\n",
      "\"사탕 여기 있습니다. 구매해주셔서 감사합니다.\"\n",
      "현재 4개 사탕 남았습니다.\n",
      "\"사탕 여기 있습니다. 구매해주셔서 감사합니다.\"\n",
      "현재 3개 사탕 남았습니다.\n",
      "\"사탕 여기 있습니다. 구매해주셔서 감사합니다.\"\n",
      "현재 2개 사탕 남았습니다.\n",
      "\"사탕 여기 있습니다. 구매해주셔서 감사합니다.\"\n",
      "현재 1개 사탕 남았습니다.\n",
      "\"사탕 여기 있습니다. 구매해주셔서 감사합니다.\"\n",
      "현재 0개 사탕 남았습니다.\n",
      "\"죄송합니다. 더 이상 사탕이 없습니다.\"\n"
     ]
    }
   ],
   "source": [
    "#break문 적용 1\n",
    "\n",
    "#coin이 100으로 고정되어 있으므로 while coin:에서 조건문인 coin이 0이 아니기 때문에 항상 참이다. (무한히 반복되는 무한루프)\n",
    "#그리고 while문의 내용이 한 번 수행될 때마다 candy는 1개씩 줄어든다. \n",
    "#candy가 0이 되면, \"죄송합니다. 더 이상 사탕이 없습니다.\"가 수행되고 break문이 호출되어 while문을 빠져나가게 된다.\n",
    "\n",
    "candy = 10\n",
    "coin = 100\n",
    "\n",
    "while coin:  #coin이 100으로 고정되어 항상 TRUE\n",
    "    print(\"\\\"사탕 여기 있습니다. 구매해주셔서 감사합니다.\\\"\")\n",
    "    candy = candy - 1\n",
    "    print(\"현재 %d개 사탕 남았습니다.\" %candy)\n",
    "    if candy == 0:\n",
    "        print(\"\\\"죄송합니다. 더 이상 사탕이 없습니다.\\\"\")\n",
    "        break"
   ]
  },
  {
   "cell_type": "markdown",
   "metadata": {},
   "source": [
    "## 2.4 while문의 맨 처음으로 돌아가기\n",
    "\n",
    "* **continue문**은 while문의 조건문을 빠져나가지 않고 맨 처음 조건문으로 돌아갈 수 있게 한다."
   ]
  },
  {
   "cell_type": "code",
   "execution_count": 10,
   "metadata": {},
   "outputs": [
    {
     "name": "stdout",
     "output_type": "stream",
     "text": [
      "1\n",
      "3\n",
      "5\n",
      "7\n",
      "9\n"
     ]
    }
   ],
   "source": [
    "i = 0\n",
    "\n",
    "while i < 10:\n",
    "    i = i + 1\n",
    "    if i % 2 == 0: continue  #홀수만 출력하는 예시이다.\n",
    "    print(i)                 #따라서, i가 짝수이면, print(i)는 수행되지 않을 것이다."
   ]
  },
  {
   "cell_type": "code",
   "execution_count": 12,
   "metadata": {},
   "outputs": [
    {
     "name": "stdout",
     "output_type": "stream",
     "text": [
      "2\n",
      "4\n",
      "6\n",
      "8\n",
      "10\n"
     ]
    }
   ],
   "source": [
    "i = 0\n",
    "\n",
    "while i < 10:\n",
    "    i = i + 1\n",
    "    if i % 2 == 0:\n",
    "        print(i) "
   ]
  },
  {
   "cell_type": "code",
   "execution_count": 15,
   "metadata": {},
   "outputs": [],
   "source": [
    "i = 0\n",
    "\n",
    "while i < 10:\n",
    "    i = i + 1\n",
    "    if i % 2 == 0:\n",
    "        continue"
   ]
  },
  {
   "cell_type": "code",
   "execution_count": 30,
   "metadata": {},
   "outputs": [
    {
     "name": "stdout",
     "output_type": "stream",
     "text": [
      "13579"
     ]
    }
   ],
   "source": [
    "i = 0\n",
    "\n",
    "while i < 10:\n",
    "    i = i + 1\n",
    "    if i % 2 == 0: continue\n",
    "    print(i, end = '')  #매개변수 end를 넣어주면, 해당 결괏값을 출력할 때 다음 줄로 넘기지 않고 한 줄에 계속해서 출력한다."
   ]
  },
  {
   "cell_type": "code",
   "execution_count": 10,
   "metadata": {},
   "outputs": [
    {
     "name": "stdout",
     "output_type": "stream",
     "text": [
      "2\n",
      "4\n",
      "6\n",
      "8\n",
      "10\n"
     ]
    }
   ],
   "source": [
    "i = 0\n",
    "\n",
    "while i < 10:\n",
    "    i = i + 1\n",
    "    if i % 2 == 1: continue  #짝수만 출력하는 예시이다.\n",
    "    print(i)                 #따라서, i가 홀수이면, print(i)는 수행되지 않을 것이다."
   ]
  },
  {
   "cell_type": "markdown",
   "metadata": {},
   "source": [
    "# 3. for문\n",
    "\n",
    "* for문은 파이썬의 직관적인 특징을 가장 잘 대변해주며 유용함"
   ]
  },
  {
   "cell_type": "markdown",
   "metadata": {},
   "source": [
    "## 3.1 for문의 기본 구조"
   ]
  },
  {
   "cell_type": "code",
   "execution_count": null,
   "metadata": {},
   "outputs": [],
   "source": [
    "#기본 구조\n",
    "\n",
    "for 변수 in 리스트 (또는 튜플, 문자열):\n",
    "    수행할 문장 1\n",
    "    수행할 문장 2\n",
    "    ,,,"
   ]
  },
  {
   "cell_type": "markdown",
   "metadata": {},
   "source": [
    "## 3.2 for문 예시"
   ]
  },
  {
   "cell_type": "code",
   "execution_count": 18,
   "metadata": {},
   "outputs": [
    {
     "name": "stdout",
     "output_type": "stream",
     "text": [
      "one\n",
      "two\n",
      "three\n",
      "four\n"
     ]
    }
   ],
   "source": [
    "#for문 예시 1 (리스트)\n",
    "\n",
    "a = [\"one\",\"two\",\"three\",\"four\"]\n",
    "\n",
    "for i in a:   #a 리스트의 첫 번째 요소 \"one\"이 i 변수에 대입된 후 print(i) 문장을 수행한다. \n",
    "    print(i)  #그 다음 두 번째, 세 번째, 마지막 요소까지 이것을 반복한다."
   ]
  },
  {
   "cell_type": "code",
   "execution_count": 20,
   "metadata": {},
   "outputs": [
    {
     "name": "stdout",
     "output_type": "stream",
     "text": [
      "12\n",
      "24\n",
      "36\n"
     ]
    }
   ],
   "source": [
    "#for문 예시 2 (요솟값이 튜플)\n",
    "\n",
    "b = [(1,11),(2,22),(3,33)]\n",
    "for (first, last) in b:\n",
    "    print (first + last)"
   ]
  },
  {
   "cell_type": "code",
   "execution_count": 23,
   "metadata": {},
   "outputs": [
    {
     "name": "stdout",
     "output_type": "stream",
     "text": [
      "158.5\n",
      "170.0\n",
      "161.5\n"
     ]
    }
   ],
   "source": [
    "#for문 예시 3 (요솟값이 튜플)\n",
    "\n",
    "GRE = [(140,170,3.5),(150,180,5),(150,165,4)]\n",
    "for (verbal, Quantitative, writing) in GRE:\n",
    "    print ((verbal + Quantitative)/2 + writing)"
   ]
  },
  {
   "cell_type": "code",
   "execution_count": 25,
   "metadata": {},
   "outputs": [
    {
     "name": "stdout",
     "output_type": "stream",
     "text": [
      "1번 연구참여자는 이 연구에 참여 가능합니다.\n",
      "2번 연구참여자는 이 연구에 참여 불가능합니다.\n",
      "3번 연구참여자는 이 연구에 참여 가능합니다.\n",
      "4번 연구참여자는 이 연구에 참여 불가능합니다.\n",
      "5번 연구참여자는 이 연구에 참여 가능합니다.\n"
     ]
    }
   ],
   "source": [
    "#for문 응용 예시 1: 총 5명의 연구참여자의 나이를 확인하여 연구 참여 여부를 알아보자.\n",
    "\n",
    "ages = [20,36,24,29,23]\n",
    "\n",
    "number = 0  #각 연구참여자에게 번호를 붙여주기 위해 number 변수를 사용한다. 이때, 번호는 0부터 시작한다.\n",
    "for age in ages:\n",
    "    number = number + 1  #1씩 더하면서 계산한다.\n",
    "    if age <= 25:\n",
    "        print(\"%d번 연구참여자는 이 연구에 참여 가능합니다.\" %number)\n",
    "    else:\n",
    "        print(\"%d번 연구참여자는 이 연구에 참여 불가능합니다.\" %number)"
   ]
  },
  {
   "cell_type": "code",
   "execution_count": 27,
   "metadata": {},
   "outputs": [
    {
     "name": "stdout",
     "output_type": "stream",
     "text": [
      "1번 학생은 집 앞 놀이터로 가세요.\n",
      "2번 학생은 디즈니랜드로 놀러갔다 오세요.\n",
      "3번 학생은 애버랜드로 놀러갔다 오세요.\n",
      "4번 학생은 디즈니랜드로 놀러갔다 오세요.\n",
      "5번 학생은 집 앞 놀이터로 가세요.\n",
      "6번 학생은 애버랜드로 놀러갔다 오세요.\n"
     ]
    }
   ],
   "source": [
    "#for문 응용 예시 2: 성적에 따라 휴가 때 놀러갈 곳을 정해보자.\n",
    "\n",
    "grades = [20,85,66,95,43,70]\n",
    "\n",
    "number = 0  #학생 번호는 0부터 시작한다.\n",
    "for grade in grades:\n",
    "    number = number + 1  #1씩 더하면서 계산한다.\n",
    "    if grade >= 80:\n",
    "        print(\"%d번 학생은 디즈니랜드로 놀러갔다 오세요.\" %number)\n",
    "    elif grade >= 60:\n",
    "        print(\"%d번 학생은 애버랜드로 놀러갔다 오세요.\" %number)\n",
    "    else:\n",
    "        print(\"%d번 학생은 집 앞 놀이터로 가세요.\" %number)"
   ]
  },
  {
   "cell_type": "markdown",
   "metadata": {},
   "source": [
    "## 3.3 for문의 맨 처음으로 돌아가기\n",
    "\n",
    "* **continue문**은 for문의 조건문을 빠져나가지 않고 맨 처음 조건문으로 돌아갈 수 있게 한다."
   ]
  },
  {
   "cell_type": "code",
   "execution_count": 29,
   "metadata": {},
   "outputs": [
    {
     "name": "stdout",
     "output_type": "stream",
     "text": [
      "2번 사람은 이 놀이기구를 탈 수 없습니다.\n",
      "3번 사람은 이 놀이기구를 탈 수 없습니다.\n",
      "5번 사람은 이 놀이기구를 탈 수 없습니다.\n"
     ]
    }
   ],
   "source": [
    "heights = [130,145,166,125,155,140]\n",
    "\n",
    "number = 0\n",
    "for height in heights:\n",
    "    number = number + 1\n",
    "    if height <= 140: continue\n",
    "    print(\"%d번 사람은 이 놀이기구를 탈 수 없습니다.\" %number)"
   ]
  },
  {
   "cell_type": "markdown",
   "metadata": {},
   "source": [
    "## 3.4 for문과 자주 사용하는 range함수\n",
    "\n",
    "* range( ) 함수는 숫자 리스트를 자동으로 만들어준다.\n",
    "\n",
    "| range함수 | 설명  |\n",
    "| :---:   | :---:|\n",
    "| range(s,e) | s이상 e미만의 숫자 리스트를 표현한다   |\n",
    "| range(e) | 0이상 e미만의 숫자 리스트를 표현한다      |\n",
    "| len(a) | 리스트 안의 요소 수를 세어준다             |\n",
    "|range(len(a))| 리스트 안의 요소 수의 리스트를 표현한다   |\n",
    "|len(range(a))| ?   |"
   ]
  },
  {
   "cell_type": "code",
   "execution_count": 34,
   "metadata": {},
   "outputs": [
    {
     "data": {
      "text/plain": [
       "range(1, 11)"
      ]
     },
     "execution_count": 34,
     "metadata": {},
     "output_type": "execute_result"
    }
   ],
   "source": [
    "#range(s,e)\n",
    "\n",
    "a = range(1,11)  #이때 끝 숫자는 포함되지 않는다. 즉, 1부터 10까지의 숫자를 데이터로 갖는 객체이다.\n",
    "\n",
    "a"
   ]
  },
  {
   "cell_type": "code",
   "execution_count": 35,
   "metadata": {
    "scrolled": true
   },
   "outputs": [
    {
     "data": {
      "text/plain": [
       "range(0, 10)"
      ]
     },
     "execution_count": 35,
     "metadata": {},
     "output_type": "execute_result"
    }
   ],
   "source": [
    "#range(e)\n",
    "\n",
    "b = range(10)  #0부터 10미만의 숫자를 포함하는 range 객체를 만들어 준다.\n",
    "\n",
    "b"
   ]
  },
  {
   "cell_type": "code",
   "execution_count": 46,
   "metadata": {},
   "outputs": [
    {
     "data": {
      "text/plain": [
       "5"
      ]
     },
     "execution_count": 46,
     "metadata": {},
     "output_type": "execute_result"
    }
   ],
   "source": [
    "#range(len(a))\n",
    "\n",
    "x = [1,2,3,4,5]\n",
    "\n",
    "len(x)"
   ]
  },
  {
   "cell_type": "code",
   "execution_count": 73,
   "metadata": {},
   "outputs": [
    {
     "ename": "TypeError",
     "evalue": "'list' object cannot be interpreted as an integer",
     "output_type": "error",
     "traceback": [
      "\u001b[0;31m---------------------------------------------------------------------------\u001b[0m",
      "\u001b[0;31mTypeError\u001b[0m                                 Traceback (most recent call last)",
      "\u001b[0;32m<ipython-input-73-b09cae1003c7>\u001b[0m in \u001b[0;36m<module>\u001b[0;34m\u001b[0m\n\u001b[0;32m----> 1\u001b[0;31m \u001b[0mrange\u001b[0m\u001b[0;34m(\u001b[0m\u001b[0mx\u001b[0m\u001b[0;34m)\u001b[0m\u001b[0;34m\u001b[0m\u001b[0;34m\u001b[0m\u001b[0m\n\u001b[0m",
      "\u001b[0;31mTypeError\u001b[0m: 'list' object cannot be interpreted as an integer"
     ]
    }
   ],
   "source": [
    "#리스트 x에 있는 요수 개수의 range를 알고 싶다.\n",
    "\n",
    "range(x)\n",
    "\n",
    "#오류 발생! "
   ]
  },
  {
   "cell_type": "code",
   "execution_count": 47,
   "metadata": {},
   "outputs": [
    {
     "data": {
      "text/plain": [
       "range(0, 5)"
      ]
     },
     "execution_count": 47,
     "metadata": {},
     "output_type": "execute_result"
    }
   ],
   "source": [
    "#오류 해결\n",
    "\n",
    "range(len(x))"
   ]
  },
  {
   "cell_type": "markdown",
   "metadata": {},
   "source": [
    "*** for문과 range함수의 기본 구조**"
   ]
  },
  {
   "cell_type": "code",
   "execution_count": null,
   "metadata": {},
   "outputs": [],
   "source": [
    "#기본 구조\n",
    "\n",
    "for i in range(s,e):\n",
    "    print(i)"
   ]
  },
  {
   "cell_type": "code",
   "execution_count": 72,
   "metadata": {},
   "outputs": [
    {
     "name": "stdout",
     "output_type": "stream",
     "text": [
      "1\n",
      "2\n",
      "3\n",
      "4\n",
      "5\n",
      "6\n",
      "7\n",
      "8\n",
      "9\n"
     ]
    }
   ],
   "source": [
    "for i in range(1,10):  #마지막 숫자 10은 포함되지 않는다.\n",
    "    print(i)"
   ]
  },
  {
   "cell_type": "markdown",
   "metadata": {},
   "source": [
    "*** for문에 range함수 적용하기**"
   ]
  },
  {
   "cell_type": "code",
   "execution_count": 8,
   "metadata": {},
   "outputs": [
    {
     "name": "stdout",
     "output_type": "stream",
     "text": [
      "0\n",
      "1\n",
      "3\n",
      "6\n",
      "10\n",
      "15\n",
      "21\n",
      "28\n",
      "36\n",
      "45\n"
     ]
    }
   ],
   "source": [
    "#range함수 적용 1\n",
    "\n",
    "sum = 0\n",
    "for i in range(10):  #range(0,10) 즉, 0부터 9까지의 객체이다.\n",
    "    sum = sum + i\n",
    "    print(sum)"
   ]
  },
  {
   "cell_type": "code",
   "execution_count": 9,
   "metadata": {},
   "outputs": [
    {
     "name": "stdout",
     "output_type": "stream",
     "text": [
      "45\n"
     ]
    }
   ],
   "source": [
    "sum = 0\n",
    "for i in range(10):  #range(0,10) 즉, 0부터 9까지의 객체이다.\n",
    "    sum = sum + i\n",
    "print(sum)"
   ]
  },
  {
   "cell_type": "code",
   "execution_count": 7,
   "metadata": {},
   "outputs": [
    {
     "name": "stdout",
     "output_type": "stream",
     "text": [
      "3\n",
      "4\n",
      "6\n",
      "9\n",
      "13\n",
      "18\n",
      "24\n",
      "31\n",
      "39\n",
      "48\n"
     ]
    },
    {
     "data": {
      "text/plain": [
       "9"
      ]
     },
     "execution_count": 7,
     "metadata": {},
     "output_type": "execute_result"
    }
   ],
   "source": [
    "#주의: \n",
    "\n",
    "sum = 3\n",
    "for i in range(10):  \n",
    "    #print(i)\n",
    "    sum = sum + i\n",
    "    print(sum)  #어떻게 48이 나온 것일까?\n",
    "i"
   ]
  },
  {
   "cell_type": "code",
   "execution_count": 10,
   "metadata": {},
   "outputs": [
    {
     "name": "stdout",
     "output_type": "stream",
     "text": [
      "48\n"
     ]
    }
   ],
   "source": [
    "#주의: \n",
    "\n",
    "sum = 3\n",
    "for i in range(10):  \n",
    "    #print(i)\n",
    "    sum = sum + i\n",
    "print(sum)  #어떻게 48이 나온 것일까?"
   ]
  },
  {
   "cell_type": "code",
   "execution_count": 57,
   "metadata": {},
   "outputs": [
    {
     "name": "stdout",
     "output_type": "stream",
     "text": [
      "0번 지원자님 축하합니다. 합격입니다!\n",
      "1번 지원자님 축하합니다. 합격입니다!\n",
      "4번 지원자님 축하합니다. 합격입니다!\n"
     ]
    }
   ],
   "source": [
    "#range함수 적용 2\n",
    "\n",
    "scores = [90,100,70,65,85]\n",
    "\n",
    "for number in range(len(scores)):\n",
    "    if scores[number] < 80: continue\n",
    "    print (\"%d번 지원자님 축하합니다. 합격입니다!\" %number)  #파이썬 range에서는 0부터 수를 센다."
   ]
  },
  {
   "cell_type": "code",
   "execution_count": 58,
   "metadata": {},
   "outputs": [
    {
     "name": "stdout",
     "output_type": "stream",
     "text": [
      "1번 지원자님 축하합니다. 합격입니다!\n",
      "2번 지원자님 축하합니다. 합격입니다!\n",
      "5번 지원자님 축하합니다. 합격입니다!\n"
     ]
    }
   ],
   "source": [
    "scores = [90,100,70,65,85]\n",
    "\n",
    "for number in range(len(scores)):\n",
    "    if scores[number] < 80: continue\n",
    "    print (\"%d번 지원자님 축하합니다. 합격입니다!\" %(number+1)) "
   ]
  },
  {
   "cell_type": "code",
   "execution_count": 64,
   "metadata": {},
   "outputs": [
    {
     "name": "stdout",
     "output_type": "stream",
     "text": [
      "파이썬 Week 1은(는) 재미있었다.\n",
      "파이썬 Week 2은(는) 할 만했다.\n",
      "파이썬 Week 3은(는) 괜찮았다.\n",
      "파이썬 Week 4은(는) 어렵다.\n",
      "파이썬 Week 5은(는) 너무 어렵다.\n"
     ]
    }
   ],
   "source": [
    "#range함수 적용 3\n",
    "\n",
    "python = [\"재미있었다\",\"할 만했다\",\"괜찮았다\",\"어렵다\",\"너무 어렵다\"]\n",
    "\n",
    "for i in range(len(python)):\n",
    "    level = python[i]\n",
    "    print(\"파이썬 Week {}은(는) {}.\" .format(i+1,level))"
   ]
  },
  {
   "cell_type": "code",
   "execution_count": 67,
   "metadata": {},
   "outputs": [
    {
     "name": "stdout",
     "output_type": "stream",
     "text": [
      "오늘 휴일인데\n",
      "오늘 하루종일\n",
      "오늘 파이썬만 하고 있다\n",
      "오늘 행복했다\n"
     ]
    }
   ],
   "source": [
    "#range함수 적용 4\n",
    "\n",
    "today = [\"휴일인데\",\"하루종일\",\"파이썬만 하고 있다\",\"행복했다\"]\n",
    "\n",
    "for i in range(len(today)):\n",
    "    content = today[i]\n",
    "    print(\"오늘\", today[i])"
   ]
  },
  {
   "cell_type": "markdown",
   "metadata": {},
   "source": [
    "*** for문과 range함수를 이용한 구구단**"
   ]
  },
  {
   "cell_type": "code",
   "execution_count": 70,
   "metadata": {},
   "outputs": [
    {
     "name": "stdout",
     "output_type": "stream",
     "text": [
      "1234567892468101214161836912151821242748121620242832365101520253035404561218243036424854714212835424956638162432404856647291827364554637281"
     ]
    }
   ],
   "source": [
    "for i in range(1,10):\n",
    "    for j in range(1,10):\n",
    "        print(i*j, end = \"\")  #해당 결괏값을 출력할 때 다음 줄로 넘기지 않고 한 줄에 계속해서 출력한다."
   ]
  },
  {
   "cell_type": "code",
   "execution_count": 71,
   "metadata": {},
   "outputs": [
    {
     "name": "stdout",
     "output_type": "stream",
     "text": [
      "123456789\n",
      "24681012141618\n",
      "369121518212427\n",
      "4812162024283236\n",
      "51015202530354045\n",
      "61218243036424854\n",
      "71421283542495663\n",
      "81624324048566472\n",
      "91827364554637281\n"
     ]
    }
   ],
   "source": [
    "for i in range(1,10):\n",
    "    for j in range(1,10):\n",
    "        print(i*j, end = '')  \n",
    "    print('')  #i가 바뀔 때마다 다음 줄로 넘겨준다."
   ]
  }
 ],
 "metadata": {
  "kernelspec": {
   "display_name": "Python 3",
   "language": "python",
   "name": "python3"
  },
  "language_info": {
   "codemirror_mode": {
    "name": "ipython",
    "version": 3
   },
   "file_extension": ".py",
   "mimetype": "text/x-python",
   "name": "python",
   "nbconvert_exporter": "python",
   "pygments_lexer": "ipython3",
   "version": "3.7.3"
  }
 },
 "nbformat": 4,
 "nbformat_minor": 2
}
