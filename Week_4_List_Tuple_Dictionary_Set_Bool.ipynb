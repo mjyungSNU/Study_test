{
 "cells": [
  {
   "cell_type": "markdown",
   "metadata": {},
   "source": [
    "# Week 4: 리스트, 튜플, 딕셔너리, 집합, 불"
   ]
  },
  {
   "cell_type": "markdown",
   "metadata": {},
   "source": [
    "## 2019 Summer"
   ]
  },
  {
   "cell_type": "markdown",
   "metadata": {},
   "source": [
    "### Mina Jyung"
   ]
  },
  {
   "cell_type": "markdown",
   "metadata": {},
   "source": [
    "# 1. 리스트 자료형 (List)\n",
    "\n",
    "* 여러 값들을 나열하는 자료형"
   ]
  },
  {
   "cell_type": "markdown",
   "metadata": {},
   "source": [
    "## 1.1 리스트 자료형 예시\n",
    "\n",
    "* 리스트 이름 = [요소1, 요소2, 요소3, ...]\n",
    "\n",
    "\n",
    "* 리스트 안에는 어떠한 자료형도 포함시킬 수 있다."
   ]
  },
  {
   "cell_type": "code",
   "execution_count": 42,
   "metadata": {},
   "outputs": [],
   "source": [
    "number = [1,2,3,4,5]  #숫자형 요소들 포함\n",
    "text = [\"A\",\"B\",\"C\",\"D\",\"E\"]  #문자형 요소들 포함\n",
    "mix = [1,2,3,\"A\",\"B\",\"C\"]  #숫자형과 문자형 요소들 모두 포함\n",
    "List = [1,2,3,[\"A\",\"B\",\"C\",\"D\",\"E\"]]  #리스트 자체를 요소로 포함\n",
    "\n",
    "null = []  #비어 있는 리스트도 생성 가능\n",
    "null2 = list()  #null과 같다"
   ]
  },
  {
   "cell_type": "code",
   "execution_count": 2,
   "metadata": {},
   "outputs": [
    {
     "name": "stdout",
     "output_type": "stream",
     "text": [
      "[]\n",
      "[]\n"
     ]
    }
   ],
   "source": [
    "print(null)\n",
    "print(null2)"
   ]
  },
  {
   "cell_type": "markdown",
   "metadata": {},
   "source": [
    "## 1.2 리스트의 인덱싱과 슬라이싱"
   ]
  },
  {
   "cell_type": "markdown",
   "metadata": {},
   "source": [
    "### 1.2.1 리스트의 인덱싱"
   ]
  },
  {
   "cell_type": "markdown",
   "metadata": {},
   "source": [
    "*** 숫자형**"
   ]
  },
  {
   "cell_type": "code",
   "execution_count": 3,
   "metadata": {},
   "outputs": [
    {
     "data": {
      "text/plain": [
       "[1, 2, 3, 4, 5]"
      ]
     },
     "execution_count": 3,
     "metadata": {},
     "output_type": "execute_result"
    }
   ],
   "source": [
    "#리스트도 문자열처럼 인덱싱을 적용할 수 있다.\n",
    "\n",
    "a = [1,2,3,4,5]\n",
    "a"
   ]
  },
  {
   "cell_type": "code",
   "execution_count": 4,
   "metadata": {},
   "outputs": [
    {
     "data": {
      "text/plain": [
       "1"
      ]
     },
     "execution_count": 4,
     "metadata": {},
     "output_type": "execute_result"
    }
   ],
   "source": [
    "#리스트의 첫 번째 요솟값\n",
    "\n",
    "a[0]"
   ]
  },
  {
   "cell_type": "code",
   "execution_count": 5,
   "metadata": {},
   "outputs": [
    {
     "data": {
      "text/plain": [
       "6"
      ]
     },
     "execution_count": 5,
     "metadata": {},
     "output_type": "execute_result"
    }
   ],
   "source": [
    "#리스트의 첫 번째 요솟값과 네 번째 요솟값을 더한 것 (i.e., 1 + 5 = 6)\n",
    "\n",
    "a[0] + a[4]"
   ]
  },
  {
   "cell_type": "code",
   "execution_count": 6,
   "metadata": {},
   "outputs": [
    {
     "data": {
      "text/plain": [
       "5"
      ]
     },
     "execution_count": 6,
     "metadata": {},
     "output_type": "execute_result"
    }
   ],
   "source": [
    "#리스트의 마지막 요솟값\n",
    "\n",
    "a[-1]"
   ]
  },
  {
   "cell_type": "code",
   "execution_count": 7,
   "metadata": {},
   "outputs": [
    {
     "data": {
      "text/plain": [
       "4"
      ]
     },
     "execution_count": 7,
     "metadata": {},
     "output_type": "execute_result"
    }
   ],
   "source": [
    "#리스트 마지막에서 두 번째 요솟값\n",
    "a[-2]"
   ]
  },
  {
   "cell_type": "markdown",
   "metadata": {},
   "source": [
    "*** 문자형**"
   ]
  },
  {
   "cell_type": "code",
   "execution_count": 8,
   "metadata": {},
   "outputs": [
    {
     "name": "stdout",
     "output_type": "stream",
     "text": [
      "['car', 'bus', 'truck', 'motorcycle', 'bicycle']\n",
      "car\n",
      "carbicycle\n",
      "bicycle\n",
      "trucktrucktruck\n"
     ]
    }
   ],
   "source": [
    "b = [\"car\",\"bus\",\"truck\",\"motorcycle\",\"bicycle\"]\n",
    "\n",
    "print(b)\n",
    "print(b[0])\n",
    "print(b[0] + b[4])\n",
    "print(b[-1])\n",
    "print(b[2]*3)"
   ]
  },
  {
   "cell_type": "markdown",
   "metadata": {},
   "source": [
    "*** 숫자형과 문자형 더하기**"
   ]
  },
  {
   "cell_type": "code",
   "execution_count": 9,
   "metadata": {},
   "outputs": [
    {
     "name": "stdout",
     "output_type": "stream",
     "text": [
      "1\n",
      "truck\n"
     ]
    }
   ],
   "source": [
    "c = [1,2,3,\"car\",\"bus\",\"truck\"]\n",
    "\n",
    "print(c[0])\n",
    "print(c[-1])"
   ]
  },
  {
   "cell_type": "code",
   "execution_count": 10,
   "metadata": {},
   "outputs": [
    {
     "ename": "TypeError",
     "evalue": "unsupported operand type(s) for +: 'int' and 'str'",
     "output_type": "error",
     "traceback": [
      "\u001b[0;31m---------------------------------------------------------------------------\u001b[0m",
      "\u001b[0;31mTypeError\u001b[0m                                 Traceback (most recent call last)",
      "\u001b[0;32m<ipython-input-10-3c0908c4fdd6>\u001b[0m in \u001b[0;36m<module>\u001b[0;34m\u001b[0m\n\u001b[0;32m----> 1\u001b[0;31m \u001b[0mc\u001b[0m\u001b[0;34m[\u001b[0m\u001b[0;36m1\u001b[0m\u001b[0;34m]\u001b[0m \u001b[0;34m+\u001b[0m \u001b[0mc\u001b[0m\u001b[0;34m[\u001b[0m\u001b[0;36m4\u001b[0m\u001b[0;34m]\u001b[0m\u001b[0;34m\u001b[0m\u001b[0;34m\u001b[0m\u001b[0m\n\u001b[0m",
      "\u001b[0;31mTypeError\u001b[0m: unsupported operand type(s) for +: 'int' and 'str'"
     ]
    }
   ],
   "source": [
    "#예시 1\n",
    "c[1] + c[4]\n",
    "\n",
    "#오류 발생! 숫자형을 str 함수를 활용하여 문자형으로 바꿔줘야 한다."
   ]
  },
  {
   "cell_type": "code",
   "execution_count": 11,
   "metadata": {},
   "outputs": [
    {
     "data": {
      "text/plain": [
       "'2bus'"
      ]
     },
     "execution_count": 11,
     "metadata": {},
     "output_type": "execute_result"
    }
   ],
   "source": [
    "#오류 해결 방법\n",
    "\n",
    "str(c[1]) + c[4]"
   ]
  },
  {
   "cell_type": "code",
   "execution_count": 28,
   "metadata": {},
   "outputs": [
    {
     "ename": "TypeError",
     "evalue": "unsupported operand type(s) for +: 'int' and 'str'",
     "output_type": "error",
     "traceback": [
      "\u001b[0;31m---------------------------------------------------------------------------\u001b[0m",
      "\u001b[0;31mTypeError\u001b[0m                                 Traceback (most recent call last)",
      "\u001b[0;32m<ipython-input-28-8cbcbbc4f6fd>\u001b[0m in \u001b[0;36m<module>\u001b[0;34m\u001b[0m\n\u001b[1;32m      1\u001b[0m \u001b[0;31m#예시 2\u001b[0m\u001b[0;34m\u001b[0m\u001b[0;34m\u001b[0m\u001b[0;34m\u001b[0m\u001b[0m\n\u001b[0;32m----> 2\u001b[0;31m \u001b[0mc\u001b[0m\u001b[0;34m[\u001b[0m\u001b[0;36m2\u001b[0m\u001b[0;34m]\u001b[0m \u001b[0;34m+\u001b[0m \u001b[0;34m\"airplane\"\u001b[0m\u001b[0;34m\u001b[0m\u001b[0;34m\u001b[0m\u001b[0m\n\u001b[0m\u001b[1;32m      3\u001b[0m \u001b[0;34m\u001b[0m\u001b[0m\n\u001b[1;32m      4\u001b[0m \u001b[0;31m#오류 발생!\u001b[0m\u001b[0;34m\u001b[0m\u001b[0;34m\u001b[0m\u001b[0;34m\u001b[0m\u001b[0m\n",
      "\u001b[0;31mTypeError\u001b[0m: unsupported operand type(s) for +: 'int' and 'str'"
     ]
    }
   ],
   "source": [
    "#예시 2\n",
    "c[2] + \"airplane\"\n",
    "\n",
    "#오류 발생!"
   ]
  },
  {
   "cell_type": "code",
   "execution_count": 29,
   "metadata": {},
   "outputs": [
    {
     "data": {
      "text/plain": [
       "'3airplane'"
      ]
     },
     "execution_count": 29,
     "metadata": {},
     "output_type": "execute_result"
    }
   ],
   "source": [
    "#오류 해결 방법\n",
    "\n",
    "str(c[2]) + \"airplane\""
   ]
  },
  {
   "cell_type": "markdown",
   "metadata": {},
   "source": [
    "*** 이중 리스트**\n",
    "\n",
    "* 리스트 안의 리스트는 요소로 처리된다. \n",
    "* 리스트 안의 리스트를 인덱싱하기 위해서는 <span style=\"color:blue\">**변수이름[내부 리스트 위치][내부 리스트 안에서 찾고자 하는 요소 위치]**</span>로 지정한다."
   ]
  },
  {
   "cell_type": "code",
   "execution_count": 12,
   "metadata": {},
   "outputs": [
    {
     "name": "stdout",
     "output_type": "stream",
     "text": [
      "['A', 'B', 'C', 'D', 'E']\n",
      "A\n",
      "B\n",
      "E\n"
     ]
    }
   ],
   "source": [
    "d = [1,2,3,4,[\"A\",\"B\",\"C\",\"D\",\"E\"]]\n",
    "\n",
    "print(d[4])\n",
    "print(d[4][0])\n",
    "print(d[4][1])\n",
    "print(d[4][-1])"
   ]
  },
  {
   "cell_type": "markdown",
   "metadata": {},
   "source": [
    "### 1.2.2 리스트의 슬라이싱\n",
    "\n",
    "***\n",
    "\n",
    "* REMINDER\n",
    "\n",
    "&ensp;&ensp;&ensp;&ensp;&ensp;&ensp;**1) a[s:e]는 a문자열의 s번째 문자 이상, e번째 문자 미만**\n",
    "\n",
    "&ensp;&ensp;&ensp;&ensp;&ensp;&ensp;**2) a[s:]는 s번째 문자에서 끝까지**\n",
    "\n",
    "&ensp;&ensp;&ensp;&ensp;&ensp;&ensp;**3) a[:e]는 처음부터 e번째 문자 이전까지**\n",
    "\n",
    "&ensp;&ensp;&ensp;&ensp;&ensp;&ensp;**4) a[:]는 a문자열을 모두**\n",
    "\n",
    "&ensp;&ensp;&ensp;&ensp;&ensp;&ensp;**5) a[s:-e]는 s번째 문자에서 뒤로부터 e번째 문자 이전까지**"
   ]
  },
  {
   "cell_type": "markdown",
   "metadata": {},
   "source": [
    "*** 숫자형**"
   ]
  },
  {
   "cell_type": "code",
   "execution_count": 13,
   "metadata": {},
   "outputs": [
    {
     "name": "stdout",
     "output_type": "stream",
     "text": [
      "[1, 2]\n",
      "[1, 2, 3, 4, 5]\n",
      "[1, 2, 3, 4]\n",
      "[1, 2, 3, 4, 5]\n",
      "[2, 3, 4]\n"
     ]
    }
   ],
   "source": [
    "#리스트도 문자열처럼 슬라이싱을 적용할 수 있다.\n",
    "\n",
    "a = [1,2,3,4,5]\n",
    "\n",
    "print(a[0:2])\n",
    "print(a[0:])\n",
    "print(a[:4])\n",
    "print(a[:])\n",
    "print(a[1:-1])  #a[-1] 값은 5이며, a[1:-1]에서는 a[-1] 값인 5가 포함되지 않는다."
   ]
  },
  {
   "cell_type": "markdown",
   "metadata": {},
   "source": [
    "*** 문자형**"
   ]
  },
  {
   "cell_type": "code",
   "execution_count": 16,
   "metadata": {},
   "outputs": [
    {
     "name": "stdout",
     "output_type": "stream",
     "text": [
      "['car', 'bus', 'truck', 'motorcycle', 'bicycle']\n",
      "['car', 'bus', 'truck']\n",
      "['car', 'bus', 'motorcycle', 'bicycle']\n"
     ]
    }
   ],
   "source": [
    "b = [\"car\",\"bus\",\"truck\",\"motorcycle\",\"bicycle\"]\n",
    "\n",
    "print(b[0:])\n",
    "print(b[:3])\n",
    "print(b[:2] + b[3:5])"
   ]
  },
  {
   "cell_type": "markdown",
   "metadata": {},
   "source": [
    "*** 이중 리스트**"
   ]
  },
  {
   "cell_type": "code",
   "execution_count": 20,
   "metadata": {},
   "outputs": [
    {
     "name": "stdout",
     "output_type": "stream",
     "text": [
      "[4, ['A', 'B', 'C', 'D', 'E']]\n",
      "['A', 'B', 'C', 'D', 'E']\n",
      "A\n",
      "['B', 'C']\n",
      "['B', 'C']\n"
     ]
    }
   ],
   "source": [
    "d = [1,2,3,4,[\"A\",\"B\",\"C\",\"D\",\"E\"]]\n",
    "\n",
    "print(d[3:])\n",
    "print(d[4][:])\n",
    "print(d[4][0])\n",
    "print(d[4][1:3])\n",
    "print(d[4][1:-2])"
   ]
  },
  {
   "cell_type": "markdown",
   "metadata": {},
   "source": [
    "## 1.3 리스트의 연산"
   ]
  },
  {
   "cell_type": "markdown",
   "metadata": {},
   "source": [
    "*** 더하기 (+)**"
   ]
  },
  {
   "cell_type": "code",
   "execution_count": 23,
   "metadata": {},
   "outputs": [
    {
     "name": "stdout",
     "output_type": "stream",
     "text": [
      "['dog', 'cat', 'tiger', 'monkey', 'pig', 'butterfly', 'bee', 'beetle', 'ladybug']\n"
     ]
    },
    {
     "data": {
      "text/plain": [
       "['dog',\n",
       " 'cat',\n",
       " 'tiger',\n",
       " 'monkey',\n",
       " 'pig',\n",
       " 'butterfly',\n",
       " 'bee',\n",
       " 'beetle',\n",
       " 'ladybug']"
      ]
     },
     "execution_count": 23,
     "metadata": {},
     "output_type": "execute_result"
    }
   ],
   "source": [
    "animals = [\"dog\",\"cat\",\"tiger\",\"monkey\",\"pig\"]\n",
    "insects = [\"butterfly\",\"bee\",\"beetle\",\"ladybug\"]\n",
    "\n",
    "print(animals + insects)  #위와 아래 연산의 차이는 무엇일까? #print는 한 줄로\n",
    "animals + insects         "
   ]
  },
  {
   "cell_type": "markdown",
   "metadata": {},
   "source": [
    "*** 반복하기 (*)**"
   ]
  },
  {
   "cell_type": "code",
   "execution_count": 25,
   "metadata": {},
   "outputs": [
    {
     "name": "stdout",
     "output_type": "stream",
     "text": [
      "['dog', 'cat', 'tiger', 'monkey', 'pig', 'dog', 'cat', 'tiger', 'monkey', 'pig', 'dog', 'cat', 'tiger', 'monkey', 'pig']\n"
     ]
    }
   ],
   "source": [
    "animals = [\"dog\",\"cat\",\"tiger\",\"monkey\",\"pig\"]\n",
    "\n",
    "print(animals*3)"
   ]
  },
  {
   "cell_type": "markdown",
   "metadata": {},
   "source": [
    "*** 리스트 자료형의 길이 구하기 (len)**"
   ]
  },
  {
   "cell_type": "code",
   "execution_count": 26,
   "metadata": {},
   "outputs": [
    {
     "data": {
      "text/plain": [
       "4"
      ]
     },
     "execution_count": 26,
     "metadata": {},
     "output_type": "execute_result"
    }
   ],
   "source": [
    "insects = [\"butterfly\",\"bee\",\"beetle\",\"ladybug\"]\n",
    "\n",
    "len(insects)"
   ]
  },
  {
   "cell_type": "code",
   "execution_count": 27,
   "metadata": {},
   "outputs": [
    {
     "data": {
      "text/plain": [
       "0"
      ]
     },
     "execution_count": 27,
     "metadata": {},
     "output_type": "execute_result"
    }
   ],
   "source": [
    "X = []\n",
    "\n",
    "len(X)"
   ]
  },
  {
   "cell_type": "markdown",
   "metadata": {},
   "source": [
    "## 1.4 리스트의 수정과 삭제\n",
    "\n",
    "* 리스트는 값을 수정하거나 삭제할 수 있다."
   ]
  },
  {
   "cell_type": "markdown",
   "metadata": {},
   "source": [
    "### 1.4.1 리스트에서 값 수정하기"
   ]
  },
  {
   "cell_type": "code",
   "execution_count": 32,
   "metadata": {},
   "outputs": [
    {
     "name": "stdout",
     "output_type": "stream",
     "text": [
      "[1, 2, 3, 4, 5]\n"
     ]
    }
   ],
   "source": [
    "a = [1,2,3,5,5]\n",
    "\n",
    "a[3] = 4\n",
    "print(a)"
   ]
  },
  {
   "cell_type": "markdown",
   "metadata": {},
   "source": [
    "### 1.4.2 del 함수로 리스트 요소 삭제하기"
   ]
  },
  {
   "cell_type": "code",
   "execution_count": 34,
   "metadata": {},
   "outputs": [
    {
     "name": "stdout",
     "output_type": "stream",
     "text": [
      "[1, 2, 3, 5]\n"
     ]
    }
   ],
   "source": [
    "a = [1,2,3,5,5]\n",
    "\n",
    "del a[4]\n",
    "print(a)"
   ]
  },
  {
   "cell_type": "code",
   "execution_count": 41,
   "metadata": {},
   "outputs": [
    {
     "name": "stdout",
     "output_type": "stream",
     "text": [
      "['dog', 'cat', 'tiger', 'monkey', 'pig']\n",
      "['cat', 'tiger', 'monkey', 'pig']\n",
      "['cat', 'pig']\n",
      "[]\n"
     ]
    }
   ],
   "source": [
    "animals = [\"bug\",\"dog\",\"cat\",\"tiger\",\"monkey\",\"pig\"]\n",
    "\n",
    "del animals[0]\n",
    "print(animals)\n",
    "\n",
    "del animals[0:1]\n",
    "print(animals)\n",
    "\n",
    "del animals[1:-1]\n",
    "print(animals)\n",
    "\n",
    "del animals[:]\n",
    "print(animals)"
   ]
  },
  {
   "cell_type": "markdown",
   "metadata": {},
   "source": [
    "### 1.4.3 리스트 관련 함수로 리스트 수정하기\n",
    "\n",
    "***\n",
    "\n",
    "* 리스트 변수 이름 뒤에 '.'를 붙인 다음에 함수 이름을 쓰면 된다.\n",
    "\n",
    "&ensp;&ensp;&ensp;&ensp;&ensp;&ensp;**1) a.append(x): 리스트 마지막 위치에 x 요소 추가**\n",
    "\n",
    "&ensp;&ensp;&ensp;&ensp;&ensp;&ensp;**2) a.sort( ): 리스트 요소를 순서대로 정렬**\n",
    "\n",
    "&ensp;&ensp;&ensp;&ensp;&ensp;&ensp;**3) a.reverse( ): 기존 리스트 순서를 역순으로 뒤집기**\n",
    "\n",
    "&ensp;&ensp;&ensp;&ensp;&ensp;&ensp;**4) a.index(x): x 요소의 위치 값을 반환**\n",
    "\n",
    "&ensp;&ensp;&ensp;&ensp;&ensp;&ensp;**5) a.insert(s,e): s번째 요소 자리에 e를 삽입**\n",
    "\n",
    "&ensp;&ensp;&ensp;&ensp;&ensp;&ensp;**6) a.remove(x): 첫번째로 나오는 x 요소 제거**\n",
    "\n",
    "&ensp;&ensp;&ensp;&ensp;&ensp;&ensp;**7) a.pop( ): 리스트 마지막 요소를 돌려주고 그 요소를 삭제**\n",
    "\n",
    "&ensp;&ensp;&ensp;&ensp;&ensp;&ensp;&ensp;&ensp;&ensp;&ensp;**a.pop(x): 리스트 x번째 요소를 돌려주고 그 요소를 삭제**\n",
    "\n",
    "&ensp;&ensp;&ensp;&ensp;&ensp;&ensp;**8) a.count(x): 리스트에 포함된 특정 요소의 개수 세기**\n",
    "\n",
    "&ensp;&ensp;&ensp;&ensp;&ensp;&ensp;**9) a.extend(b): 기존 리스트 a에 리스트 b를 추가**"
   ]
  },
  {
   "cell_type": "code",
   "execution_count": 45,
   "metadata": {},
   "outputs": [
    {
     "name": "stdout",
     "output_type": "stream",
     "text": [
      "[1, 2, 3, 4, 5, 10]\n"
     ]
    }
   ],
   "source": [
    "#1) a.append(x): 리스트 마지막 위치에 x 요소 추가\n",
    "\n",
    "a = [1,2,3,4,5]\n",
    "a.append(10)\n",
    "print(a)"
   ]
  },
  {
   "cell_type": "code",
   "execution_count": 46,
   "metadata": {},
   "outputs": [
    {
     "name": "stdout",
     "output_type": "stream",
     "text": [
      "['dog', 'cat', 'tiger', 'monkey', 'pig', 'elephant']\n",
      "['dog', 'cat', 'tiger', 'monkey', 'pig', 'elephant', ['butterfly', 'bee', 'beetle', 'ladybug']]\n"
     ]
    }
   ],
   "source": [
    "animals = [\"dog\",\"cat\",\"tiger\",\"monkey\",\"pig\"]\n",
    "animals.append(\"elephant\")\n",
    "print(animals)\n",
    "\n",
    "insects = [\"butterfly\",\"bee\",\"beetle\",\"ladybug\"]  #요소처럼 리스트를 추가할 수 있다\n",
    "animals.append(insects)\n",
    "print(animals)"
   ]
  },
  {
   "cell_type": "code",
   "execution_count": 47,
   "metadata": {},
   "outputs": [
    {
     "name": "stdout",
     "output_type": "stream",
     "text": [
      "[-4, -3, -2, -1, 0, 1, 2, 3, 4]\n",
      "['A', 'B', 'C', 'D', '가', '나', '다']\n"
     ]
    }
   ],
   "source": [
    "#2) a.sort( ): 리스트 요소를 순서대로 정렬\n",
    "\n",
    "numbers = [0,-1,4,2,-3,-2,3,1,-4]\n",
    "numbers.sort()\n",
    "print(numbers)\n",
    "\n",
    "text = [\"A\",\"가\",\"D\",\"B\",\"다\",\"나\",\"C\"]  #알파벳 순서대로 + 한글 순서대로\n",
    "text.sort()\n",
    "print(text)"
   ]
  },
  {
   "cell_type": "code",
   "execution_count": 48,
   "metadata": {},
   "outputs": [
    {
     "name": "stdout",
     "output_type": "stream",
     "text": [
      "[-4, 1, 3, -2, -3, 2, 4, -1, 0]\n",
      "['C', '나', '다', 'B', 'D', '가', 'A']\n"
     ]
    }
   ],
   "source": [
    "#3) a.reverse( ): 기존 리스트 순서를 역순으로 뒤집기\n",
    "\n",
    "#순서를 역순으로 정렬하고 싶을 때 sort 후 reverse 출력\n",
    "\n",
    "numbers = [0,-1,4,2,-3,-2,3,1,-4]\n",
    "numbers.reverse()\n",
    "print(numbers)\n",
    "\n",
    "text = [\"A\",\"가\",\"D\",\"B\",\"다\",\"나\",\"C\"]  \n",
    "text.reverse()\n",
    "print(text)"
   ]
  },
  {
   "cell_type": "code",
   "execution_count": 49,
   "metadata": {},
   "outputs": [
    {
     "data": {
      "text/plain": [
       "1"
      ]
     },
     "execution_count": 49,
     "metadata": {},
     "output_type": "execute_result"
    }
   ],
   "source": [
    "#4) a.index(x): x 요소의 위치 값을 반환\n",
    "\n",
    "insects = [\"butterfly\",\"bee\",\"beetle\",\"ladybug\"]\n",
    "insects.index(\"bee\")"
   ]
  },
  {
   "cell_type": "code",
   "execution_count": 50,
   "metadata": {},
   "outputs": [
    {
     "ename": "ValueError",
     "evalue": "'ant' is not in list",
     "output_type": "error",
     "traceback": [
      "\u001b[0;31m---------------------------------------------------------------------------\u001b[0m",
      "\u001b[0;31mValueError\u001b[0m                                Traceback (most recent call last)",
      "\u001b[0;32m<ipython-input-50-06db051b75da>\u001b[0m in \u001b[0;36m<module>\u001b[0;34m\u001b[0m\n\u001b[0;32m----> 1\u001b[0;31m \u001b[0minsects\u001b[0m\u001b[0;34m.\u001b[0m\u001b[0mindex\u001b[0m\u001b[0;34m(\u001b[0m\u001b[0;34m\"ant\"\u001b[0m\u001b[0;34m)\u001b[0m\u001b[0;34m\u001b[0m\u001b[0;34m\u001b[0m\u001b[0m\n\u001b[0m",
      "\u001b[0;31mValueError\u001b[0m: 'ant' is not in list"
     ]
    }
   ],
   "source": [
    "insects.index(\"ant\")  #리스트에 존저해지 않는 값이기 때문에 \"ValueError(값 오류)\"가 발생한다."
   ]
  },
  {
   "cell_type": "code",
   "execution_count": 51,
   "metadata": {},
   "outputs": [
    {
     "name": "stdout",
     "output_type": "stream",
     "text": [
      "['ant', 'butterfly', 'bee', 'beetle', 'ladybug']\n"
     ]
    }
   ],
   "source": [
    "#5) a.insert(s,e): s번째 요소 자리에 e를 삽입\n",
    "\n",
    "insects = [\"butterfly\",\"bee\",\"beetle\",\"ladybug\"]\n",
    "insects.insert(0,\"ant\")  #파이썬 0번째 자리에 \"ant\"를 삽입\n",
    "print(insects)"
   ]
  },
  {
   "cell_type": "code",
   "execution_count": 55,
   "metadata": {},
   "outputs": [
    {
     "name": "stdout",
     "output_type": "stream",
     "text": [
      "[1, 2, 1, 2, 3, 1, 2, 3]\n",
      "[1, 2, 1, 2, 1, 2, 3]\n",
      "[1, 2, 1, 2, 1, 2]\n"
     ]
    }
   ],
   "source": [
    "#6) a.remove(x): 첫번째로 나오는 x 요소 제거\n",
    "\n",
    "x = [1,2,3,1,2,3,1,2,3]\n",
    "x.remove(3)\n",
    "print(x)\n",
    "x.remove(3)\n",
    "print(x)\n",
    "x.remove(3)\n",
    "print(x)"
   ]
  },
  {
   "cell_type": "code",
   "execution_count": 58,
   "metadata": {},
   "outputs": [
    {
     "data": {
      "text/plain": [
       "3"
      ]
     },
     "execution_count": 58,
     "metadata": {},
     "output_type": "execute_result"
    }
   ],
   "source": [
    "#7) a.pop( ): 리스트 마지막 요소를 돌려주고 그 요소를 삭제\n",
    "\n",
    "x = [1,2,3,1,2,3,1,2,3]\n",
    "x.pop()  #리스트 마지막 요소 돌려주기"
   ]
  },
  {
   "cell_type": "code",
   "execution_count": 60,
   "metadata": {},
   "outputs": [
    {
     "name": "stdout",
     "output_type": "stream",
     "text": [
      "[1, 2, 3, 1, 2, 3, 1, 2]\n"
     ]
    }
   ],
   "source": [
    "print(x)  #마지막 요소를 삭제하고 리스트 보여주기"
   ]
  },
  {
   "cell_type": "code",
   "execution_count": 61,
   "metadata": {},
   "outputs": [
    {
     "data": {
      "text/plain": [
       "2"
      ]
     },
     "execution_count": 61,
     "metadata": {},
     "output_type": "execute_result"
    }
   ],
   "source": [
    "#a.pop(x): 리스트 x번째 요소를 돌려주고 그 요소를 삭제\n",
    "\n",
    "x = [1,2,3,1,2,3,1,2,3]\n",
    "x.pop(1)  "
   ]
  },
  {
   "cell_type": "code",
   "execution_count": 62,
   "metadata": {},
   "outputs": [
    {
     "name": "stdout",
     "output_type": "stream",
     "text": [
      "[1, 3, 1, 2, 3, 1, 2, 3]\n"
     ]
    }
   ],
   "source": [
    "print(x)"
   ]
  },
  {
   "cell_type": "code",
   "execution_count": 64,
   "metadata": {},
   "outputs": [
    {
     "name": "stdout",
     "output_type": "stream",
     "text": [
      "5\n",
      "1\n"
     ]
    }
   ],
   "source": [
    "#8) a.count(x): 리스트에 포함된 특정 요소의 개수 세기\n",
    "\n",
    "y = [1,2,3,1,2,3,1,2,3,1,2,4,1,\"1\"]\n",
    "print(y.count(1))\n",
    "print(y.count(\"1\"))"
   ]
  },
  {
   "cell_type": "code",
   "execution_count": 65,
   "metadata": {},
   "outputs": [
    {
     "name": "stdout",
     "output_type": "stream",
     "text": [
      "['A', 'B', 'C', 'D', 'a', 'b', 'c', 'd']\n"
     ]
    }
   ],
   "source": [
    "#9) a.extend(b): 기존 리스트 a에 리스트 b를 추가\n",
    "\n",
    "Alphabet = [\"A\",\"B\",\"C\",\"D\"]\n",
    "Alphabet.extend([\"a\",\"b\",\"c\",\"d\"])\n",
    "print(Alphabet)"
   ]
  },
  {
   "cell_type": "code",
   "execution_count": 70,
   "metadata": {},
   "outputs": [
    {
     "name": "stdout",
     "output_type": "stream",
     "text": [
      "['A', 'B', 'C', 'D', 'a', 'b', 'c', 'd']\n"
     ]
    }
   ],
   "source": [
    "Capital = [\"A\",\"B\",\"C\",\"D\"]\n",
    "Lower_case = [\"a\",\"b\",\"c\",\"d\"]\n",
    "Capital.extend(Lower_case)\n",
    "print(Capital)"
   ]
  },
  {
   "cell_type": "markdown",
   "metadata": {},
   "source": [
    "# 2. 튜플 자료형 (Tuple)\n",
    "\n",
    "***\n",
    "\n",
    "* 튜플과 리스트는 거의 비슷하지만, 다른 점은 아래와 같다.\n",
    "\n",
    "\n",
    "    * 리스트는 [  ]으로 둘러싸지만, 튜플은 (  )으로 둘러싼다.\n",
    "    * 리스트는 요소를 생성, 삭제, 수정이 가능하지만, 튜플은 불가능하다.\n",
    "    \n",
    "* 따라서, 프로그램을 하는 동안, 리스트 값이 항상 변하지 않기를 원한다면 튜플을 사용해야 한다.\n",
    "* 실제 프로그램에서는 값이 변경되는 형태의 변수가 훨씬 많기 때문에 튜플보다는 리스트를 더 많이 사용한다."
   ]
  },
  {
   "cell_type": "markdown",
   "metadata": {},
   "source": [
    "## 2.1 튜플 자료형 예시\n",
    "\n",
    "* 튜플 이름 = (요소1, 요소2, 요소3, ...)"
   ]
  },
  {
   "cell_type": "code",
   "execution_count": 71,
   "metadata": {},
   "outputs": [],
   "source": [
    "number = (1,2,3,4,5)  #숫자형 요소들 포함\n",
    "text = (\"A\",\"B\",\"C\",\"D\",\"E\")  #문자형 요소들 포함\n",
    "mix = (1,2,3,\"A\",\"B\",\"C\")  #숫자형과 문자형 요소들 모두 포함\n",
    "\n",
    "no_bracket1 = 1,2,3  #괄호를 생략해도 괜찮다! \n",
    "no_bracket2 = \"A\",\"B\",\"C\"\n",
    "\n",
    "List = (1,2,3,(\"A\",\"B\",\"C\",\"D\",\"E\"))  #튜플 자체를 요소로 포함\n",
    "\n",
    "null = ()  #비어 있는 튜플도 생성 가능\n",
    "one = (1,)  #요소가 하나일 때 요소 뒤에 콤마(,)를 꼭 표기!"
   ]
  },
  {
   "cell_type": "markdown",
   "metadata": {},
   "source": [
    "## 2.2 튜플의 활용\n",
    "\n",
    "* 튜플의 요솟값을 삭제하거나 변경할 수는 없지만, 그 외의 활동은 리스트와 완전히 동일하다."
   ]
  },
  {
   "cell_type": "markdown",
   "metadata": {},
   "source": [
    "### 2.2.1 튜플의 인덱싱"
   ]
  },
  {
   "cell_type": "code",
   "execution_count": 72,
   "metadata": {},
   "outputs": [
    {
     "name": "stdout",
     "output_type": "stream",
     "text": [
      "리버플\n",
      "아스날토트넘\n",
      "('아스날', '첼시', '멘유', '멘시티', '토트넘')\n"
     ]
    }
   ],
   "source": [
    "프리미어리그 = (\"리버플\",\"아스날\",\"첼시\",\"멘유\",\"멘시티\",\"토트넘\")\n",
    "\n",
    "print(프리미어리그[0])\n",
    "print(프리미어리그[1] + 프리미어리그[5])\n",
    "print(프리미어리그[1:])"
   ]
  },
  {
   "cell_type": "markdown",
   "metadata": {},
   "source": [
    "### 2.2.2 튜플의 연산"
   ]
  },
  {
   "cell_type": "code",
   "execution_count": 73,
   "metadata": {},
   "outputs": [
    {
     "name": "stdout",
     "output_type": "stream",
     "text": [
      "('리버플', '아스날', '첼시', '멘유', '멘시티', '토트넘', '바르셀로나', '레알마드리드', '발렌시아', 'AT마드리드')\n"
     ]
    }
   ],
   "source": [
    "#덧셈\n",
    "\n",
    "프리미어리그 = (\"리버플\",\"아스날\",\"첼시\",\"멘유\",\"멘시티\",\"토트넘\")\n",
    "프리메라리가 = (\"바르셀로나\",\"레알마드리드\",\"발렌시아\",\"AT마드리드\")\n",
    "print(프리미어리그 + 프리메라리가)"
   ]
  },
  {
   "cell_type": "code",
   "execution_count": 74,
   "metadata": {},
   "outputs": [
    {
     "name": "stdout",
     "output_type": "stream",
     "text": [
      "('리버플', '리버플', '리버플', '리버플', '리버플', '리버플', '리버플')\n"
     ]
    }
   ],
   "source": [
    "#곱셈\n",
    "\n",
    "프리미어리그 = \"리버플\",\n",
    "print(프리미어리그 * 7)"
   ]
  },
  {
   "cell_type": "code",
   "execution_count": 75,
   "metadata": {},
   "outputs": [
    {
     "name": "stdout",
     "output_type": "stream",
     "text": [
      "10\n"
     ]
    }
   ],
   "source": [
    "#튜플 자료형의 길이 구하기\n",
    "\n",
    "Soccer_team = '리버플', '아스날', '첼시', '멘유', '멘시티', '토트넘', '바르셀로나', '레알마드리드', '발렌시아', 'AT마드리드'\n",
    "print(len(Soccer_team))"
   ]
  },
  {
   "cell_type": "markdown",
   "metadata": {},
   "source": [
    "### 2.2.3 튜플에 함수 적용하기"
   ]
  },
  {
   "cell_type": "code",
   "execution_count": 76,
   "metadata": {},
   "outputs": [
    {
     "ename": "AttributeError",
     "evalue": "'tuple' object has no attribute 'sort'",
     "output_type": "error",
     "traceback": [
      "\u001b[0;31m---------------------------------------------------------------------------\u001b[0m",
      "\u001b[0;31mAttributeError\u001b[0m                            Traceback (most recent call last)",
      "\u001b[0;32m<ipython-input-76-3a85e8088d39>\u001b[0m in \u001b[0;36m<module>\u001b[0;34m\u001b[0m\n\u001b[1;32m      2\u001b[0m \u001b[0;34m\u001b[0m\u001b[0m\n\u001b[1;32m      3\u001b[0m \u001b[0mnumbers\u001b[0m \u001b[0;34m=\u001b[0m \u001b[0;36m0\u001b[0m\u001b[0;34m,\u001b[0m\u001b[0;34m-\u001b[0m\u001b[0;36m1\u001b[0m\u001b[0;34m,\u001b[0m\u001b[0;36m4\u001b[0m\u001b[0;34m,\u001b[0m\u001b[0;36m2\u001b[0m\u001b[0;34m,\u001b[0m\u001b[0;34m-\u001b[0m\u001b[0;36m3\u001b[0m\u001b[0;34m,\u001b[0m\u001b[0;34m-\u001b[0m\u001b[0;36m2\u001b[0m\u001b[0;34m,\u001b[0m\u001b[0;36m3\u001b[0m\u001b[0;34m,\u001b[0m\u001b[0;36m1\u001b[0m\u001b[0;34m,\u001b[0m\u001b[0;34m-\u001b[0m\u001b[0;36m4\u001b[0m\u001b[0;34m\u001b[0m\u001b[0;34m\u001b[0m\u001b[0m\n\u001b[0;32m----> 4\u001b[0;31m \u001b[0mnumbers\u001b[0m\u001b[0;34m.\u001b[0m\u001b[0msort\u001b[0m\u001b[0;34m(\u001b[0m\u001b[0;34m)\u001b[0m\u001b[0;34m\u001b[0m\u001b[0;34m\u001b[0m\u001b[0m\n\u001b[0m\u001b[1;32m      5\u001b[0m \u001b[0mprint\u001b[0m\u001b[0;34m(\u001b[0m\u001b[0mnumbers\u001b[0m\u001b[0;34m)\u001b[0m\u001b[0;34m\u001b[0m\u001b[0;34m\u001b[0m\u001b[0m\n",
      "\u001b[0;31mAttributeError\u001b[0m: 'tuple' object has no attribute 'sort'"
     ]
    }
   ],
   "source": [
    "#적용되지 않는 함수 예시\n",
    "\n",
    "#sort 함수\n",
    "\n",
    "numbers = 0,-1,4,2,-3,-2,3,1,-4\n",
    "numbers.sort()\n",
    "print(numbers)"
   ]
  },
  {
   "cell_type": "code",
   "execution_count": 80,
   "metadata": {},
   "outputs": [
    {
     "name": "stdout",
     "output_type": "stream",
     "text": [
      "1\n",
      "3\n"
     ]
    }
   ],
   "source": [
    "#index 함수 적용\n",
    "\n",
    "insects = \"butterfly\",\"bee\",\"beetle\",\"ladybug\"\n",
    "print(insects.index(\"bee\"))\n",
    "print(insects.index(\"ladybug\"))"
   ]
  },
  {
   "cell_type": "code",
   "execution_count": 81,
   "metadata": {},
   "outputs": [
    {
     "name": "stdout",
     "output_type": "stream",
     "text": [
      "5\n",
      "1\n"
     ]
    }
   ],
   "source": [
    "#count 함수 적용\n",
    "\n",
    "y = 1,2,3,1,2,3,1,2,3,1,2,4,1,\"1\"\n",
    "print(y.count(1))\n",
    "print(y.count(\"1\"))"
   ]
  },
  {
   "cell_type": "markdown",
   "metadata": {},
   "source": [
    "# 3. 딕셔너리 자료형 (Dictionary)\n",
    "\n",
    "* 대응 관계를 나타내는 자료형\n",
    "\n",
    "***\n",
    "\n",
    "* 딕셔너리는 Key와 Value를 한 쌍으로 갖는 자료형이다. (예: Key가 \"soccer\"이라면, Value는 \"축구\")\n",
    "\n",
    "* 딕셔너리는 리스트나 튜플처럼 순차적으로 해당 요솟값을 구하지 않고, Key를 통해 Value를 얻는다.\n",
    "\n",
    "* 즉, 딕셔너리에서는 모든 자료를 순차적으로 검색하는 것이 아니라, 사전처럼 Key를 검색하여 Value를 얻는다."
   ]
  },
  {
   "cell_type": "markdown",
   "metadata": {},
   "source": [
    "## 3.1 딕셔너리 자료형 예시\n",
    "\n",
    "* Key와 Value의 쌍 여러 개가 { }로 둘러싸여 있다.\n",
    "\n",
    "\n",
    "* Key:Value 형태이며, 쉼표(,)로 구분되어 있다.\n",
    "\n",
    "\n",
    "* **Key**에는 변하지 않는 값을 사용하고, **Value**에는 변하는 값과 변하지 않는 값 모두 사용할 수 있다."
   ]
  },
  {
   "cell_type": "code",
   "execution_count": 83,
   "metadata": {},
   "outputs": [
    {
     "name": "stdout",
     "output_type": "stream",
     "text": [
      "{'first_name': 'Mina', 'last_name': 'Jyung', 'major': 'psychology', 'degree': 'master'}\n",
      "{1: 'family', 2: 'friends', 3: 'acquaintance'}\n",
      "{'gender': ['male', 'female'], 'age': ['20s', '30s', '40s', '50s', '60s']}\n"
     ]
    }
   ],
   "source": [
    "dictionary1 = {\"first_name\":\"Mina\",\"last_name\":\"Jyung\",\"major\":\"psychology\",\"degree\":\"master\"}\n",
    "dictionary2 = {1:\"family\",2:\"friends\",3:\"acquaintance\"}\n",
    "dictionary3 = {\"gender\":[\"male\",\"female\"],\"age\":[\"20s\",\"30s\",\"40s\",\"50s\",\"60s\"]}  #리스트 자체를 요소로 포함\n",
    "\n",
    "print(dictionary1)\n",
    "print(dictionary2)\n",
    "print(dictionary3)"
   ]
  },
  {
   "cell_type": "code",
   "execution_count": 86,
   "metadata": {},
   "outputs": [],
   "source": [
    "#{}대신 dict({})도 사용 가능\n",
    "\n",
    "dictionary1 = dict({\"first_name\":\"Mina\",\"last_name\":\"Jyung\",\"major\":\"psychology\",\"degree\":\"master\"})"
   ]
  },
  {
   "cell_type": "markdown",
   "metadata": {},
   "source": [
    "## 3.2 딕셔너리 쌍 추가, 삭제하기"
   ]
  },
  {
   "cell_type": "markdown",
   "metadata": {},
   "source": [
    "### 3.2.1 딕셔너리 쌍 추가하기\n",
    "\n",
    "* 딕셔너리 이름[추가하려는 Key값] = 추가하려는 Value값"
   ]
  },
  {
   "cell_type": "code",
   "execution_count": 87,
   "metadata": {},
   "outputs": [
    {
     "name": "stdout",
     "output_type": "stream",
     "text": [
      "{'dad': 'Homer', 'mom': 'Julie', 'son': 'Bart', 'daughters': ['Lisa', 'Maggie']}\n"
     ]
    }
   ],
   "source": [
    "simpsons = {\"dad\":\"Homer\",\"mom\":\"Julie\"}\n",
    "\n",
    "simpsons[\"son\"] = \"Bart\"\n",
    "simpsons[\"daughters\"] = [\"Lisa\",\"Maggie\"]\n",
    "print(simpsons)"
   ]
  },
  {
   "cell_type": "markdown",
   "metadata": {},
   "source": [
    "### 3.2.2 딕셔너리 쌍 삭제하기\n",
    "\n",
    "* del함수 사용 &rarr; del 딕셔너리 이름[<span style=\"color:blue\">Key</span>]"
   ]
  },
  {
   "cell_type": "code",
   "execution_count": 88,
   "metadata": {},
   "outputs": [
    {
     "name": "stdout",
     "output_type": "stream",
     "text": [
      "{'dad': 'Homer', 'mom': 'Julie', 'daughters': ['Lisa', 'Maggie']}\n"
     ]
    }
   ],
   "source": [
    "simpsons = {'dad': 'Homer', 'mom': 'Julie', 'son': 'Bart', 'daughters': ['Lisa', 'Maggie']}\n",
    "\n",
    "del simpsons[\"son\"]\n",
    "print(simpsons)"
   ]
  },
  {
   "cell_type": "markdown",
   "metadata": {},
   "source": [
    "## 3.3 딕셔너리의 활용\n",
    "\n",
    "* 딕셔너리는 주로 어떤 것을 표현하는 데 사용할까? <span style=\"color:green\">쌍으로 대응되는 자료를 처리할 때 편리하다.</span>\n",
    "\n",
    "* 예) 사람 이름과 특기; 과일 이름과 과일 값; 사물함 번호과 사물함 위치 등"
   ]
  },
  {
   "cell_type": "markdown",
   "metadata": {},
   "source": [
    "### 3.3.1 딕셔너리에서 Key에 대응하는 Value 얻기\n",
    "\n",
    "* 문자열, 리스트, 튜플에서는 인덱싱이나 슬라이싱 기법을 사용해서 요솟값을 얻었지만, 딕셔너리에서는 Key를 사용해서 value를 얻는다. (딕셔너리는 순차적이지 않기 때문)\n",
    "\n",
    "\n",
    "* 딕셔너리 이름[Key]를 사용하면 Value를 얻을 수 있다."
   ]
  },
  {
   "cell_type": "code",
   "execution_count": 101,
   "metadata": {},
   "outputs": [
    {
     "name": "stdout",
     "output_type": "stream",
     "text": [
      "Homer\n",
      "['Lisa', 'Maggie']\n",
      "HomerJulie\n",
      "['Lisa', 'Maggie', 'Akira', 'Aristotle', 'Gil']\n"
     ]
    },
    {
     "ename": "TypeError",
     "evalue": "can only concatenate str (not \"list\") to str",
     "output_type": "error",
     "traceback": [
      "\u001b[0;31m---------------------------------------------------------------------------\u001b[0m",
      "\u001b[0;31mTypeError\u001b[0m                                 Traceback (most recent call last)",
      "\u001b[0;32m<ipython-input-101-8730c32d5239>\u001b[0m in \u001b[0;36m<module>\u001b[0;34m\u001b[0m\n\u001b[1;32m      7\u001b[0m \u001b[0;34m\u001b[0m\u001b[0m\n\u001b[1;32m      8\u001b[0m \u001b[0;34m\u001b[0m\u001b[0m\n\u001b[0;32m----> 9\u001b[0;31m \u001b[0mprint\u001b[0m\u001b[0;34m(\u001b[0m\u001b[0msimpsons\u001b[0m\u001b[0;34m[\u001b[0m\u001b[0;34m\"son\"\u001b[0m\u001b[0;34m]\u001b[0m \u001b[0;34m+\u001b[0m \u001b[0msimpsons\u001b[0m\u001b[0;34m[\u001b[0m\u001b[0;34m\"daughters\"\u001b[0m\u001b[0;34m]\u001b[0m\u001b[0;34m)\u001b[0m  \u001b[0;31m#문자열과 리스트는 함께 더할 수 없다.\u001b[0m\u001b[0;34m\u001b[0m\u001b[0;34m\u001b[0m\u001b[0m\n\u001b[0m",
      "\u001b[0;31mTypeError\u001b[0m: can only concatenate str (not \"list\") to str"
     ]
    }
   ],
   "source": [
    "simpsons = {'dad': 'Homer', 'mom': 'Julie', 'son': 'Bart', 'daughters': ['Lisa', 'Maggie'],'etc':[\"Akira\",\"Aristotle\",\"Gil\"]}\n",
    "\n",
    "print(simpsons[\"dad\"])\n",
    "print(simpsons[\"daughters\"])\n",
    "print(simpsons[\"dad\"] + simpsons[\"mom\"])\n",
    "print(simpsons[\"daughters\"] + simpsons[\"etc\"]) #리스트와 리스트는 함께 더할 수 있다.\n",
    "\n",
    "print(simpsons[\"son\"] + simpsons[\"daughters\"])  #오류 발생! 문자열과 리스트는 함께 더할 수 없다."
   ]
  },
  {
   "cell_type": "markdown",
   "metadata": {},
   "source": [
    "*** 딕셔너리 자료형에서는 인덱싱이나 슬라이싱은 불가능하다**"
   ]
  },
  {
   "cell_type": "code",
   "execution_count": 102,
   "metadata": {},
   "outputs": [
    {
     "ename": "KeyError",
     "evalue": "0",
     "output_type": "error",
     "traceback": [
      "\u001b[0;31m---------------------------------------------------------------------------\u001b[0m",
      "\u001b[0;31mKeyError\u001b[0m                                  Traceback (most recent call last)",
      "\u001b[0;32m<ipython-input-102-bb7bb6c639af>\u001b[0m in \u001b[0;36m<module>\u001b[0;34m\u001b[0m\n\u001b[1;32m      1\u001b[0m \u001b[0;31m#인덱싱 시도\u001b[0m\u001b[0;34m\u001b[0m\u001b[0;34m\u001b[0m\u001b[0;34m\u001b[0m\u001b[0m\n\u001b[1;32m      2\u001b[0m \u001b[0;34m\u001b[0m\u001b[0m\n\u001b[0;32m----> 3\u001b[0;31m \u001b[0mprint\u001b[0m\u001b[0;34m(\u001b[0m\u001b[0msimpsons\u001b[0m\u001b[0;34m[\u001b[0m\u001b[0;36m0\u001b[0m\u001b[0;34m]\u001b[0m\u001b[0;34m)\u001b[0m\u001b[0;34m\u001b[0m\u001b[0;34m\u001b[0m\u001b[0m\n\u001b[0m",
      "\u001b[0;31mKeyError\u001b[0m: 0"
     ]
    }
   ],
   "source": [
    "#인덱싱 시도\n",
    "\n",
    "print(simpsons[0])"
   ]
  },
  {
   "cell_type": "code",
   "execution_count": 103,
   "metadata": {},
   "outputs": [
    {
     "ename": "TypeError",
     "evalue": "unhashable type: 'slice'",
     "output_type": "error",
     "traceback": [
      "\u001b[0;31m---------------------------------------------------------------------------\u001b[0m",
      "\u001b[0;31mTypeError\u001b[0m                                 Traceback (most recent call last)",
      "\u001b[0;32m<ipython-input-103-c3ab0883d844>\u001b[0m in \u001b[0;36m<module>\u001b[0;34m\u001b[0m\n\u001b[1;32m      1\u001b[0m \u001b[0;31m#슬라이싱 시도\u001b[0m\u001b[0;34m\u001b[0m\u001b[0;34m\u001b[0m\u001b[0;34m\u001b[0m\u001b[0m\n\u001b[1;32m      2\u001b[0m \u001b[0;34m\u001b[0m\u001b[0m\n\u001b[0;32m----> 3\u001b[0;31m \u001b[0mprint\u001b[0m\u001b[0;34m(\u001b[0m\u001b[0msimpsons\u001b[0m\u001b[0;34m[\u001b[0m\u001b[0;36m2\u001b[0m\u001b[0;34m:\u001b[0m\u001b[0;36m4\u001b[0m\u001b[0;34m]\u001b[0m\u001b[0;34m)\u001b[0m\u001b[0;34m\u001b[0m\u001b[0;34m\u001b[0m\u001b[0m\n\u001b[0m",
      "\u001b[0;31mTypeError\u001b[0m: unhashable type: 'slice'"
     ]
    }
   ],
   "source": [
    "#슬라이싱 시도\n",
    "\n",
    "print(simpsons[2:4])"
   ]
  },
  {
   "cell_type": "code",
   "execution_count": 105,
   "metadata": {},
   "outputs": [
    {
     "name": "stdout",
     "output_type": "stream",
     "text": [
      "family\n"
     ]
    }
   ],
   "source": [
    "#인덱싱과 비슷한 형태이지만, Key값을 통해 Value값을 출력! (인덱싱 아닙니다)\n",
    "\n",
    "dictionary2 = {1:\"family\",2:\"friends\",3:\"acquaintance\"}\n",
    "print(dictionary2[1])"
   ]
  },
  {
   "cell_type": "markdown",
   "metadata": {},
   "source": [
    "### 3.3.2 딕셔너리 활용시 <span style=\"color:red\">주의사항</span>"
   ]
  },
  {
   "cell_type": "markdown",
   "metadata": {},
   "source": [
    "*** 중복되는 Key값이 있을 때, <span style=\"text-decoration:underline\">가장 마지막</span>인 것 이외의 나머지는 모두 무시된다.**"
   ]
  },
  {
   "cell_type": "code",
   "execution_count": 106,
   "metadata": {},
   "outputs": [
    {
     "name": "stdout",
     "output_type": "stream",
     "text": [
      "{1: 'd'}\n"
     ]
    }
   ],
   "source": [
    "a = {1:'a',1:'b',1:'c',1:'d'}\n",
    "\n",
    "print(a)"
   ]
  },
  {
   "cell_type": "markdown",
   "metadata": {},
   "source": [
    "*** Key에는 리스트를 쓸 수 없다. (리스트는 변할 수 있는 자료이기 때문이다)**\n",
    "\n",
    "*** 단, 튜플은 쓸 수 있다. (튜플은 변할 수 없는 자료이기 때문이다)**"
   ]
  },
  {
   "cell_type": "code",
   "execution_count": 107,
   "metadata": {},
   "outputs": [
    {
     "ename": "TypeError",
     "evalue": "unhashable type: 'list'",
     "output_type": "error",
     "traceback": [
      "\u001b[0;31m---------------------------------------------------------------------------\u001b[0m",
      "\u001b[0;31mTypeError\u001b[0m                                 Traceback (most recent call last)",
      "\u001b[0;32m<ipython-input-107-5b146f16a370>\u001b[0m in \u001b[0;36m<module>\u001b[0;34m\u001b[0m\n\u001b[1;32m      1\u001b[0m \u001b[0;31m#Key에 리스트 사용 시도\u001b[0m\u001b[0;34m\u001b[0m\u001b[0;34m\u001b[0m\u001b[0;34m\u001b[0m\u001b[0m\n\u001b[1;32m      2\u001b[0m \u001b[0;34m\u001b[0m\u001b[0m\n\u001b[0;32m----> 3\u001b[0;31m \u001b[0mb\u001b[0m \u001b[0;34m=\u001b[0m \u001b[0;34m{\u001b[0m\u001b[0;34m[\u001b[0m\u001b[0;36m1\u001b[0m\u001b[0;34m,\u001b[0m\u001b[0;36m2\u001b[0m\u001b[0;34m]\u001b[0m\u001b[0;34m:\u001b[0m\u001b[0;34m'a'\u001b[0m\u001b[0;34m}\u001b[0m\u001b[0;34m\u001b[0m\u001b[0;34m\u001b[0m\u001b[0m\n\u001b[0m",
      "\u001b[0;31mTypeError\u001b[0m: unhashable type: 'list'"
     ]
    }
   ],
   "source": [
    "#Key에 리스트 시도\n",
    "\n",
    "b = {[1,2]:'a'}\n",
    "print(b)"
   ]
  },
  {
   "cell_type": "code",
   "execution_count": 111,
   "metadata": {},
   "outputs": [
    {
     "name": "stdout",
     "output_type": "stream",
     "text": [
      "{(1, 2): 'a'}\n",
      "{(3, 4, 5): 'b'}\n"
     ]
    }
   ],
   "source": [
    "#Key에 튜플 적용\n",
    "\n",
    "c = {(1,2):'a'}\n",
    "print(c)\n",
    "\n",
    "d = (3,4,5)  #변수 사용하여 Key에 튜플 적용\n",
    "e = {d:'b'}\n",
    "print(e)"
   ]
  },
  {
   "cell_type": "markdown",
   "metadata": {},
   "source": [
    "## 3.4 딕셔너리 관련 함수들"
   ]
  },
  {
   "cell_type": "markdown",
   "metadata": {},
   "source": [
    "### 3.4.1 Key 리스트 만들기\n",
    "\n",
    "* **a.keys( )** 함수는 딕셔너리 a의 Key만 모아서 **dict_keys** 객체를 만들어준다.\n",
    "\n",
    "\n",
    "* 이때, dict_keys 객체는 append,sort,reverse,index와 같은 리스트 관련 함수를 사용할 수 없다.\n",
    "\n",
    "\n",
    "* dict_keys 객체를 리스트 자료형으로 만들기 위해서는 **list(a.keys( ))** 함수를 사용하면 된다."
   ]
  },
  {
   "cell_type": "code",
   "execution_count": 112,
   "metadata": {},
   "outputs": [
    {
     "name": "stdout",
     "output_type": "stream",
     "text": [
      "dict_keys(['dad', 'mom', 'son', 'daughters'])\n",
      "['dad', 'mom', 'son', 'daughters']\n"
     ]
    }
   ],
   "source": [
    "simpsons = {'dad': 'Homer', 'mom': 'Julie', 'son': 'Bart', 'daughters': ['Lisa', 'Maggie']}\n",
    "\n",
    "print(simpsons.keys())  #dict_keys객체 만들기\n",
    "print(list(simpsons.keys()))  #리스트 자료형 만들기"
   ]
  },
  {
   "cell_type": "markdown",
   "metadata": {},
   "source": [
    "### 3.4.2 Value 리스트 만들기\n",
    "\n",
    "* **a.values( )** 함수는 딕셔너리 a의 Key만 모아서 **dict_values** 객체를 만들어준다.\n",
    "\n",
    "\n",
    "* 이때, dict_values 객체는 append,sort,reverse,index와 같은 리스트 관련 함수를 사용할 수 없다.\n",
    "\n",
    "\n",
    "* dict_values 객체를 리스트 자료형으로 만들기 위해서는 **list(a.values( ))** 함수를 사용하면 된다."
   ]
  },
  {
   "cell_type": "code",
   "execution_count": 113,
   "metadata": {},
   "outputs": [
    {
     "name": "stdout",
     "output_type": "stream",
     "text": [
      "dict_values(['Homer', 'Julie', 'Bart', ['Lisa', 'Maggie']])\n",
      "['Homer', 'Julie', 'Bart', ['Lisa', 'Maggie']]\n"
     ]
    }
   ],
   "source": [
    "simpsons = {'dad': 'Homer', 'mom': 'Julie', 'son': 'Bart', 'daughters': ['Lisa', 'Maggie']}\n",
    "\n",
    "print(simpsons.values())  #dict_values객체 만들기\n",
    "print(list(simpsons.values()))  #리스트 자료형 만들기"
   ]
  },
  {
   "cell_type": "markdown",
   "metadata": {},
   "source": [
    "### 3.4.3 Key, Value 쌍 리스트 만들기\n",
    "\n",
    "* **a.items( )** 함수는 딕셔너리 a의 Key만 모아서 **dict_items** 객체를 만들어준다.\n",
    "\n",
    "\n",
    "* 이때, dict_items 객체는 append,sort,reverse,index와 같은 리스트 관련 함수를 사용할 수 없다.\n",
    "\n",
    "\n",
    "* dict_items 객체를 리스트 자료형으로 만들기 위해서는 **list(a.items( ))** 함수를 사용하면 된다."
   ]
  },
  {
   "cell_type": "code",
   "execution_count": 114,
   "metadata": {},
   "outputs": [
    {
     "name": "stdout",
     "output_type": "stream",
     "text": [
      "dict_items([('dad', 'Homer'), ('mom', 'Julie'), ('son', 'Bart'), ('daughters', ['Lisa', 'Maggie'])])\n",
      "[('dad', 'Homer'), ('mom', 'Julie'), ('son', 'Bart'), ('daughters', ['Lisa', 'Maggie'])]\n"
     ]
    }
   ],
   "source": [
    "simpsons = {'dad': 'Homer', 'mom': 'Julie', 'son': 'Bart', 'daughters': ['Lisa', 'Maggie']}\n",
    "\n",
    "print(simpsons.items())  #dict_items객체 만들기\n",
    "print(list(simpsons.items()))  #리스트 자료형 만들기"
   ]
  },
  {
   "cell_type": "markdown",
   "metadata": {},
   "source": [
    "### 3.4.4 Key, Value 쌍 모두 지우기\n",
    "\n",
    "* **a.clear( )** 함수는 딕셔너리 안의 모든 요소를 삭제한다.\n",
    "\n",
    "\n",
    "* 빈 리스트를 [ ], 빈 튜플을 ( )로 표현하는 것처럼 **빈 딕셔너리는 { }**로 표현한다."
   ]
  },
  {
   "cell_type": "code",
   "execution_count": 119,
   "metadata": {},
   "outputs": [
    {
     "name": "stdout",
     "output_type": "stream",
     "text": [
      "{}\n"
     ]
    }
   ],
   "source": [
    "simpsons = {'dad': 'Homer', 'mom': 'Julie', 'son': 'Bart', 'daughters': ['Lisa', 'Maggie']}\n",
    "\n",
    "simpsons.clear()\n",
    "print(simpsons)"
   ]
  },
  {
   "cell_type": "code",
   "execution_count": 120,
   "metadata": {},
   "outputs": [
    {
     "name": "stdout",
     "output_type": "stream",
     "text": [
      "None\n"
     ]
    }
   ],
   "source": [
    "print(simpsons.clear())"
   ]
  },
  {
   "cell_type": "markdown",
   "metadata": {},
   "source": [
    "### 3.4.5 Key로 Value 얻기\n",
    "\n",
    "* a[Key]처럼, **a.get(Key)** 함수는 Key값에 해당하는 Value를 돌려준다.\n",
    "\n",
    "\n",
    "* 이때, a.get(Key)함수는 존재하지 않는 Key값을 찾으려 할 때 오류대신 None값을 돌려준다.\n",
    "\n",
    "\n",
    "* 존재하지 않는 Key값을 찾으려 할 때, None 대신 다른 디폴트 값을 가져오게 하고 싶다면 **a.get(Key,'디폴트값')** 함수를 사용한다."
   ]
  },
  {
   "cell_type": "code",
   "execution_count": 123,
   "metadata": {},
   "outputs": [
    {
     "name": "stdout",
     "output_type": "stream",
     "text": [
      "Homer\n",
      "Homer\n"
     ]
    }
   ],
   "source": [
    "#a[Key]와 a.get(Key) 비교: 존재하는 Key값 찾기\n",
    "\n",
    "simpsons = {'dad': 'Homer', 'mom': 'Julie', 'son': 'Bart', 'daughters': ['Lisa', 'Maggie']}\n",
    "\n",
    "print(simpsons['dad'])\n",
    "print(simpsons.get('dad'))"
   ]
  },
  {
   "cell_type": "code",
   "execution_count": 124,
   "metadata": {},
   "outputs": [
    {
     "ename": "KeyError",
     "evalue": "'dog'",
     "output_type": "error",
     "traceback": [
      "\u001b[0;31m---------------------------------------------------------------------------\u001b[0m",
      "\u001b[0;31mKeyError\u001b[0m                                  Traceback (most recent call last)",
      "\u001b[0;32m<ipython-input-124-589dc76b5779>\u001b[0m in \u001b[0;36m<module>\u001b[0;34m\u001b[0m\n\u001b[0;32m----> 1\u001b[0;31m \u001b[0mprint\u001b[0m\u001b[0;34m(\u001b[0m\u001b[0msimpsons\u001b[0m\u001b[0;34m[\u001b[0m\u001b[0;34m'dog'\u001b[0m\u001b[0;34m]\u001b[0m\u001b[0;34m)\u001b[0m\u001b[0;34m\u001b[0m\u001b[0;34m\u001b[0m\u001b[0m\n\u001b[0m\u001b[1;32m      2\u001b[0m \u001b[0mprint\u001b[0m\u001b[0;34m(\u001b[0m\u001b[0msimpsons\u001b[0m\u001b[0;34m.\u001b[0m\u001b[0mget\u001b[0m\u001b[0;34m(\u001b[0m\u001b[0;34m'dog'\u001b[0m\u001b[0;34m)\u001b[0m\u001b[0;34m)\u001b[0m\u001b[0;34m\u001b[0m\u001b[0;34m\u001b[0m\u001b[0m\n",
      "\u001b[0;31mKeyError\u001b[0m: 'dog'"
     ]
    }
   ],
   "source": [
    "#a[Key]와 a.get(Key) 비교: 존재하지 않는 Key값 찾기\n",
    "\n",
    "print(simpsons['dog'])  #오류 발생!"
   ]
  },
  {
   "cell_type": "code",
   "execution_count": 125,
   "metadata": {},
   "outputs": [
    {
     "name": "stdout",
     "output_type": "stream",
     "text": [
      "None\n"
     ]
    }
   ],
   "source": [
    "print(simpsons.get('dog'))  #오류 대신 None으로 돌려준다.\n",
    "                            #이때, None은 '거짓'이라는 뜻이다."
   ]
  },
  {
   "cell_type": "code",
   "execution_count": 128,
   "metadata": {},
   "outputs": [
    {
     "name": "stdout",
     "output_type": "stream",
     "text": [
      "None\n",
      "Santa\n"
     ]
    }
   ],
   "source": [
    "#a.get(Key,'디폴트값') 함수 사용\n",
    "\n",
    "simpsons = {'dad': 'Homer', 'mom': 'Julie', 'son': 'Bart', 'daughters': ['Lisa', 'Maggie']}\n",
    "print(simpsons.get('dog'))\n",
    "print(simpsons.get('dog','Santa'))"
   ]
  },
  {
   "cell_type": "markdown",
   "metadata": {},
   "source": [
    "### 3.4.6 해당 Key가 딕셔너리 안에 있는지 조사하기\n",
    "\n",
    "* **'Key' in a** 를 호출하면 True 또는 False로 해당 Key가 딕셔너리 a 안에 있는지 확인해준다."
   ]
  },
  {
   "cell_type": "code",
   "execution_count": 129,
   "metadata": {},
   "outputs": [
    {
     "name": "stdout",
     "output_type": "stream",
     "text": [
      "True\n",
      "False\n"
     ]
    }
   ],
   "source": [
    "simpsons = {'dad': 'Homer', 'mom': 'Julie', 'son': 'Bart', 'daughters': ['Lisa', 'Maggie']}\n",
    "\n",
    "print('daughters' in simpsons)\n",
    "print('pet' in simpsons)"
   ]
  },
  {
   "cell_type": "markdown",
   "metadata": {},
   "source": [
    "# 4. 집합 자료형 (Set)\n",
    "\n",
    "* 집합에 관련된 것을 쉽게 처리하기 위해 만든 자료형\n",
    "\n",
    "***\n",
    "\n",
    "* 집합의 2가지 큰 특징: (1) 중복을 허용하지 않는다, (2) 순서가 없다\n",
    "\n",
    "\n",
    "* 중복을 허용하지 않는 집합의 특징은 자료형의 중복을 제거하기 위한 필터 역할로 사용된다.\n",
    "\n",
    "\n",
    "* 집합 자료형은 순서가 없기 때문에 인덱싱과 슬라이싱으로 값을 얻을 수 없다.\n",
    "* 인덱싱을 사용하기 원한다면, 집합 자료를 리스트나 튜플 자료형으로 변환해야 한다."
   ]
  },
  {
   "cell_type": "markdown",
   "metadata": {},
   "source": [
    "## 4.1 집합 자료형 예시\n",
    "\n",
    "* set 키워드 사용"
   ]
  },
  {
   "cell_type": "code",
   "execution_count": 131,
   "metadata": {},
   "outputs": [
    {
     "name": "stdout",
     "output_type": "stream",
     "text": [
      "{1, 2, 3, 4, 5}\n",
      "{1, 2, 3, 4, 5}\n",
      "{'가', '다', '나', '라'}\n"
     ]
    }
   ],
   "source": [
    "#set( )안에 리스트 입력\n",
    "\n",
    "a = set([1,2,3,4,5])\n",
    "b = set([1,2,3,3,4,4,4,5])  #중복된 값은 자동으로 무시\n",
    "text = set([\"가\",\"나\",\"다\",\"다\",\"라\"])\n",
    "\n",
    "print(a)\n",
    "print(b)\n",
    "print(text)"
   ]
  },
  {
   "cell_type": "code",
   "execution_count": 132,
   "metadata": {},
   "outputs": [
    {
     "data": {
      "text/plain": [
       "{'G', 'd', 'g', 'i', 'm', 'n', 'o', 'r'}"
      ]
     },
     "execution_count": 132,
     "metadata": {},
     "output_type": "execute_result"
    }
   ],
   "source": [
    "#set( )안에 문자열 입력\n",
    "\n",
    "c = set(\"Goodmorning\")\n",
    "c"
   ]
  },
  {
   "cell_type": "code",
   "execution_count": 133,
   "metadata": {},
   "outputs": [
    {
     "data": {
      "text/plain": [
       "set()"
      ]
     },
     "execution_count": 133,
     "metadata": {},
     "output_type": "execute_result"
    }
   ],
   "source": [
    "#비어있는 집합 자료형은 set( )로 표현\n",
    "\n",
    "d = set()\n",
    "d"
   ]
  },
  {
   "cell_type": "code",
   "execution_count": 139,
   "metadata": {},
   "outputs": [
    {
     "ename": "TypeError",
     "evalue": "'set' object is not subscriptable",
     "output_type": "error",
     "traceback": [
      "\u001b[0;31m---------------------------------------------------------------------------\u001b[0m",
      "\u001b[0;31mTypeError\u001b[0m                                 Traceback (most recent call last)",
      "\u001b[0;32m<ipython-input-139-8072862aed25>\u001b[0m in \u001b[0;36m<module>\u001b[0;34m\u001b[0m\n\u001b[1;32m      2\u001b[0m \u001b[0;34m\u001b[0m\u001b[0m\n\u001b[1;32m      3\u001b[0m \u001b[0ma\u001b[0m \u001b[0;34m=\u001b[0m \u001b[0mset\u001b[0m\u001b[0;34m(\u001b[0m\u001b[0;34m[\u001b[0m\u001b[0;36m1\u001b[0m\u001b[0;34m,\u001b[0m\u001b[0;36m2\u001b[0m\u001b[0;34m,\u001b[0m\u001b[0;36m3\u001b[0m\u001b[0;34m,\u001b[0m\u001b[0;36m4\u001b[0m\u001b[0;34m,\u001b[0m\u001b[0;36m5\u001b[0m\u001b[0;34m]\u001b[0m\u001b[0;34m)\u001b[0m\u001b[0;34m\u001b[0m\u001b[0;34m\u001b[0m\u001b[0m\n\u001b[0;32m----> 4\u001b[0;31m \u001b[0ma\u001b[0m\u001b[0;34m[\u001b[0m\u001b[0;36m0\u001b[0m\u001b[0;34m]\u001b[0m\u001b[0;34m\u001b[0m\u001b[0;34m\u001b[0m\u001b[0m\n\u001b[0m",
      "\u001b[0;31mTypeError\u001b[0m: 'set' object is not subscriptable"
     ]
    }
   ],
   "source": [
    "#집합 자료형은 인덱싱이나 슬라이싱으로 값을 얻을 수 없음\n",
    "\n",
    "a = set([1,2,3,4,5])\n",
    "a[0]"
   ]
  },
  {
   "cell_type": "code",
   "execution_count": 140,
   "metadata": {},
   "outputs": [
    {
     "name": "stdout",
     "output_type": "stream",
     "text": [
      "['Chandler', 'Monica', 'Joey', 'Pheobe', 'Rachel', 'Ross']\n",
      "('Chandler', 'Monica', 'Joey', 'Pheobe', 'Rachel', 'Ross')\n"
     ]
    }
   ],
   "source": [
    "#인덱싱을 사용하기 원한다면, 리스트, 튜플 자료형으로 변환 후 사용\n",
    "\n",
    "friends = set([\"Joey\",\"Rachel\",\"Monica\",\"Ross\",\"Chandler\",\"Pheobe\"])\n",
    "\n",
    "friends_list = list(friends)\n",
    "friends_tuple = tuple(friends)\n",
    "\n",
    "print(friends_list)\n",
    "print(friends_tuple)"
   ]
  },
  {
   "cell_type": "code",
   "execution_count": 141,
   "metadata": {},
   "outputs": [
    {
     "name": "stdout",
     "output_type": "stream",
     "text": [
      "Pheobe\n",
      "Pheobe\n"
     ]
    }
   ],
   "source": [
    "print(friends_list[3])\n",
    "print(friends_tuple[3])"
   ]
  },
  {
   "cell_type": "markdown",
   "metadata": {},
   "source": [
    "## 4.2 교집합, 합집합, 차집합 구하기\n",
    "\n",
    "***\n",
    "* 집합 자료형은 수학적 집합 연산이 가능하다. \n",
    "\n",
    "\n",
    "* 두 집합 자료형 S1과 S2가 있다고 가정:\n",
    "\n",
    "&ensp;&ensp;&ensp;&ensp;&ensp;&ensp;**1) 교집합: S1&S2** / **S1.intersection(S2)** / **S2.intersection(S1)**\n",
    "\n",
    "&ensp;&ensp;&ensp;&ensp;&ensp;&ensp;**2) 합집합: S1|S2** / **S1.union(S2)** / **S2.union(S1)**\n",
    "\n",
    "&ensp;&ensp;&ensp;&ensp;&ensp;&ensp;**3) 차집합: S1-S2** / **S1.difference(S2)** / **S2.difference(S1)**\n"
   ]
  },
  {
   "cell_type": "code",
   "execution_count": 146,
   "metadata": {},
   "outputs": [],
   "source": [
    "s1 = set([3,6,9,12,15,18,21,24])\n",
    "s2 = set([4,8,12,16,20,24])"
   ]
  },
  {
   "cell_type": "code",
   "execution_count": 147,
   "metadata": {},
   "outputs": [
    {
     "name": "stdout",
     "output_type": "stream",
     "text": [
      "{24, 12}\n",
      "{24, 12}\n",
      "{24, 12}\n",
      "{24, 12}\n"
     ]
    }
   ],
   "source": [
    "#교집합\n",
    "\n",
    "print(s1&s2)\n",
    "print(s2&s1)\n",
    "print(s1.intersection(s2))\n",
    "print(s2.intersection (s1))"
   ]
  },
  {
   "cell_type": "code",
   "execution_count": 148,
   "metadata": {},
   "outputs": [
    {
     "name": "stdout",
     "output_type": "stream",
     "text": [
      "{3, 4, 6, 8, 9, 12, 15, 16, 18, 20, 21, 24}\n",
      "{3, 4, 6, 8, 9, 12, 15, 16, 18, 20, 21, 24}\n",
      "{3, 4, 6, 8, 9, 12, 15, 16, 18, 20, 21, 24}\n",
      "{3, 4, 6, 8, 9, 12, 15, 16, 18, 20, 21, 24}\n"
     ]
    }
   ],
   "source": [
    "#합집합\n",
    "\n",
    "print(s1|s2)\n",
    "print(s2|s1)\n",
    "print(s1.union(s2))\n",
    "print(s2.union (s1))"
   ]
  },
  {
   "cell_type": "code",
   "execution_count": 149,
   "metadata": {},
   "outputs": [
    {
     "name": "stdout",
     "output_type": "stream",
     "text": [
      "{3, 6, 9, 15, 18, 21}\n",
      "{3, 6, 9, 15, 18, 21}\n",
      "{8, 16, 4, 20}\n",
      "{8, 16, 4, 20}\n"
     ]
    }
   ],
   "source": [
    "#차집합\n",
    "\n",
    "print(s1-s2)  #s1에서 s2와 같은 요솟값 빼기\n",
    "print(s1.difference(s2))\n",
    "\n",
    "print(s2-s1)  #s2에서 s1과 같은 요솟값 빼기\n",
    "print(s2.difference (s1))"
   ]
  },
  {
   "cell_type": "markdown",
   "metadata": {},
   "source": [
    "## 4.3 집합 자료형 관련 함수들"
   ]
  },
  {
   "cell_type": "markdown",
   "metadata": {},
   "source": [
    "### 4.3.1 값 1개 추가하기\n",
    "\n",
    "* **a.add( )** 함수 사용"
   ]
  },
  {
   "cell_type": "code",
   "execution_count": 151,
   "metadata": {},
   "outputs": [
    {
     "name": "stdout",
     "output_type": "stream",
     "text": [
      "{0, 3, 6, 9, 12, 15, 18, 21, 24}\n"
     ]
    }
   ],
   "source": [
    "s1 = set([3,6,9,12,15,18,21,24])\n",
    "\n",
    "s1.add(0)\n",
    "print(s1)"
   ]
  },
  {
   "cell_type": "markdown",
   "metadata": {},
   "source": [
    "### 4.3.2 값 여러 개 추가하기\n",
    "\n",
    "* **a.update( )** 함수 사용"
   ]
  },
  {
   "cell_type": "code",
   "execution_count": 158,
   "metadata": {},
   "outputs": [
    {
     "name": "stdout",
     "output_type": "stream",
     "text": [
      "{0, 3, 6, 9, 12, 15, 18, 21, 24, 27, 30}\n"
     ]
    }
   ],
   "source": [
    "s1 = set([3,6,9,12,15,18,21,24])\n",
    "\n",
    "s1.update([0,27,30])  #추가하고 싶은 여러 값들을 리스트로 만들어주는 것 잊지 말자!\n",
    "print(s1)"
   ]
  },
  {
   "cell_type": "markdown",
   "metadata": {},
   "source": [
    "### 4.3.3 특정 값 1개 제거하기\n",
    "\n",
    "* **a.remove( )** 함수 사용"
   ]
  },
  {
   "cell_type": "code",
   "execution_count": 159,
   "metadata": {},
   "outputs": [
    {
     "name": "stdout",
     "output_type": "stream",
     "text": [
      "{3, 6, 9, 12, 15, 18, 21}\n"
     ]
    }
   ],
   "source": [
    "s1 = set([3,6,9,12,15,18,21,24])\n",
    "\n",
    "s1.remove(24) \n",
    "print(s1)"
   ]
  },
  {
   "cell_type": "markdown",
   "metadata": {},
   "source": [
    "# 5. 불 자료형 (Bool)\n",
    "\n",
    "* True와 False를 나타내는 자료형"
   ]
  },
  {
   "cell_type": "markdown",
   "metadata": {},
   "source": [
    "## 5.1 불 자료형 예시\n",
    "\n",
    "* 컴퓨터가 무엇이 옳고 그름을 판단할 수 있도록 무엇이 True이고 무엇이 False인지를 나타내는 데이터가 필요하다.\n",
    "\n",
    "\n",
    "* <span style=\"color:red\">주의</span>: True와 False로 쓰며, \"True\", \"False\", true, false와 같이 사용하지 않는다."
   ]
  },
  {
   "cell_type": "code",
   "execution_count": 161,
   "metadata": {},
   "outputs": [],
   "source": [
    "#불 자료형 생성\n",
    "\n",
    "a = True\n",
    "b = False"
   ]
  },
  {
   "cell_type": "code",
   "execution_count": 164,
   "metadata": {},
   "outputs": [
    {
     "name": "stdout",
     "output_type": "stream",
     "text": [
      "<class 'bool'>\n",
      "<class 'bool'>\n"
     ]
    }
   ],
   "source": [
    "#type(x)로 x의 자료형을 확인\n",
    "\n",
    "print(type(a))\n",
    "print(type(b))"
   ]
  },
  {
   "cell_type": "code",
   "execution_count": 168,
   "metadata": {},
   "outputs": [
    {
     "name": "stdout",
     "output_type": "stream",
     "text": [
      "<class 'str'>\n"
     ]
    }
   ],
   "source": [
    "#불 자료형은 문자열과 다르다. \n",
    "\n",
    "c = \"True\"\n",
    "print(type(c))"
   ]
  },
  {
   "cell_type": "code",
   "execution_count": 165,
   "metadata": {},
   "outputs": [
    {
     "data": {
      "text/plain": [
       "True"
      ]
     },
     "execution_count": 165,
     "metadata": {},
     "output_type": "execute_result"
    }
   ],
   "source": [
    "#불 자료형은 조건문의 리턴값으로 사용된다 (True, False 판별)\n",
    "\n",
    "a == a  #\"a와 a가 같은가?\"를 묻는 조건문"
   ]
  },
  {
   "cell_type": "code",
   "execution_count": 170,
   "metadata": {},
   "outputs": [
    {
     "data": {
      "text/plain": [
       "False"
      ]
     },
     "execution_count": 170,
     "metadata": {},
     "output_type": "execute_result"
    }
   ],
   "source": [
    "a == b"
   ]
  },
  {
   "cell_type": "code",
   "execution_count": 169,
   "metadata": {},
   "outputs": [
    {
     "data": {
      "text/plain": [
       "False"
      ]
     },
     "execution_count": 169,
     "metadata": {},
     "output_type": "execute_result"
    }
   ],
   "source": [
    "\"스폰지밥\" == \"뚱이\""
   ]
  },
  {
   "cell_type": "code",
   "execution_count": 171,
   "metadata": {},
   "outputs": [
    {
     "data": {
      "text/plain": [
       "True"
      ]
     },
     "execution_count": 171,
     "metadata": {},
     "output_type": "execute_result"
    }
   ],
   "source": [
    "100 > 10"
   ]
  },
  {
   "cell_type": "code",
   "execution_count": 172,
   "metadata": {},
   "outputs": [
    {
     "data": {
      "text/plain": [
       "False"
      ]
     },
     "execution_count": 172,
     "metadata": {},
     "output_type": "execute_result"
    }
   ],
   "source": [
    "-5 > 2"
   ]
  },
  {
   "cell_type": "markdown",
   "metadata": {},
   "source": [
    "## 5.2 자료형의 참과 거짓\n",
    "\n",
    "* 자료형에도 참과 거짓이 있으며, 불 자료형을 출력하여 확인이 가능하다."
   ]
  },
  {
   "cell_type": "markdown",
   "metadata": {},
   "source": [
    "*** 문자형**"
   ]
  },
  {
   "cell_type": "code",
   "execution_count": 173,
   "metadata": {},
   "outputs": [
    {
     "data": {
      "text/plain": [
       "True"
      ]
     },
     "execution_count": 173,
     "metadata": {},
     "output_type": "execute_result"
    }
   ],
   "source": [
    "#True: 요소가 있을 경우\n",
    "\n",
    "bool(\"A\")"
   ]
  },
  {
   "cell_type": "code",
   "execution_count": 174,
   "metadata": {},
   "outputs": [
    {
     "data": {
      "text/plain": [
       "False"
      ]
     },
     "execution_count": 174,
     "metadata": {},
     "output_type": "execute_result"
    }
   ],
   "source": [
    "#False: 요소가 없이 값이 비어 있는 경우\n",
    "\n",
    "bool(\"\")"
   ]
  },
  {
   "cell_type": "markdown",
   "metadata": {},
   "source": [
    "*** 리스트**"
   ]
  },
  {
   "cell_type": "code",
   "execution_count": 176,
   "metadata": {},
   "outputs": [
    {
     "data": {
      "text/plain": [
       "True"
      ]
     },
     "execution_count": 176,
     "metadata": {},
     "output_type": "execute_result"
    }
   ],
   "source": [
    "#True\n",
    "\n",
    "bool([1,2,3])"
   ]
  },
  {
   "cell_type": "code",
   "execution_count": 177,
   "metadata": {},
   "outputs": [
    {
     "data": {
      "text/plain": [
       "False"
      ]
     },
     "execution_count": 177,
     "metadata": {},
     "output_type": "execute_result"
    }
   ],
   "source": [
    "#False\n",
    "\n",
    "bool([])"
   ]
  },
  {
   "cell_type": "markdown",
   "metadata": {},
   "source": [
    "*** 튜플**"
   ]
  },
  {
   "cell_type": "code",
   "execution_count": 178,
   "metadata": {},
   "outputs": [
    {
     "data": {
      "text/plain": [
       "True"
      ]
     },
     "execution_count": 178,
     "metadata": {},
     "output_type": "execute_result"
    }
   ],
   "source": [
    "#True\n",
    "\n",
    "bool((1,2,3))"
   ]
  },
  {
   "cell_type": "code",
   "execution_count": 179,
   "metadata": {},
   "outputs": [
    {
     "data": {
      "text/plain": [
       "False"
      ]
     },
     "execution_count": 179,
     "metadata": {},
     "output_type": "execute_result"
    }
   ],
   "source": [
    "#False\n",
    "\n",
    "bool(())"
   ]
  },
  {
   "cell_type": "markdown",
   "metadata": {},
   "source": [
    "*** 딕셔너리**"
   ]
  },
  {
   "cell_type": "code",
   "execution_count": 180,
   "metadata": {},
   "outputs": [
    {
     "data": {
      "text/plain": [
       "True"
      ]
     },
     "execution_count": 180,
     "metadata": {},
     "output_type": "execute_result"
    }
   ],
   "source": [
    "#True\n",
    "\n",
    "bool({1:\"a\",2:\"b\",3:\"c\"})"
   ]
  },
  {
   "cell_type": "code",
   "execution_count": 181,
   "metadata": {},
   "outputs": [
    {
     "data": {
      "text/plain": [
       "False"
      ]
     },
     "execution_count": 181,
     "metadata": {},
     "output_type": "execute_result"
    }
   ],
   "source": [
    "#False\n",
    "\n",
    "bool({})"
   ]
  },
  {
   "cell_type": "markdown",
   "metadata": {},
   "source": [
    "*** 세트**"
   ]
  },
  {
   "cell_type": "code",
   "execution_count": 182,
   "metadata": {},
   "outputs": [
    {
     "data": {
      "text/plain": [
       "True"
      ]
     },
     "execution_count": 182,
     "metadata": {},
     "output_type": "execute_result"
    }
   ],
   "source": [
    "#True\n",
    "\n",
    "x = set([1,2,3])\n",
    "bool(x)"
   ]
  },
  {
   "cell_type": "code",
   "execution_count": 183,
   "metadata": {},
   "outputs": [
    {
     "data": {
      "text/plain": [
       "False"
      ]
     },
     "execution_count": 183,
     "metadata": {},
     "output_type": "execute_result"
    }
   ],
   "source": [
    "#False\n",
    "\n",
    "x = set()\n",
    "bool (x)"
   ]
  },
  {
   "cell_type": "markdown",
   "metadata": {},
   "source": [
    "*** 0 이외의 값은 True, 0은 False**"
   ]
  },
  {
   "cell_type": "code",
   "execution_count": 186,
   "metadata": {},
   "outputs": [
    {
     "name": "stdout",
     "output_type": "stream",
     "text": [
      "True\n",
      "True\n",
      "True\n",
      "False\n"
     ]
    }
   ],
   "source": [
    "#True\n",
    "print(bool(1))\n",
    "print(bool(2))\n",
    "print(bool(3))\n",
    "\n",
    "#False\n",
    "print(bool(0))"
   ]
  },
  {
   "cell_type": "markdown",
   "metadata": {},
   "source": [
    "*** None은 거짓**"
   ]
  },
  {
   "cell_type": "code",
   "execution_count": 187,
   "metadata": {},
   "outputs": [
    {
     "data": {
      "text/plain": [
       "False"
      ]
     },
     "execution_count": 187,
     "metadata": {},
     "output_type": "execute_result"
    }
   ],
   "source": [
    "bool(None)"
   ]
  },
  {
   "cell_type": "markdown",
   "metadata": {},
   "source": [
    "*** 조건문 2개가 and로 연결되었을 경우, 두 조건문 모두 참이어야 True**"
   ]
  },
  {
   "cell_type": "code",
   "execution_count": 188,
   "metadata": {},
   "outputs": [
    {
     "name": "stdout",
     "output_type": "stream",
     "text": [
      "True\n",
      "False\n"
     ]
    }
   ],
   "source": [
    "#True\n",
    "print(bool(10>5 and 3==3))\n",
    "\n",
    "#False\n",
    "print(bool(10>5 and 3==2))"
   ]
  },
  {
   "cell_type": "markdown",
   "metadata": {},
   "source": [
    "*** 조건문 2개가 or로 연결되었을 경우, 두 조건문 중 하나라도 참이면 True**"
   ]
  },
  {
   "cell_type": "code",
   "execution_count": 189,
   "metadata": {},
   "outputs": [
    {
     "name": "stdout",
     "output_type": "stream",
     "text": [
      "True\n",
      "True\n",
      "False\n"
     ]
    }
   ],
   "source": [
    "#True\n",
    "print(bool(10>5 or 3==3))\n",
    "\n",
    "print(bool(10>5 or 3==2))\n",
    "\n",
    "#False\n",
    "print(bool(10<5) or 3==2)"
   ]
  }
 ],
 "metadata": {
  "kernelspec": {
   "display_name": "Python 3",
   "language": "python",
   "name": "python3"
  },
  "language_info": {
   "codemirror_mode": {
    "name": "ipython",
    "version": 3
   },
   "file_extension": ".py",
   "mimetype": "text/x-python",
   "name": "python",
   "nbconvert_exporter": "python",
   "pygments_lexer": "ipython3",
   "version": "3.7.3"
  }
 },
 "nbformat": 4,
 "nbformat_minor": 2
}
